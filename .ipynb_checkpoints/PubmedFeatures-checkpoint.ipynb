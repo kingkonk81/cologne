{
 "cells": [
  {
   "cell_type": "code",
   "execution_count": 1,
   "metadata": {},
   "outputs": [],
   "source": [
    "import os\n",
    "import sys\n",
    "import networkx as nx\n",
    "import pandas as pd\n",
    "import json\n",
    "import random\n",
    "import copy\n",
    "from BinaryStream import BinaryStream"
   ]
  },
  {
   "cell_type": "code",
   "execution_count": 4,
   "metadata": {},
   "outputs": [],
   "source": [
    "graphname = 'Pubmed'\n",
    "emb_size = 50\n",
    "data_dir = os.path.expanduser(\"/home/koki/Desktop/Data/Graphs/\"+graphname)"
   ]
  },
  {
   "cell_type": "code",
   "execution_count": 5,
   "metadata": {},
   "outputs": [],
   "source": [
    "G = nx.Graph()\n",
    "with open(os.path.join(data_dir, graphname.lower() + \".cites\"), 'r') as edgefile:\n",
    "    for line in edgefile:\n",
    "        line_split = line.split('|')\n",
    "        if len(line_split) > 1:\n",
    "            l0 = line_split[0]\n",
    "            l1 = line_split[1]\n",
    "            u = l0.split(':')[1]\n",
    "            v = l1.split(':')[1]\n",
    "            G.add_edge(str(u).strip(), str(v).strip())\n",
    "        "
   ]
  },
  {
   "cell_type": "code",
   "execution_count": 6,
   "metadata": {},
   "outputs": [],
   "source": [
    "nodedata = {}\n",
    "with open(os.path.join(data_dir, graphname.lower() + \".content\"), 'r') as contentfile:\n",
    "    for line in contentfile:\n",
    "        line_split = line.split()\n",
    "        if len(line_split) < 3:\n",
    "            continue\n",
    "        if line_split[0] not in G.nodes():\n",
    "            continue\n",
    "        nodewords = {}\n",
    "        for i in range(2, len(line_split)):\n",
    "            w = line_split[i]\n",
    "            w_split = w.split('=')\n",
    "            if w_split[0] == 'summary':\n",
    "                continue\n",
    "            nodewords[w.split('=')[0]] = float(w.split('=')[1])\n",
    "        nodedata[line_split[0]] = (line_split[1], nodewords)\n",
    "    "
   ]
  },
  {
   "cell_type": "code",
   "execution_count": 7,
   "metadata": {},
   "outputs": [],
   "source": [
    "nodes = set()\n",
    "labels = set()\n",
    "word_indices = set()\n",
    "for node, features in nodedata.items():\n",
    "    nodes.add(node)\n",
    "    labels.add(features[0])\n",
    "    for w in features[1]:\n",
    "        word_indices.add(str(w))\n",
    "        \n",
    "nodes_path = os.path.join(data_dir, \"graph_nodes.txt\")\n",
    "with open(nodes_path, 'w') as outfile:\n",
    "    for node in nodes:\n",
    "        outfile.write(node + '\\n')\n",
    "        \n",
    "labels_path = os.path.join(data_dir, \"labels.txt\")\n",
    "with open(labels_path, 'w') as outfile:\n",
    "    for label in labels:\n",
    "        outfile.write(label + '\\n')\n",
    "        \n",
    "words_path = os.path.join(data_dir, \"words_indices.txt\")\n",
    "with open(words_path, 'w') as outfile:\n",
    "    for wi in word_indices:\n",
    "        outfile.write(wi + '\\n')"
   ]
  },
  {
   "cell_type": "code",
   "execution_count": 8,
   "metadata": {},
   "outputs": [
    {
     "name": "stdout",
     "output_type": "stream",
     "text": [
      "0 44327\n",
      "500 44327\n",
      "1000 44327\n",
      "1500 44327\n",
      "2000 44327\n",
      "2000 44327\n",
      "2500 44327\n",
      "3000 44327\n",
      "3000 44327\n",
      "3000 44327\n",
      "3000 44327\n",
      "3500 44327\n",
      "4000 44327\n"
     ]
    }
   ],
   "source": [
    "randompath = \"/home/koki/Desktop/Data/random/bits.02\"\n",
    "file = open(randompath, 'rb')\n",
    "stream = BinaryStream(file)\n",
    "removed_edges = set()\n",
    "H = copy.deepcopy(G)\n",
    "while len(removed_edges) < 0.1*G.number_of_edges():\n",
    "    if len(removed_edges)%500 == 0:\n",
    "        print(len(removed_edges), G.number_of_edges())\n",
    "    i = random.randint(0, H.number_of_edges())\n",
    "    edge = list(H.edges)[i]\n",
    "    u = edge[0]\n",
    "    v = edge[1]\n",
    "    if H.degree[u] > 1 and H.degree[v] > 1:\n",
    "        H.remove_edge(u, v)\n",
    "        removed_edges.add((u, v))\n",
    "G = copy.deepcopy(H)"
   ]
  },
  {
   "cell_type": "code",
   "execution_count": 9,
   "metadata": {},
   "outputs": [
    {
     "data": {
      "text/plain": [
       "4433"
      ]
     },
     "execution_count": 9,
     "metadata": {},
     "output_type": "execute_result"
    }
   ],
   "source": [
    "len(removed_edges)"
   ]
  },
  {
   "cell_type": "code",
   "execution_count": 10,
   "metadata": {},
   "outputs": [],
   "source": [
    "edges_path = os.path.join(data_dir, \"graph_edges.txt\")\n",
    "with open(edges_path, 'w') as outfile:\n",
    "    for edge in G.edges():\n",
    "        outfile.write(edge[0] + ':' + edge[1] + '\\n')"
   ]
  },
  {
   "cell_type": "code",
   "execution_count": 11,
   "metadata": {},
   "outputs": [],
   "source": [
    "removed_edges_path = os.path.join(data_dir, \"removed_edges.txt\")\n",
    "with open(removed_edges_path, 'w') as outfile:\n",
    "    for edge in removed_edges:\n",
    "        outfile.write(edge[0] + ':' + edge[1] + '\\n')"
   ]
  },
  {
   "cell_type": "code",
   "execution_count": 12,
   "metadata": {},
   "outputs": [],
   "source": [
    "subject, feats = nodedata['12187484']"
   ]
  },
  {
   "cell_type": "code",
   "execution_count": 13,
   "metadata": {},
   "outputs": [
    {
     "data": {
      "text/plain": [
       "{'w-rat': 0.09393489570187145,\n",
       " 'w-common': 0.028698458467273157,\n",
       " 'w-use': 0.01176012652514843,\n",
       " 'w-examin': 0.019375414753592942,\n",
       " 'w-pathogenesi': 0.06316131961800078,\n",
       " 'w-retinopathi': 0.17089058531360632,\n",
       " 'w-mous': 0.06770248034355311,\n",
       " 'w-studi': 0.017554610474374233,\n",
       " 'w-anim': 0.09840151241009497,\n",
       " 'w-model': 0.06269133038832954,\n",
       " 'w-metabol': 0.06232233318170418,\n",
       " 'w-abnorm': 0.11247870345628387,\n",
       " 'w-contribut': 0.02534773765067718,\n",
       " 'w-develop': 0.030388826051908086,\n",
       " 'w-investig': 0.02014612607562432,\n",
       " 'w-mice': 0.12119873074191996,\n",
       " 'w-2': 0.020571546813213402,\n",
       " 'w-month': 0.10361986739277738,\n",
       " 'w-compar': 0.02367140886552208,\n",
       " 'w-obtain': 0.03061978039959059,\n",
       " 'w-method': 0.014469342700659771,\n",
       " 'w-induc': 0.023516442702830022,\n",
       " 'w-6': 0.014872498687869398,\n",
       " 'w-inject': 0.028054999329982466,\n",
       " 'w-experiment': 0.06866787644053303,\n",
       " 'w-normal': 0.01777754779525323,\n",
       " 'w-diet': 0.031956203604979944,\n",
       " 'w-30': 0.02512131278693402,\n",
       " 'w-hyperglycemia': 0.02896081409449482,\n",
       " 'w-level': 0.03654889376239291,\n",
       " 'w-lipid': 0.030348254033687905,\n",
       " 'w-oxid': 0.09357481262838539,\n",
       " 'w-activ': 0.03623879368519283,\n",
       " 'w-protein': 0.022816081905882666,\n",
       " 'w-kinas': 0.04216587194300068,\n",
       " 'w-c': 0.031475602330090724,\n",
       " 'w-measur': 0.015735336508945104,\n",
       " 'w-result': 0.0075446006836769695,\n",
       " 'w-increas': 0.008769967077523864,\n",
       " 'w-retin': 0.04575957596508121,\n",
       " 'w-stress': 0.03732992842799811,\n",
       " 'w-3': 0.01261883005795486,\n",
       " 'w-similar': 0.01996113997855104,\n",
       " 'w-observ': 0.01828742887023866,\n",
       " 'w-conclus': 0.012866895687595546,\n",
       " 'w-play': 0.03099778146368732,\n",
       " 'w-import': 0.023158771568589955,\n",
       " 'w-role': 0.021716016285633605,\n",
       " 'w-present': 0.020784310286111652}"
      ]
     },
     "execution_count": 13,
     "metadata": {},
     "output_type": "execute_result"
    }
   ],
   "source": [
    "feats"
   ]
  },
  {
   "cell_type": "code",
   "execution_count": 14,
   "metadata": {},
   "outputs": [
    {
     "name": "stdout",
     "output_type": "stream",
     "text": [
      "w-retinopathi 72\n",
      "w-oxid 55\n",
      "w-anim 51\n",
      "w-abnorm 69\n",
      "w-mice 58\n"
     ]
    }
   ],
   "source": [
    "samples = {}\n",
    "for i in range(1000):\n",
    "    w = random.choices(population=list(feats.keys()), weights=list(feats.values()), k=1)[0]\n",
    "    samples.setdefault(w, 0)\n",
    "    samples[w] += 1\n",
    "\n",
    "for w, c in samples.items():\n",
    "    if c > 50:\n",
    "        print(w, c)"
   ]
  },
  {
   "cell_type": "code",
   "execution_count": 15,
   "metadata": {},
   "outputs": [],
   "source": [
    "def random_walk(G, node, depth, features):\n",
    "    node = str(node)\n",
    "    cnt = 0\n",
    "    curr_node = node\n",
    "    while cnt < depth and G.degree[curr_node] > 0:\n",
    "        nbrs = [nbr for nbr in G.neighbors(curr_node)]\n",
    "        curr_node = nbrs[random.randint(0, len(nbrs)-1)]\n",
    "        cnt += 1\n",
    "    subject, features_node = features[curr_node]\n",
    "    w = random.choices(population=list(features_node.keys()), weights=list(features_node.values()), k=1)[0]\n",
    "    return curr_node, subject, w"
   ]
  },
  {
   "cell_type": "code",
   "execution_count": 16,
   "metadata": {},
   "outputs": [
    {
     "data": {
      "text/plain": [
       "('3485683', 'label=2', 'w-anim')"
      ]
     },
     "execution_count": 16,
     "metadata": {},
     "output_type": "execute_result"
    }
   ],
   "source": [
    "node = list(G.nodes())[230]\n",
    "random_walk(G, node, 2, features=nodedata)"
   ]
  },
  {
   "cell_type": "code",
   "execution_count": 17,
   "metadata": {},
   "outputs": [],
   "source": [
    "def all_nodes_random_walk(G, depth, nr_walks, features):\n",
    "    vectors = {}\n",
    "    for node in G.nodes():\n",
    "        vectors[node] = [None for _ in range(nr_walks)]\n",
    "        for walk in range(nr_walks):\n",
    "            sample, subject, feature = random_walk(G, node, depth, features)\n",
    "            vectors[node][walk] = (sample, subject, feature)\n",
    "    return vectors"
   ]
  },
  {
   "cell_type": "code",
   "execution_count": 18,
   "metadata": {},
   "outputs": [],
   "source": [
    "vectors = all_nodes_random_walk(G, 2, emb_size, features=nodedata)"
   ]
  },
  {
   "cell_type": "code",
   "execution_count": 19,
   "metadata": {},
   "outputs": [
    {
     "data": {
      "text/plain": [
       "[('6452065', 'label=1', 'w-differ'),\n",
       " ('6452065', 'label=1', 'w-respect'),\n",
       " ('9764597', 'label=1', 'w-express'),\n",
       " ('9764597', 'label=1', 'w-express')]"
      ]
     },
     "execution_count": 19,
     "metadata": {},
     "output_type": "execute_result"
    }
   ],
   "source": [
    "vectors[list(vectors.keys())[10000]][:4]"
   ]
  },
  {
   "cell_type": "code",
   "execution_count": 20,
   "metadata": {},
   "outputs": [],
   "source": [
    "jsonpath = os.path.join(data_dir, \"vectors_rwalk\" + str(emb_size) + \".json\")\n",
    "with open(jsonpath, 'w') as outfile:\n",
    "    json.dump(vectors, outfile)"
   ]
  },
  {
   "cell_type": "code",
   "execution_count": 21,
   "metadata": {},
   "outputs": [],
   "source": [
    "def get_rnd_value(stream, min_val):\n",
    "    rval = 0\n",
    "    while rval < min_val:\n",
    "        rval = stream.readUInt64()/(2*sys.maxsize)\n",
    "    return rval"
   ]
  },
  {
   "cell_type": "code",
   "execution_count": 22,
   "metadata": {},
   "outputs": [],
   "source": [
    "def minwise_iterate(G, rnd_nodes, nr_iter, features):\n",
    "    node_labels = [{} for _ in range(nr_iter+1)]\n",
    "    if nr_iter < 1:\n",
    "        raise Exception(\"There must be at least one iteration\")\n",
    "    node_labels[0] = rnd_nodes\n",
    "    for iter in range(nr_iter):\n",
    "        rnd_nodes_iter = node_labels[iter]\n",
    "        print('Iteration', iter)\n",
    "        for u in G.nodes():\n",
    "            w_u = rnd_nodes_iter[u]\n",
    "            for v in G.neighbors(u):\n",
    "                w_u = min(rnd_nodes_iter[v], w_u)\n",
    "            node_labels[iter+1][u] = w_u\n",
    "    return node_labels"
   ]
  },
  {
   "cell_type": "code",
   "execution_count": 23,
   "metadata": {},
   "outputs": [],
   "source": [
    "def update_dict(d, k, stream, min_val):\n",
    "    if k not in d:\n",
    "        d[k] = get_rnd_value(stream, min_val)"
   ]
  },
  {
   "cell_type": "code",
   "execution_count": 24,
   "metadata": {},
   "outputs": [
    {
     "name": "stdout",
     "output_type": "stream",
     "text": [
      "[{'label=1': 0.37134512586272445, 'label=2': 0.7348662116490369, 'label=3': 0.06556687340200722}, {'label=1': 0.7356201732172408, 'label=2': 0.9963940057090247, 'label=3': 0.7311762590078548}]\n"
     ]
    }
   ],
   "source": [
    "# initialize random numbers for nodes and features for each embedding \n",
    "randompath = \"/home/koki/Desktop/Data/random/merged\"\n",
    "file = open(randompath, 'rb')\n",
    "stream = BinaryStream(file)\n",
    "min_val = 1e-6\n",
    "nodes_rnd = [{} for _ in range(emb_size)]\n",
    "cat_rnd = [{} for _ in range(emb_size)]\n",
    "feats_rnd = [{} for _ in range(emb_size)]\n",
    "for i in range(emb_size):\n",
    "    nodes_rnd_i = nodes_rnd[i]\n",
    "    cat_rnd_i = cat_rnd[i]\n",
    "    feats_rnd_i = feats_rnd[i]\n",
    "    for node, feats in nodedata.items():\n",
    "        update_dict(nodes_rnd_i, node, stream, min_val)\n",
    "        update_dict(cat_rnd_i, feats[0], stream, min_val)\n",
    "        for f, weight_f in feats[1].items():\n",
    "            update_dict(feats_rnd_i, f, stream, min_val)\n",
    "print(cat_rnd[:2])"
   ]
  },
  {
   "cell_type": "code",
   "execution_count": 25,
   "metadata": {},
   "outputs": [],
   "source": [
    "# initialize nodes with a sampled feature\n",
    "node_labels = [{} for _ in range(emb_size)]\n",
    "for i in range(emb_size):\n",
    "    node_labels_i = node_labels[i]\n",
    "    feats_rnd_i = feats_rnd[i]\n",
    "    for node, feats in nodedata.items():\n",
    "        min_feature_value = 1e3\n",
    "        min_feature = None\n",
    "        for f in feats[1]:\n",
    "            if feats_rnd_i[f] < min_feature_value:\n",
    "                min_feature = f\n",
    "                min_feature_value = feats_rnd_i[f]\n",
    "        node_labels_i[node] = (min_feature_value, node, feats[0], min_feature)"
   ]
  },
  {
   "cell_type": "code",
   "execution_count": 26,
   "metadata": {},
   "outputs": [
    {
     "name": "stdout",
     "output_type": "stream",
     "text": [
      "Iteration 0\n",
      "Iteration 1\n"
     ]
    }
   ],
   "source": [
    "nr_iter = 2\n",
    "node_labels_all = [[{} for _ in range(emb_size)] for _ in range(nr_iter+1)]\n",
    "node_labels_all[0] = node_labels\n",
    "for i in range(nr_iter):\n",
    "    node_labels_iter = node_labels_all[i]\n",
    "    print('Iteration', i)\n",
    "    for u in G.nodes():\n",
    "        for t in range(emb_size):\n",
    "            w_u = node_labels_iter[t][u]\n",
    "            for v in G.neighbors(u):\n",
    "                    w_u = min(node_labels_iter[t][v], w_u)\n",
    "            node_labels_all[i+1][t][u] = w_u\n",
    "            \n",
    "node_embeddings = {n:[] for n in G.nodes()}\n",
    "for u in G.nodes():\n",
    "    for nl in node_labels_all[nr_iter]:\n",
    "        node_embeddings[u].append((nl[u][1], nl[u][2], nl[u][3]))"
   ]
  },
  {
   "cell_type": "code",
   "execution_count": 27,
   "metadata": {},
   "outputs": [],
   "source": [
    "jsonpath = os.path.join(data_dir, \"vectors_minwise\" + str(emb_size) + \".json\")\n",
    "with open(jsonpath, 'w') as outfile:\n",
    "    json.dump(node_embeddings, outfile)"
   ]
  },
  {
   "cell_type": "code",
   "execution_count": 28,
   "metadata": {},
   "outputs": [
    {
     "data": {
      "text/plain": [
       "[('6200477', 'label=1', 'w-spontan'),\n",
       " ('1350902', 'label=1', 'w-liver'),\n",
       " ('1350902', 'label=1', 'w-therefor'),\n",
       " ('3777161', 'label=1', 'w-wherea'),\n",
       " ('1350902', 'label=1', 'w-rat')]"
      ]
     },
     "execution_count": 28,
     "metadata": {},
     "output_type": "execute_result"
    }
   ],
   "source": [
    "node = list(G.nodes())[2030]\n",
    "node_embeddings[node][:5]"
   ]
  },
  {
   "cell_type": "code",
   "execution_count": null,
   "metadata": {},
   "outputs": [],
   "source": []
  },
  {
   "cell_type": "code",
   "execution_count": 29,
   "metadata": {},
   "outputs": [],
   "source": [
    "def update_sketch(sketch, cap, u, w_u_cnt, w_u_over):\n",
    "    sketch_new = copy.deepcopy(sketch)\n",
    "    if u in sketch:\n",
    "        sketch_new[u]['cnt'] += w_u_cnt\n",
    "        sketch_new[u]['over'] += w_u_over\n",
    "    else:\n",
    "        if len(sketch_new) > cap:\n",
    "            min_node = None\n",
    "            min_cnt = -1\n",
    "            for v, est_v in sketch_new.items():\n",
    "                if min_cnt == -1 or est_v['cnt'] <= min_cnt:\n",
    "                    min_node = v\n",
    "                    min_cnt = est_v['cnt']\n",
    "            del sketch_new[min_node]\n",
    "            sketch_new[u] = {'cnt' : w_u_cnt+min_cnt, 'over' : w_u_over+min_cnt}\n",
    "        else:\n",
    "            sketch_new[u] = {'cnt' : w_u_cnt, 'over' : w_u_over}\n",
    "    return sketch_new"
   ]
  },
  {
   "cell_type": "code",
   "execution_count": 30,
   "metadata": {},
   "outputs": [],
   "source": [
    "def generate_L1_samples(G, nodedata, nr_iter, capacity):\n",
    "    sketches = [{} for _ in range(nr_iter+1)]\n",
    "    for u, (subject, features) in nodedata.items():\n",
    "        sketches[0][u] = {}\n",
    "        for f, w_f in features.items():\n",
    "            sketches[0][u][f] = {'cnt' : w_f/random.random(), 'over' : 0}\n",
    "    #sketches[0] = {u : {u : {'cnt' : 1/r, 'over' : 0}} for u, features in nodedata.items()}\n",
    "     \n",
    "    for iter in range(nr_iter):\n",
    "        print('ITERATION', iter)\n",
    "        sketch_iter = copy.deepcopy(sketches[iter])\n",
    "        new_sketches = {}\n",
    "        cnt = 0\n",
    "        for u in G.nodes():\n",
    "            cnt += 1\n",
    "            if cnt % 100 == 0:\n",
    "                print(cnt)\n",
    "            sketch_u = sketch_iter[u]\n",
    "            for v in G.neighbors(u):\n",
    "                sketch_v = sketch_iter[v]\n",
    "                for t, w_t in sketch_v.items():\n",
    "                    sketch_u = update_sketch(sketch_u, capacity, t, w_t['cnt'], w_t['over'])\n",
    "            new_sketches[u] = sketch_u\n",
    "#         print('updating sketches', iter+1)\n",
    "#         print(len(new_sketches))\n",
    "        sketches[iter+1] = new_sketches\n",
    "    return sketches"
   ]
  },
  {
   "cell_type": "code",
   "execution_count": 32,
   "metadata": {},
   "outputs": [],
   "source": [
    "# sketches = generate_L1_samples(G, nodedata, 2, 100)"
   ]
  },
  {
   "cell_type": "code",
   "execution_count": 33,
   "metadata": {},
   "outputs": [
    {
     "data": {
      "text/plain": [
       "19717"
      ]
     },
     "execution_count": 33,
     "metadata": {},
     "output_type": "execute_result"
    }
   ],
   "source": [
    "len(nodedata)"
   ]
  },
  {
   "cell_type": "code",
   "execution_count": 47,
   "metadata": {},
   "outputs": [],
   "source": [
    "def generate_L1_samples_heuristic(G, nodedata, nr_iter, embsize, top):\n",
    "    sketches = [[{} for _ in range(embsize)] for _ in range(nr_iter+1)]\n",
    "    for u, (subject, features) in nodedata.items():\n",
    "        for i in range(embsize):\n",
    "            sketches[0][i][u] = {}\n",
    "            max_w = 0\n",
    "            for f, w_f in features.items():\n",
    "                sketches[0][i][u][f] = w_f/random.random()\n",
    "    \n",
    "    for iter in range(nr_iter):\n",
    "        print('ITERATION', iter)\n",
    "        for emb in range(embsize):\n",
    "            print('emb', emb)\n",
    "            sketch_iter_emb = copy.deepcopy(sketches[iter][emb])\n",
    "            print(len(sketch_iter_emb))\n",
    "            new_sketches = {}\n",
    "            for u in G.nodes():\n",
    "                sketch_u = copy.deepcopy(sketch_iter_emb[u])\n",
    "                for v in G.neighbors(u):\n",
    "                    sketch_v = sketch_iter_emb[v]\n",
    "                    for t, w_t in sketch_v.items():\n",
    "                        sketch_u.setdefault(t, 0)\n",
    "                        sketch_u[t] += w_t\n",
    "#                 max_node = u\n",
    "#                 max_w = 0\n",
    "                pairs = []\n",
    "                for feat, feat_w in sketch_u.items():\n",
    "                    pairs.append((feat_w, feat))\n",
    "                top_pairs = sorted(pairs, reverse=True)[:top]\n",
    "#                     if node_w > max_w:\n",
    "#                         max_node = node\n",
    "#                         max_w = node_w\n",
    "#                     # sketch_u = update_sketch(sketch_u, capacity, t, w_t['cnt'], w_t['over'])\n",
    "\n",
    "                new_sketches[u] = {n : w for w, n in top_pairs}\n",
    "            sketches[iter+1][emb] = new_sketches\n",
    "    return sketches"
   ]
  },
  {
   "cell_type": "code",
   "execution_count": 50,
   "metadata": {},
   "outputs": [
    {
     "name": "stdout",
     "output_type": "stream",
     "text": [
      "ITERATION 0\n",
      "emb 0\n",
      "19717\n",
      "emb 1\n",
      "19717\n",
      "emb 2\n",
      "19717\n",
      "emb 3\n",
      "19717\n",
      "emb 4\n",
      "19717\n",
      "emb 5\n",
      "19717\n",
      "emb 6\n",
      "19717\n",
      "emb 7\n",
      "19717\n",
      "emb 8\n",
      "19717\n",
      "emb 9\n",
      "19717\n",
      "emb 10\n",
      "19717\n",
      "emb 11\n",
      "19717\n",
      "emb 12\n",
      "19717\n",
      "emb 13\n",
      "19717\n",
      "emb 14\n",
      "19717\n",
      "emb 15\n",
      "19717\n",
      "emb 16\n",
      "19717\n",
      "emb 17\n",
      "19717\n",
      "emb 18\n",
      "19717\n",
      "emb 19\n",
      "19717\n",
      "emb 20\n",
      "19717\n",
      "emb 21\n",
      "19717\n",
      "emb 22\n",
      "19717\n",
      "emb 23\n",
      "19717\n",
      "emb 24\n",
      "19717\n",
      "emb 25\n",
      "19717\n",
      "emb 26\n",
      "19717\n",
      "emb 27\n",
      "19717\n",
      "emb 28\n",
      "19717\n",
      "emb 29\n",
      "19717\n",
      "emb 30\n",
      "19717\n",
      "emb 31\n",
      "19717\n",
      "emb 32\n",
      "19717\n",
      "emb 33\n",
      "19717\n",
      "emb 34\n",
      "19717\n",
      "emb 35\n",
      "19717\n",
      "emb 36\n",
      "19717\n",
      "emb 37\n",
      "19717\n",
      "emb 38\n",
      "19717\n",
      "emb 39\n",
      "19717\n",
      "emb 40\n",
      "19717\n",
      "emb 41\n",
      "19717\n",
      "emb 42\n",
      "19717\n",
      "emb 43\n",
      "19717\n",
      "emb 44\n",
      "19717\n",
      "emb 45\n",
      "19717\n",
      "emb 46\n",
      "19717\n",
      "emb 47\n",
      "19717\n",
      "emb 48\n",
      "19717\n",
      "emb 49\n",
      "19717\n",
      "ITERATION 1\n",
      "emb 0\n",
      "19717\n",
      "emb 1\n",
      "19717\n",
      "emb 2\n",
      "19717\n",
      "emb 3\n",
      "19717\n",
      "emb 4\n",
      "19717\n",
      "emb 5\n",
      "19717\n",
      "emb 6\n",
      "19717\n",
      "emb 7\n",
      "19717\n",
      "emb 8\n",
      "19717\n",
      "emb 9\n",
      "19717\n",
      "emb 10\n",
      "19717\n",
      "emb 11\n",
      "19717\n",
      "emb 12\n",
      "19717\n",
      "emb 13\n",
      "19717\n",
      "emb 14\n",
      "19717\n",
      "emb 15\n",
      "19717\n",
      "emb 16\n",
      "19717\n",
      "emb 17\n",
      "19717\n",
      "emb 18\n",
      "19717\n",
      "emb 19\n",
      "19717\n",
      "emb 20\n",
      "19717\n",
      "emb 21\n",
      "19717\n",
      "emb 22\n",
      "19717\n",
      "emb 23\n",
      "19717\n",
      "emb 24\n",
      "19717\n",
      "emb 25\n",
      "19717\n",
      "emb 26\n",
      "19717\n",
      "emb 27\n",
      "19717\n",
      "emb 28\n",
      "19717\n",
      "emb 29\n",
      "19717\n",
      "emb 30\n",
      "19717\n",
      "emb 31\n",
      "19717\n",
      "emb 32\n",
      "19717\n",
      "emb 33\n",
      "19717\n",
      "emb 34\n",
      "19717\n",
      "emb 35\n",
      "19717\n",
      "emb 36\n",
      "19717\n",
      "emb 37\n",
      "19717\n",
      "emb 38\n",
      "19717\n",
      "emb 39\n",
      "19717\n",
      "emb 40\n",
      "19717\n",
      "emb 41\n",
      "19717\n",
      "emb 42\n",
      "19717\n",
      "emb 43\n",
      "19717\n",
      "emb 44\n",
      "19717\n",
      "emb 45\n",
      "19717\n",
      "emb 46\n",
      "19717\n",
      "emb 47\n",
      "19717\n",
      "emb 48\n",
      "19717\n",
      "emb 49\n",
      "19717\n"
     ]
    }
   ],
   "source": [
    "sketches = generate_L1_samples_heuristic(G, nodedata, nr_iter=2, embsize=50, top=5)"
   ]
  },
  {
   "cell_type": "code",
   "execution_count": 54,
   "metadata": {},
   "outputs": [
    {
     "name": "stdout",
     "output_type": "stream",
     "text": [
      "w-metabol 224.69174734108432\n",
      "w-normal 158.5176170204383\n",
      "w-rat 94.44323365788468\n",
      "w-phenotyp 77.6615874242988\n",
      "w-detect 64.2937102704091\n"
     ]
    }
   ],
   "source": [
    "for k, w in sketches[2][1]['12187484'].items():\n",
    "    print(k, w)"
   ]
  },
  {
   "cell_type": "code",
   "execution_count": null,
   "metadata": {},
   "outputs": [],
   "source": []
  },
  {
   "cell_type": "code",
   "execution_count": 55,
   "metadata": {},
   "outputs": [],
   "source": [
    "embeddings = {}\n",
    "for node in nodedata.keys():\n",
    "    embeddings[node] = [None for _ in range(3)]\n",
    "for e in range(3):\n",
    "    for node, d in sketches[2][e].items():\n",
    "        max_word = None\n",
    "        max_weight = 0\n",
    "        for word, weight in d.items():\n",
    "            if weight > max_weight:\n",
    "                max_word = word\n",
    "                max_weight = weight\n",
    "        embeddings[node][e] = (max_word, max_weight)"
   ]
  },
  {
   "cell_type": "code",
   "execution_count": 56,
   "metadata": {},
   "outputs": [],
   "source": [
    "jsonpath = os.path.join(data_dir, \"vectors_l1\" + str(emb_size) + \".json\")\n",
    "with open(jsonpath, 'w') as outfile:\n",
    "    json.dump(embeddings, outfile)"
   ]
  },
  {
   "cell_type": "code",
   "execution_count": 78,
   "metadata": {},
   "outputs": [
    {
     "data": {
      "text/plain": [
       "13"
      ]
     },
     "execution_count": 78,
     "metadata": {},
     "output_type": "execute_result"
    }
   ],
   "source": [
    "G.degree['8543793']"
   ]
  },
  {
   "cell_type": "code",
   "execution_count": 89,
   "metadata": {},
   "outputs": [
    {
     "data": {
      "text/plain": [
       "('label=1',\n",
       " {'w-rat': 0.09393489570187145,\n",
       "  'w-common': 0.028698458467273157,\n",
       "  'w-use': 0.01176012652514843,\n",
       "  'w-examin': 0.019375414753592942,\n",
       "  'w-pathogenesi': 0.06316131961800078,\n",
       "  'w-retinopathi': 0.17089058531360632,\n",
       "  'w-mous': 0.06770248034355311,\n",
       "  'w-studi': 0.017554610474374233,\n",
       "  'w-anim': 0.09840151241009497,\n",
       "  'w-model': 0.06269133038832954,\n",
       "  'w-metabol': 0.06232233318170418,\n",
       "  'w-abnorm': 0.11247870345628387,\n",
       "  'w-contribut': 0.02534773765067718,\n",
       "  'w-develop': 0.030388826051908086,\n",
       "  'w-investig': 0.02014612607562432,\n",
       "  'w-mice': 0.12119873074191996,\n",
       "  'w-2': 0.020571546813213402,\n",
       "  'w-month': 0.10361986739277738,\n",
       "  'w-compar': 0.02367140886552208,\n",
       "  'w-obtain': 0.03061978039959059,\n",
       "  'w-method': 0.014469342700659771,\n",
       "  'w-induc': 0.023516442702830022,\n",
       "  'w-6': 0.014872498687869398,\n",
       "  'w-inject': 0.028054999329982466,\n",
       "  'w-experiment': 0.06866787644053303,\n",
       "  'w-normal': 0.01777754779525323,\n",
       "  'w-diet': 0.031956203604979944,\n",
       "  'w-30': 0.02512131278693402,\n",
       "  'w-hyperglycemia': 0.02896081409449482,\n",
       "  'w-level': 0.03654889376239291,\n",
       "  'w-lipid': 0.030348254033687905,\n",
       "  'w-oxid': 0.09357481262838539,\n",
       "  'w-activ': 0.03623879368519283,\n",
       "  'w-protein': 0.022816081905882666,\n",
       "  'w-kinas': 0.04216587194300068,\n",
       "  'w-c': 0.031475602330090724,\n",
       "  'w-measur': 0.015735336508945104,\n",
       "  'w-result': 0.0075446006836769695,\n",
       "  'w-increas': 0.008769967077523864,\n",
       "  'w-retin': 0.04575957596508121,\n",
       "  'w-stress': 0.03732992842799811,\n",
       "  'w-3': 0.01261883005795486,\n",
       "  'w-similar': 0.01996113997855104,\n",
       "  'w-observ': 0.01828742887023866,\n",
       "  'w-conclus': 0.012866895687595546,\n",
       "  'w-play': 0.03099778146368732,\n",
       "  'w-import': 0.023158771568589955,\n",
       "  'w-role': 0.021716016285633605,\n",
       "  'w-present': 0.020784310286111652})"
      ]
     },
     "execution_count": 89,
     "metadata": {},
     "output_type": "execute_result"
    }
   ],
   "source": [
    "nodedata['12187484']"
   ]
  },
  {
   "cell_type": "code",
   "execution_count": null,
   "metadata": {},
   "outputs": [],
   "source": []
  }
 ],
 "metadata": {
  "kernelspec": {
   "display_name": "Python 3.6.8 64-bit",
   "language": "python",
   "name": "python36864bitd5d6c22048554957af993f0c6b0a4eef"
  },
  "language_info": {
   "codemirror_mode": {
    "name": "ipython",
    "version": 3
   },
   "file_extension": ".py",
   "mimetype": "text/x-python",
   "name": "python",
   "nbconvert_exporter": "python",
   "pygments_lexer": "ipython3",
   "version": "3.6.8"
  }
 },
 "nbformat": 4,
 "nbformat_minor": 4
}
