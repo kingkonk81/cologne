{
 "cells": [
  {
   "cell_type": "markdown",
   "metadata": {},
   "source": [
    "## Link prediction using the discrete embeddings"
   ]
  },
  {
   "cell_type": "code",
   "execution_count": 26,
   "metadata": {},
   "outputs": [],
   "source": [
    "import os\n",
    "import numpy as np\n",
    "import pandas as pd\n",
    "import json\n",
    "from sklearn import svm, datasets\n",
    "import matplotlib.pyplot as plt\n",
    "import random\n",
    "import copy\n",
    "import lightgbm as lgb\n",
    "from sklearn.model_selection import train_test_split\n",
    "from sklearn.preprocessing import LabelEncoder\n",
    "from sklearn.metrics import mean_squared_error as mse\n",
    "from sklearn.metrics import mean_absolute_error as mae\n",
    "from sklearn.metrics import accuracy_score as acc\n",
    "from sklearn.model_selection import StratifiedKFold\n",
    "from sklearn.metrics import roc_curve, auc\n",
    "from scipy import interp\n",
    "import gc"
   ]
  },
  {
   "cell_type": "code",
   "execution_count": 27,
   "metadata": {},
   "outputs": [],
   "source": [
    "graphnames = ['Cora', 'Citeseer', 'Pubmed']\n",
    "graphname = graphnames[0]\n",
    "emb_size = 10\n",
    "data_dir = os.path.expanduser(\"Graphs/\"+graphname)"
   ]
  },
  {
   "cell_type": "code",
   "execution_count": 28,
   "metadata": {},
   "outputs": [],
   "source": [
    "rwalk_path = data_dir + \"/vectors/vectors_rwalk_reduced_\" + str(emb_size) + \".json\"\n",
    "with open(rwalk_path, \"r\") as read_file:\n",
    "    rwalk_vectors = json.load(read_file)"
   ]
  },
  {
   "cell_type": "code",
   "execution_count": 29,
   "metadata": {},
   "outputs": [],
   "source": [
    "minwise_path = data_dir + \"/vectors/vectors_minwise_reduced_\" + str(emb_size) + \".json\"\n",
    "with open(minwise_path, \"r\") as read_file:\n",
    "    minwise_vectors = json.load(read_file)"
   ]
  },
  {
   "cell_type": "code",
   "execution_count": 30,
   "metadata": {},
   "outputs": [],
   "source": [
    "l1_path = data_dir + \"/vectors/vectors_l1_reduced_\" + str(emb_size) + \".json\"\n",
    "with open(l1_path, \"r\") as read_file:\n",
    "    l1_vectors = json.load(read_file)"
   ]
  },
  {
   "cell_type": "code",
   "execution_count": 43,
   "metadata": {},
   "outputs": [],
   "source": [
    "# convert all per-node samples to vectors with categorical features \n",
    "def vectors_to_df(path_edges, vectors, x, emb_size=emb_size):\n",
    "    edges_path = data_dir + path_edges \n",
    "    key = list(vectors.keys())[0]\n",
    "    features = []\n",
    "    labels = []\n",
    "    nodes = set()\n",
    "    edgeset = set()\n",
    "    print('emb size', emb_size)\n",
    "    with open(edges_path, 'r') as f:\n",
    "        for nr, edge in enumerate(f):\n",
    "            if nr % 10000 == 0:\n",
    "                print(nr)\n",
    "            vector_edge = {}\n",
    "            edge_split = edge.split(':')\n",
    "            u = edge_split[0].strip()\n",
    "            v = edge_split[1].strip()\n",
    "            nodes.add(u)\n",
    "            nodes.add(v)\n",
    "            if u not in vectors or v not in vectors:\n",
    "                continue\n",
    "            if len(vectors[u]) < emb_size or len(vectors[v]) < emb_size:\n",
    "                continue\n",
    "            edgeset.add((u,v))\n",
    "            for i in range(emb_size): \n",
    "                u_i = vectors[u][i] \n",
    "                vector_edge['f' + str(2*i)] = str(u_i[x])\n",
    "                v_i = vectors[v][i]\n",
    "                vector_edge['f' + str(2*i+1)] = str(v_i[x])\n",
    "            features.append(vector_edge)\n",
    "            labels.append(1)\n",
    "    nr_pos = len(labels)\n",
    "    print('Number of positive examples', nr_pos)\n",
    "    nodeslist = list(nodes)\n",
    "    for l in range(4*nr):\n",
    "        u = nodeslist[random.randint(0, len(nodeslist)-1)]\n",
    "        v = nodeslist[random.randint(0, len(nodeslist)-1)]\n",
    "        if (u, v) not in edgeset and (v, u) not in edgeset:\n",
    "            if u not in vectors or v not in vectors:\n",
    "                continue\n",
    "            if len(vectors[u]) < emb_size or len(vectors[v]) < emb_size:\n",
    "                continue\n",
    "            vector_edge = {}\n",
    "            for i in range(emb_size): \n",
    "                u_i = vectors[u][i]\n",
    "                vector_edge['f' + str(2*i)] = str(u_i[x])\n",
    "                v_i = vectors[v][i]\n",
    "                vector_edge['f' + str(2*i+1)] = str(v_i[x])\n",
    "            features.append(vector_edge)\n",
    "            labels.append(0)\n",
    "    print('Number of negative examples', len(labels)-nr_pos)        \n",
    "    return pd.DataFrame(features), labels"
   ]
  },
  {
   "cell_type": "code",
   "execution_count": null,
   "metadata": {},
   "outputs": [],
   "source": []
  },
  {
   "cell_type": "code",
   "execution_count": 44,
   "metadata": {},
   "outputs": [],
   "source": [
    "x = 2 # indicates what features to use, simply other nodes ids, the node labels or the words describing the nodes"
   ]
  },
  {
   "cell_type": "code",
   "execution_count": 45,
   "metadata": {},
   "outputs": [],
   "source": [
    "paths = ['graph_nodes.txt', 'labels.txt', 'words_indices.txt']\n",
    "features_path = data_dir + \"/data/\" + paths[x] \n",
    "features = []\n",
    "with open(features_path, \"r\") as features_file:\n",
    "    for f in features_file:\n",
    "        features.append(f.strip())"
   ]
  },
  {
   "cell_type": "code",
   "execution_count": 46,
   "metadata": {},
   "outputs": [
    {
     "data": {
      "text/plain": [
       "['w-1018', 'w-217', 'w-413', 'w-507', 'w-553']"
      ]
     },
     "execution_count": 46,
     "metadata": {},
     "output_type": "execute_result"
    }
   ],
   "source": [
    "features[:5]"
   ]
  },
  {
   "cell_type": "code",
   "execution_count": 47,
   "metadata": {},
   "outputs": [
    {
     "name": "stdout",
     "output_type": "stream",
     "text": [
      "emb size 10\n",
      "0\n",
      "Number of positive examples 4222\n",
      "Number of negative examples 16867\n"
     ]
    }
   ],
   "source": [
    "X_rwalk, y_rwalk = vectors_to_df(path_edges=\"/data/graph_edges_reduced.txt\", vectors=rwalk_vectors, x=x)"
   ]
  },
  {
   "cell_type": "code",
   "execution_count": 48,
   "metadata": {},
   "outputs": [
    {
     "name": "stdout",
     "output_type": "stream",
     "text": [
      "emb size 10\n",
      "0\n",
      "Number of positive examples 4222\n",
      "Number of negative examples 16861\n"
     ]
    }
   ],
   "source": [
    "X_minwise, y_minwise = vectors_to_df(path_edges=\"/data/graph_edges_reduced.txt\", vectors=minwise_vectors, x=x)"
   ]
  },
  {
   "cell_type": "code",
   "execution_count": 49,
   "metadata": {},
   "outputs": [
    {
     "name": "stdout",
     "output_type": "stream",
     "text": [
      "emb size 10\n",
      "0\n",
      "Number of positive examples 4222\n",
      "Number of negative examples 16856\n"
     ]
    }
   ],
   "source": [
    "X_l1, y_l1 = vectors_to_df(path_edges=\"/data/graph_edges_reduced.txt\", vectors=l1_vectors, x=x)"
   ]
  },
  {
   "cell_type": "code",
   "execution_count": 50,
   "metadata": {},
   "outputs": [
    {
     "name": "stdout",
     "output_type": "stream",
     "text": [
      "emb size 10\n",
      "0\n",
      "Number of positive examples 1056\n",
      "Number of negative examples 4214\n"
     ]
    }
   ],
   "source": [
    "X_val_rwalk, y_val_rwalk = vectors_to_df(path_edges=\"/data/removed_edges.txt\", vectors=rwalk_vectors, x=x)"
   ]
  },
  {
   "cell_type": "code",
   "execution_count": 51,
   "metadata": {},
   "outputs": [
    {
     "name": "stdout",
     "output_type": "stream",
     "text": [
      "emb size 10\n",
      "0\n",
      "Number of positive examples 1056\n",
      "Number of negative examples 4215\n"
     ]
    }
   ],
   "source": [
    "X_val_minwise, y_val_minwise = vectors_to_df(path_edges=\"/data/removed_edges.txt\", vectors=minwise_vectors, x=x)"
   ]
  },
  {
   "cell_type": "code",
   "execution_count": 52,
   "metadata": {},
   "outputs": [
    {
     "name": "stdout",
     "output_type": "stream",
     "text": [
      "emb size 10\n",
      "0\n",
      "Number of positive examples 1056\n",
      "Number of negative examples 4217\n"
     ]
    }
   ],
   "source": [
    "X_val_l1, y_val_l1 = vectors_to_df(path_edges=\"/data/removed_edges.txt\", vectors=l1_vectors, x=x)"
   ]
  },
  {
   "cell_type": "code",
   "execution_count": 53,
   "metadata": {},
   "outputs": [
    {
     "data": {
      "text/plain": [
       "((21089, 20), (21083, 20), (21078, 20))"
      ]
     },
     "execution_count": 53,
     "metadata": {},
     "output_type": "execute_result"
    }
   ],
   "source": [
    "X_rwalk.shape, X_minwise.shape, X_l1.shape"
   ]
  },
  {
   "cell_type": "code",
   "execution_count": 54,
   "metadata": {},
   "outputs": [
    {
     "data": {
      "text/plain": [
       "((5270, 20), (5271, 20), (5273, 20))"
      ]
     },
     "execution_count": 54,
     "metadata": {},
     "output_type": "execute_result"
    }
   ],
   "source": [
    "X_val_rwalk.shape, X_val_minwise.shape, X_val_l1.shape"
   ]
  },
  {
   "cell_type": "code",
   "execution_count": 55,
   "metadata": {},
   "outputs": [
    {
     "data": {
      "text/html": [
       "<div>\n",
       "<style scoped>\n",
       "    .dataframe tbody tr th:only-of-type {\n",
       "        vertical-align: middle;\n",
       "    }\n",
       "\n",
       "    .dataframe tbody tr th {\n",
       "        vertical-align: top;\n",
       "    }\n",
       "\n",
       "    .dataframe thead th {\n",
       "        text-align: right;\n",
       "    }\n",
       "</style>\n",
       "<table border=\"1\" class=\"dataframe\">\n",
       "  <thead>\n",
       "    <tr style=\"text-align: right;\">\n",
       "      <th></th>\n",
       "      <th>f0</th>\n",
       "      <th>f1</th>\n",
       "      <th>f2</th>\n",
       "      <th>f3</th>\n",
       "      <th>f4</th>\n",
       "      <th>f5</th>\n",
       "      <th>f6</th>\n",
       "      <th>f7</th>\n",
       "      <th>f8</th>\n",
       "      <th>f9</th>\n",
       "      <th>f10</th>\n",
       "      <th>f11</th>\n",
       "      <th>f12</th>\n",
       "      <th>f13</th>\n",
       "      <th>f14</th>\n",
       "      <th>f15</th>\n",
       "      <th>f16</th>\n",
       "      <th>f17</th>\n",
       "      <th>f18</th>\n",
       "      <th>f19</th>\n",
       "    </tr>\n",
       "  </thead>\n",
       "  <tbody>\n",
       "    <tr>\n",
       "      <th>0</th>\n",
       "      <td>w-667</td>\n",
       "      <td>w-132</td>\n",
       "      <td>w-1170</td>\n",
       "      <td>w-1170</td>\n",
       "      <td>w-212</td>\n",
       "      <td>w-967</td>\n",
       "      <td>w-249</td>\n",
       "      <td>w-1212</td>\n",
       "      <td>w-971</td>\n",
       "      <td>w-560</td>\n",
       "      <td>w-1171</td>\n",
       "      <td>w-1171</td>\n",
       "      <td>w-1356</td>\n",
       "      <td>w-1201</td>\n",
       "      <td>w-814</td>\n",
       "      <td>w-54</td>\n",
       "      <td>w-778</td>\n",
       "      <td>w-778</td>\n",
       "      <td>w-931</td>\n",
       "      <td>w-931</td>\n",
       "    </tr>\n",
       "    <tr>\n",
       "      <th>1</th>\n",
       "      <td>w-1258</td>\n",
       "      <td>w-667</td>\n",
       "      <td>w-1170</td>\n",
       "      <td>w-1170</td>\n",
       "      <td>w-94</td>\n",
       "      <td>w-967</td>\n",
       "      <td>w-750</td>\n",
       "      <td>w-249</td>\n",
       "      <td>w-58</td>\n",
       "      <td>w-624</td>\n",
       "      <td>w-1171</td>\n",
       "      <td>w-741</td>\n",
       "      <td>w-1345</td>\n",
       "      <td>w-89</td>\n",
       "      <td>w-54</td>\n",
       "      <td>w-55</td>\n",
       "      <td>w-778</td>\n",
       "      <td>w-1253</td>\n",
       "      <td>w-1072</td>\n",
       "      <td>w-667</td>\n",
       "    </tr>\n",
       "    <tr>\n",
       "      <th>2</th>\n",
       "      <td>w-667</td>\n",
       "      <td>w-667</td>\n",
       "      <td>w-1170</td>\n",
       "      <td>w-1170</td>\n",
       "      <td>w-967</td>\n",
       "      <td>w-94</td>\n",
       "      <td>w-1144</td>\n",
       "      <td>w-1144</td>\n",
       "      <td>w-971</td>\n",
       "      <td>w-58</td>\n",
       "      <td>w-1171</td>\n",
       "      <td>w-1138</td>\n",
       "      <td>w-1345</td>\n",
       "      <td>w-1273</td>\n",
       "      <td>w-55</td>\n",
       "      <td>w-814</td>\n",
       "      <td>w-778</td>\n",
       "      <td>w-778</td>\n",
       "      <td>w-931</td>\n",
       "      <td>w-931</td>\n",
       "    </tr>\n",
       "  </tbody>\n",
       "</table>\n",
       "</div>"
      ],
      "text/plain": [
       "       f0     f1      f2      f3     f4     f5      f6      f7     f8     f9  \\\n",
       "0   w-667  w-132  w-1170  w-1170  w-212  w-967   w-249  w-1212  w-971  w-560   \n",
       "1  w-1258  w-667  w-1170  w-1170   w-94  w-967   w-750   w-249   w-58  w-624   \n",
       "2   w-667  w-667  w-1170  w-1170  w-967   w-94  w-1144  w-1144  w-971   w-58   \n",
       "\n",
       "      f10     f11     f12     f13    f14    f15    f16     f17     f18    f19  \n",
       "0  w-1171  w-1171  w-1356  w-1201  w-814   w-54  w-778   w-778   w-931  w-931  \n",
       "1  w-1171   w-741  w-1345    w-89   w-54   w-55  w-778  w-1253  w-1072  w-667  \n",
       "2  w-1171  w-1138  w-1345  w-1273   w-55  w-814  w-778   w-778   w-931  w-931  "
      ]
     },
     "execution_count": 55,
     "metadata": {},
     "output_type": "execute_result"
    }
   ],
   "source": [
    "X_val_minwise.head(3)"
   ]
  },
  {
   "cell_type": "code",
   "execution_count": 56,
   "metadata": {},
   "outputs": [],
   "source": [
    "def lgbm_clf(X, y, X_test, y_test, label_encoder):\n",
    "        \n",
    "        X_local = copy.deepcopy(X)\n",
    "        #encoders = {}\n",
    "        for c in X.columns: \n",
    "            X_local.loc[:, c] = label_encoder.transform([str(x) for x in X_local[c]])\n",
    "            #encoders[c] = label_encoder\n",
    "            \n",
    "        X_test_local = copy.deepcopy(X_test)\n",
    "        for c in X_test_local.columns: \n",
    "            #label_encoder = encoders[c]\n",
    "            X_c = [str(x) for x in X_test_local[c]]\n",
    "            X_test_local.loc[:, c] = label_encoder.transform(X_c)\n",
    "            \n",
    "        lgb_params = {'objective':'binary',\n",
    "            'boosting_type':'gbdt',\n",
    "            'n_jobs':4,\n",
    "            'learning_rate':0.1,\n",
    "            'tree_learner':'serial',\n",
    "            'max_depth': -1,\n",
    "            'lambda_l1':0,\n",
    "            'n_estimators':2000,\n",
    "            'verbose':-1,\n",
    "            'seed': 1}\n",
    "        \n",
    "        clf = lgb.LGBMClassifier( **lgb_params) \n",
    "        clf.fit(X_local, y, eval_set=[(X_local, y), (X_test_local, y_test)], \n",
    "                    early_stopping_rounds=100, verbose=1000)\n",
    "        return clf"
   ]
  },
  {
   "cell_type": "code",
   "execution_count": 60,
   "metadata": {},
   "outputs": [],
   "source": [
    "def predict(model, X, label_encoder):\n",
    "    X_local = copy.deepcopy(X)\n",
    "    for c in X_local.columns: \n",
    "        X_c = [str(x) for x in X_local[c]]\n",
    "        X_local.loc[:, c] = label_encoder.transform(X_c)\n",
    "    return model.predict(X_local)    \n",
    "    "
   ]
  },
  {
   "cell_type": "code",
   "execution_count": 61,
   "metadata": {},
   "outputs": [],
   "source": [
    "def get_mean_acc(X_train, y_train, X_val, y_val, features, nr_iters):\n",
    "    \n",
    "    accs = []    \n",
    "    label_encoder = LabelEncoder()\n",
    "    label_encoder.fit(features)\n",
    "    for i in range(nr_iters):\n",
    "        print('Iter', i)\n",
    "        \n",
    "        X_train_clf, X_test, y_train_clf, y_test =  train_test_split(X_train, y_train)\n",
    "        model = lgbm_clf(X_train_clf, y_train_clf, X_test, y_test, label_encoder)\n",
    "        y_pred = predict(model, X_val, label_encoder)\n",
    "        accuracy = acc(y_val, y_pred)\n",
    "        accs.append(accuracy)\n",
    "        print('Accuracy score', accuracy)\n",
    "    print(np.mean(accs), np.std(accs))"
   ]
  },
  {
   "cell_type": "code",
   "execution_count": 62,
   "metadata": {},
   "outputs": [
    {
     "name": "stdout",
     "output_type": "stream",
     "text": [
      "Iter 0\n",
      "[LightGBM] [Warning] lambda_l1 is set=0, reg_alpha=0.0 will be ignored. Current value: lambda_l1=0\n",
      "Training until validation scores don't improve for 100 rounds\n",
      "Early stopping, best iteration is:\n",
      "[101]\ttraining's binary_logloss: 0.350618\tvalid_1's binary_logloss: 0.463616\n",
      "Accuracy score 0.8127134724857685\n",
      "Iter 1\n",
      "[LightGBM] [Warning] lambda_l1 is set=0, reg_alpha=0.0 will be ignored. Current value: lambda_l1=0\n",
      "Training until validation scores don't improve for 100 rounds\n",
      "Early stopping, best iteration is:\n",
      "[74]\ttraining's binary_logloss: 0.376978\tvalid_1's binary_logloss: 0.462804\n",
      "Accuracy score 0.8125237191650854\n",
      "Iter 2\n",
      "[LightGBM] [Warning] lambda_l1 is set=0, reg_alpha=0.0 will be ignored. Current value: lambda_l1=0\n",
      "Training until validation scores don't improve for 100 rounds\n",
      "Early stopping, best iteration is:\n",
      "[36]\ttraining's binary_logloss: 0.419578\tvalid_1's binary_logloss: 0.472342\n",
      "Accuracy score 0.8127134724857685\n",
      "Iter 3\n",
      "[LightGBM] [Warning] lambda_l1 is set=0, reg_alpha=0.0 will be ignored. Current value: lambda_l1=0\n",
      "Training until validation scores don't improve for 100 rounds\n",
      "Early stopping, best iteration is:\n",
      "[63]\ttraining's binary_logloss: 0.386373\tvalid_1's binary_logloss: 0.47321\n",
      "Accuracy score 0.8117647058823529\n",
      "Iter 4\n",
      "[LightGBM] [Warning] lambda_l1 is set=0, reg_alpha=0.0 will be ignored. Current value: lambda_l1=0\n",
      "Training until validation scores don't improve for 100 rounds\n",
      "Early stopping, best iteration is:\n",
      "[72]\ttraining's binary_logloss: 0.37729\tvalid_1's binary_logloss: 0.468721\n",
      "Accuracy score 0.8129032258064516\n",
      "Iter 5\n",
      "[LightGBM] [Warning] lambda_l1 is set=0, reg_alpha=0.0 will be ignored. Current value: lambda_l1=0\n",
      "Training until validation scores don't improve for 100 rounds\n",
      "Early stopping, best iteration is:\n",
      "[90]\ttraining's binary_logloss: 0.362448\tvalid_1's binary_logloss: 0.459526\n",
      "Accuracy score 0.8104364326375711\n",
      "Iter 6\n",
      "[LightGBM] [Warning] lambda_l1 is set=0, reg_alpha=0.0 will be ignored. Current value: lambda_l1=0\n",
      "Training until validation scores don't improve for 100 rounds\n",
      "Early stopping, best iteration is:\n",
      "[111]\ttraining's binary_logloss: 0.34224\tvalid_1's binary_logloss: 0.462861\n",
      "Accuracy score 0.8111954459203036\n",
      "Iter 7\n",
      "[LightGBM] [Warning] lambda_l1 is set=0, reg_alpha=0.0 will be ignored. Current value: lambda_l1=0\n",
      "Training until validation scores don't improve for 100 rounds\n",
      "Early stopping, best iteration is:\n",
      "[64]\ttraining's binary_logloss: 0.386488\tvalid_1's binary_logloss: 0.472516\n",
      "Accuracy score 0.8115749525616698\n",
      "Iter 8\n",
      "[LightGBM] [Warning] lambda_l1 is set=0, reg_alpha=0.0 will be ignored. Current value: lambda_l1=0\n",
      "Training until validation scores don't improve for 100 rounds\n",
      "Early stopping, best iteration is:\n",
      "[71]\ttraining's binary_logloss: 0.375533\tvalid_1's binary_logloss: 0.470677\n",
      "Accuracy score 0.8117647058823529\n",
      "Iter 9\n",
      "[LightGBM] [Warning] lambda_l1 is set=0, reg_alpha=0.0 will be ignored. Current value: lambda_l1=0\n",
      "Training until validation scores don't improve for 100 rounds\n",
      "Early stopping, best iteration is:\n",
      "[139]\ttraining's binary_logloss: 0.320384\tvalid_1's binary_logloss: 0.466683\n",
      "Accuracy score 0.8119544592030361\n",
      "0.811954459203036 0.0007397946371771588\n"
     ]
    }
   ],
   "source": [
    "get_mean_acc(X_rwalk, y_rwalk, X_val_rwalk, y_val_rwalk, features, 10)"
   ]
  },
  {
   "cell_type": "code",
   "execution_count": 63,
   "metadata": {},
   "outputs": [
    {
     "name": "stdout",
     "output_type": "stream",
     "text": [
      "Iter 0\n",
      "[LightGBM] [Warning] lambda_l1 is set=0, reg_alpha=0.0 will be ignored. Current value: lambda_l1=0\n",
      "Training until validation scores don't improve for 100 rounds\n",
      "Early stopping, best iteration is:\n",
      "[536]\ttraining's binary_logloss: 0.0472652\tvalid_1's binary_logloss: 0.193502\n",
      "Accuracy score 0.8527793587554544\n",
      "Iter 1\n",
      "[LightGBM] [Warning] lambda_l1 is set=0, reg_alpha=0.0 will be ignored. Current value: lambda_l1=0\n",
      "Training until validation scores don't improve for 100 rounds\n",
      "Early stopping, best iteration is:\n",
      "[513]\ttraining's binary_logloss: 0.0492496\tvalid_1's binary_logloss: 0.197233\n",
      "Accuracy score 0.8505027509011572\n",
      "Iter 2\n",
      "[LightGBM] [Warning] lambda_l1 is set=0, reg_alpha=0.0 will be ignored. Current value: lambda_l1=0\n",
      "Training until validation scores don't improve for 100 rounds\n",
      "Early stopping, best iteration is:\n",
      "[462]\ttraining's binary_logloss: 0.060249\tvalid_1's binary_logloss: 0.211349\n",
      "Accuracy score 0.8546765319673686\n",
      "Iter 3\n",
      "[LightGBM] [Warning] lambda_l1 is set=0, reg_alpha=0.0 will be ignored. Current value: lambda_l1=0\n",
      "Training until validation scores don't improve for 100 rounds\n",
      "Early stopping, best iteration is:\n",
      "[563]\ttraining's binary_logloss: 0.0428602\tvalid_1's binary_logloss: 0.194861\n",
      "Accuracy score 0.8556251185733258\n",
      "Iter 4\n",
      "[LightGBM] [Warning] lambda_l1 is set=0, reg_alpha=0.0 will be ignored. Current value: lambda_l1=0\n",
      "Training until validation scores don't improve for 100 rounds\n",
      "Early stopping, best iteration is:\n",
      "[532]\ttraining's binary_logloss: 0.0491794\tvalid_1's binary_logloss: 0.199042\n",
      "Accuracy score 0.8501233162587745\n",
      "Iter 5\n",
      "[LightGBM] [Warning] lambda_l1 is set=0, reg_alpha=0.0 will be ignored. Current value: lambda_l1=0\n",
      "Training until validation scores don't improve for 100 rounds\n",
      "Early stopping, best iteration is:\n",
      "[442]\ttraining's binary_logloss: 0.0621641\tvalid_1's binary_logloss: 0.190501\n",
      "Accuracy score 0.8544868146461772\n",
      "Iter 6\n",
      "[LightGBM] [Warning] lambda_l1 is set=0, reg_alpha=0.0 will be ignored. Current value: lambda_l1=0\n",
      "Training until validation scores don't improve for 100 rounds\n",
      "Early stopping, best iteration is:\n",
      "[521]\ttraining's binary_logloss: 0.0461682\tvalid_1's binary_logloss: 0.19114\n",
      "Accuracy score 0.8573325744640485\n",
      "Iter 7\n",
      "[LightGBM] [Warning] lambda_l1 is set=0, reg_alpha=0.0 will be ignored. Current value: lambda_l1=0\n",
      "Training until validation scores don't improve for 100 rounds\n",
      "Early stopping, best iteration is:\n",
      "[531]\ttraining's binary_logloss: 0.0480363\tvalid_1's binary_logloss: 0.1943\n",
      "Accuracy score 0.8537279453614115\n",
      "Iter 8\n",
      "[LightGBM] [Warning] lambda_l1 is set=0, reg_alpha=0.0 will be ignored. Current value: lambda_l1=0\n",
      "Training until validation scores don't improve for 100 rounds\n",
      "Early stopping, best iteration is:\n",
      "[477]\ttraining's binary_logloss: 0.0540605\tvalid_1's binary_logloss: 0.204602\n",
      "Accuracy score 0.8529690760766458\n",
      "Iter 9\n",
      "[LightGBM] [Warning] lambda_l1 is set=0, reg_alpha=0.0 will be ignored. Current value: lambda_l1=0\n",
      "Training until validation scores don't improve for 100 rounds\n",
      "Early stopping, best iteration is:\n",
      "[440]\ttraining's binary_logloss: 0.0610826\tvalid_1's binary_logloss: 0.200986\n",
      "Accuracy score 0.8510719028647316\n",
      "0.8533295389869096 0.0022001484284036666\n"
     ]
    }
   ],
   "source": [
    "get_mean_acc(X_minwise, y_minwise, X_val_minwise, y_val_minwise, features, 10)"
   ]
  },
  {
   "cell_type": "code",
   "execution_count": 64,
   "metadata": {},
   "outputs": [
    {
     "name": "stdout",
     "output_type": "stream",
     "text": [
      "Iter 0\n",
      "[LightGBM] [Warning] lambda_l1 is set=0, reg_alpha=0.0 will be ignored. Current value: lambda_l1=0\n",
      "Training until validation scores don't improve for 100 rounds\n",
      "Early stopping, best iteration is:\n",
      "[603]\ttraining's binary_logloss: 0.0220266\tvalid_1's binary_logloss: 0.173349\n",
      "Accuracy score 0.8518869713635502\n",
      "Iter 1\n",
      "[LightGBM] [Warning] lambda_l1 is set=0, reg_alpha=0.0 will be ignored. Current value: lambda_l1=0\n",
      "Training until validation scores don't improve for 100 rounds\n",
      "Early stopping, best iteration is:\n",
      "[548]\ttraining's binary_logloss: 0.0277025\tvalid_1's binary_logloss: 0.179731\n",
      "Accuracy score 0.8490422909159872\n",
      "Iter 2\n",
      "[LightGBM] [Warning] lambda_l1 is set=0, reg_alpha=0.0 will be ignored. Current value: lambda_l1=0\n",
      "Training until validation scores don't improve for 100 rounds\n",
      "Early stopping, best iteration is:\n",
      "[577]\ttraining's binary_logloss: 0.026553\tvalid_1's binary_logloss: 0.172979\n",
      "Accuracy score 0.8494215816423288\n",
      "Iter 3\n",
      "[LightGBM] [Warning] lambda_l1 is set=0, reg_alpha=0.0 will be ignored. Current value: lambda_l1=0\n",
      "Training until validation scores don't improve for 100 rounds\n",
      "Early stopping, best iteration is:\n",
      "[505]\ttraining's binary_logloss: 0.0315038\tvalid_1's binary_logloss: 0.190255\n",
      "Accuracy score 0.8465769011947658\n",
      "Iter 4\n",
      "[LightGBM] [Warning] lambda_l1 is set=0, reg_alpha=0.0 will be ignored. Current value: lambda_l1=0\n",
      "Training until validation scores don't improve for 100 rounds\n",
      "Early stopping, best iteration is:\n",
      "[479]\ttraining's binary_logloss: 0.0361451\tvalid_1's binary_logloss: 0.186034\n",
      "Accuracy score 0.8498008723686706\n",
      "Iter 5\n",
      "[LightGBM] [Warning] lambda_l1 is set=0, reg_alpha=0.0 will be ignored. Current value: lambda_l1=0\n",
      "Training until validation scores don't improve for 100 rounds\n",
      "Early stopping, best iteration is:\n",
      "[516]\ttraining's binary_logloss: 0.0318894\tvalid_1's binary_logloss: 0.185648\n",
      "Accuracy score 0.8482837094633037\n",
      "Iter 6\n",
      "[LightGBM] [Warning] lambda_l1 is set=0, reg_alpha=0.0 will be ignored. Current value: lambda_l1=0\n",
      "Training until validation scores don't improve for 100 rounds\n",
      "Early stopping, best iteration is:\n",
      "[565]\ttraining's binary_logloss: 0.0260329\tvalid_1's binary_logloss: 0.180674\n",
      "Accuracy score 0.8475251280106202\n",
      "Iter 7\n",
      "[LightGBM] [Warning] lambda_l1 is set=0, reg_alpha=0.0 will be ignored. Current value: lambda_l1=0\n",
      "Training until validation scores don't improve for 100 rounds\n",
      "Early stopping, best iteration is:\n",
      "[447]\ttraining's binary_logloss: 0.0421781\tvalid_1's binary_logloss: 0.181671\n",
      "Accuracy score 0.846197610468424\n",
      "Iter 8\n",
      "[LightGBM] [Warning] lambda_l1 is set=0, reg_alpha=0.0 will be ignored. Current value: lambda_l1=0\n",
      "Training until validation scores don't improve for 100 rounds\n",
      "Early stopping, best iteration is:\n",
      "[441]\ttraining's binary_logloss: 0.0413493\tvalid_1's binary_logloss: 0.175172\n",
      "Accuracy score 0.8444908021998863\n",
      "Iter 9\n",
      "[LightGBM] [Warning] lambda_l1 is set=0, reg_alpha=0.0 will be ignored. Current value: lambda_l1=0\n",
      "Training until validation scores don't improve for 100 rounds\n",
      "Early stopping, best iteration is:\n",
      "[548]\ttraining's binary_logloss: 0.0261296\tvalid_1's binary_logloss: 0.182188\n",
      "Accuracy score 0.8475251280106202\n",
      "0.8480750995638158 0.001988022591654409\n"
     ]
    }
   ],
   "source": [
    "get_mean_acc(X_l1, y_l1, X_val_l1, y_val_l1, features, 10)"
   ]
  },
  {
   "cell_type": "code",
   "execution_count": null,
   "metadata": {},
   "outputs": [],
   "source": []
  },
  {
   "cell_type": "code",
   "execution_count": 65,
   "metadata": {},
   "outputs": [],
   "source": [
    "def get_auc_scores(X, y, X_val, y_val, lgb_params, label_encoder, n_splits):\n",
    "    X_local = copy.deepcopy(X)\n",
    "    for c in X_local.columns: \n",
    "        X_c = [str(x) for x in X_local[c]]\n",
    "        X_local.loc[:, c] = label_encoder.transform(X_c)\n",
    "        \n",
    "    X_val_local = copy.deepcopy(X_val)\n",
    "    for c in X_val_local.columns: \n",
    "        X_c = [str(x) for x in X_val_local[c]]\n",
    "        X_val_local.loc[:, c] = label_encoder.transform(X_c)\n",
    "    \n",
    "    tprs = []\n",
    "    aucs = []\n",
    "    mean_fpr = np.linspace(0, 1, 100)\n",
    "        \n",
    "    classifiers = []\n",
    "    \n",
    "    folds = StratifiedKFold(n_splits=n_splits, random_state=73, shuffle=True) \n",
    "    splits = folds.split(X_local, y)\n",
    "    for fold_n, (train_index, test_index) in enumerate(splits):\n",
    "        print('Fold', fold_n)\n",
    "        X_train, X_test = X_local.iloc[train_index], X_local.iloc[test_index]\n",
    "        y_train, y_test = np.array(y)[train_index], np.array(y)[test_index]\n",
    "        print(X_train.shape, X_test.shape)\n",
    "        dtrain = lgb.Dataset(X_train, label=y_train)\n",
    "        dtest = lgb.Dataset(X_test, label=y_test)\n",
    "\n",
    "        clf = lgb.train(lgb_params, dtrain, valid_sets=[dtrain, dtest], verbose_eval=1000)\n",
    "        classifiers.append((clf, clf.best_iteration))\n",
    "\n",
    "        y_pred = clf.predict(X_val_local, num_iteration=clf.best_iteration)\n",
    "        fpr, tpr, thresholds = roc_curve(y_val, y_pred)\n",
    "        tprs.append(interp(mean_fpr, fpr, tpr))\n",
    "        tprs[-1][0] = 0.0\n",
    "        roc_auc = auc(fpr, tpr)\n",
    "        aucs.append(roc_auc)\n",
    "        del X_train, X_test, y_train, y_test\n",
    "        gc.collect()\n",
    "        \n",
    "    mean_tpr = np.mean(tprs, axis=0)\n",
    "    mean_tpr[-1] = 1.0\n",
    "    mean_auc = auc(mean_fpr, mean_tpr)\n",
    "    std_auc = np.std(aucs)\n",
    "\n",
    "\n",
    "    std_tpr = np.std(tprs, axis=0)\n",
    "    tprs_upper = np.minimum(mean_tpr + std_tpr, 1)\n",
    "    tprs_lower = np.maximum(mean_tpr - std_tpr, 0)\n",
    "\n",
    "    return mean_auc, std_auc, mean_fpr, mean_tpr, tprs_lower, tprs_upper\n",
    "    "
   ]
  },
  {
   "cell_type": "code",
   "execution_count": 66,
   "metadata": {},
   "outputs": [],
   "source": [
    "def plot_roc_lgbm(X_rw, y_rw, X_rw_val, y_rw_val, \\\n",
    "                  X_mw, y_mw, X_mw_val, y_mw_val, \\\n",
    "                  X_l1, y_l1, X_l1_val, y_l1_val,\\\n",
    "                  features, name, exclude_pred = True, n_splits = 5):\n",
    "    \n",
    "    \n",
    "    label_encoder = LabelEncoder()\n",
    "    label_encoder.fit(features)\n",
    "    nr_trees = 3000\n",
    "    lgb_params = {'objective':'binary',\n",
    "            'boosting_type':'gbdt',\n",
    "            'metric':'auc',\n",
    "            'n_jobs':4,\n",
    "            'learning_rate':0.1,\n",
    "            'tree_learner':'serial',\n",
    "            'max_depth': -1,\n",
    "            'n_estimators':nr_trees,\n",
    "            'verbose':-1,\n",
    "            'seed': 1}\n",
    "    \n",
    "    mean_auc_rw, std_auc_rw, mean_fpr_rw, mean_tpr_rw, tprs_lower_rw, tprs_upper_rw = \\\n",
    "                get_auc_scores(X_rw, y_rw, X_rw_val, y_rw_val, lgb_params, label_encoder, n_splits)\n",
    "    \n",
    "    lgb_params = {'objective':'binary',\n",
    "            'boosting_type':'gbdt',\n",
    "            'metric':'auc',\n",
    "            'n_jobs':4,\n",
    "            'learning_rate':0.1,\n",
    "            'tree_learner':'serial',\n",
    "            'max_depth': -1,\n",
    "            'n_estimators':nr_trees,\n",
    "            'verbose':-1,\n",
    "            'seed': 1}\n",
    "    \n",
    "    mean_auc_mw, std_auc_mw, mean_fpr_mw, mean_tpr_mw, tprs_lower_mw, tprs_upper_mw = \\\n",
    "                get_auc_scores(X_mw, y_mw, X_mw_val, y_mw_val, lgb_params, label_encoder, n_splits)\n",
    "    \n",
    "    lgb_params = {'objective':'binary',\n",
    "            'boosting_type':'gbdt',\n",
    "            'metric':'auc',\n",
    "            'n_jobs':4,\n",
    "            'learning_rate':0.1,\n",
    "            'tree_learner':'serial',\n",
    "            'max_depth': -1,\n",
    "            'n_estimators':nr_trees,\n",
    "            'verbose':-1,\n",
    "            'seed': 1}\n",
    "    \n",
    "    mean_auc_l1, std_auc_l1, mean_fpr_l1, mean_tpr_l1, tprs_lower_l1, tprs_upper_l1 = \\\n",
    "                get_auc_scores(X_l1, y_l1, X_l1_val, y_l1_val, lgb_params, label_encoder, n_splits)\n",
    "\n",
    "    alpha = 0.7\n",
    "    markersize=6\n",
    "    markevery=5\n",
    "    plt.plot([0, 1], [0, 1], linestyle='--', lw=2, color='r',\n",
    "             label='Chance', alpha=alpha)\n",
    "\n",
    "    plt.plot(mean_fpr_rw, mean_tpr_rw, color='b',\n",
    "             label=r'AUC RW = %0.3f $\\pm$ %0.4f' % (mean_auc_rw, std_auc_rw),\n",
    "             lw=1, marker='o', markersize=markersize,  markevery=markevery, alpha=alpha)\n",
    "   \n",
    "\n",
    "    plt.plot(mean_fpr_mw, mean_tpr_mw, color='green',\n",
    "             label=r'AUC $L_0$ = %0.3f $\\pm$ %0.4f' % (mean_auc_mw, std_auc_mw),\n",
    "             lw=1, markevery=markevery, marker='x', markersize=markersize, alpha=alpha)\n",
    "\n",
    "    \n",
    "    plt.plot(mean_fpr_l1, mean_tpr_l1, color='orange',\n",
    "             label=r'AUC $L_1$ = %0.3f $\\pm$ %0.4f' % (mean_auc_l1, std_auc_l1),\n",
    "             lw=1, marker='D', markersize=markersize, markevery=markevery, alpha=alpha)\n",
    "\n",
    "    plt.xlim([-0.05, 1.2])\n",
    "    plt.ylim([-0.05, 1.05])\n",
    "    plt.xlabel('False Positive Rate', fontsize=14)\n",
    "    plt.ylabel('True Positive Rate', fontsize=14)\n",
    "    mytitle = name \n",
    "    plt.title(mytitle, fontsize=15)\n",
    "    plt.legend(loc=\"lower right\")\n",
    "    plt.show()"
   ]
  },
  {
   "cell_type": "code",
   "execution_count": 27,
   "metadata": {},
   "outputs": [
    {
     "name": "stdout",
     "output_type": "stream",
     "text": [
      "Fold 0\n",
      "(141824, 200) (35457, 200)\n"
     ]
    },
    {
     "name": "stderr",
     "output_type": "stream",
     "text": [
      "/usr/local/lib/python3.7/dist-packages/lightgbm/engine.py:151: UserWarning: Found `n_estimators` in params. Will use it instead of argument\n",
      "  warnings.warn(\"Found `{}` in params. Will use it instead of argument\".format(alias))\n"
     ]
    },
    {
     "name": "stdout",
     "output_type": "stream",
     "text": [
      "[1000]\ttraining's auc: 0.989769\tvalid_1's auc: 0.891533\n",
      "[2000]\ttraining's auc: 0.999821\tvalid_1's auc: 0.893397\n",
      "[3000]\ttraining's auc: 1\tvalid_1's auc: 0.894777\n"
     ]
    },
    {
     "name": "stderr",
     "output_type": "stream",
     "text": [
      "/usr/local/lib/python3.7/dist-packages/ipykernel_launcher.py:33: DeprecationWarning: scipy.interp is deprecated and will be removed in SciPy 2.0.0, use numpy.interp instead\n"
     ]
    },
    {
     "name": "stdout",
     "output_type": "stream",
     "text": [
      "Fold 1\n",
      "(141825, 200) (35456, 200)\n",
      "[1000]\ttraining's auc: 0.989993\tvalid_1's auc: 0.889345\n",
      "[2000]\ttraining's auc: 0.999821\tvalid_1's auc: 0.890362\n",
      "[3000]\ttraining's auc: 1\tvalid_1's auc: 0.891513\n",
      "Fold 2\n",
      "(141825, 200) (35456, 200)\n",
      "[1000]\ttraining's auc: 0.989961\tvalid_1's auc: 0.893351\n",
      "[2000]\ttraining's auc: 0.999798\tvalid_1's auc: 0.895128\n",
      "[3000]\ttraining's auc: 1\tvalid_1's auc: 0.896678\n",
      "Fold 3\n",
      "(141825, 200) (35456, 200)\n",
      "[1000]\ttraining's auc: 0.989823\tvalid_1's auc: 0.891037\n",
      "[2000]\ttraining's auc: 0.999819\tvalid_1's auc: 0.89309\n",
      "[3000]\ttraining's auc: 1\tvalid_1's auc: 0.894076\n",
      "Fold 4\n",
      "(141825, 200) (35456, 200)\n",
      "[1000]\ttraining's auc: 0.989603\tvalid_1's auc: 0.892024\n",
      "[2000]\ttraining's auc: 0.999813\tvalid_1's auc: 0.893702\n",
      "[3000]\ttraining's auc: 1\tvalid_1's auc: 0.895055\n",
      "Fold 0\n",
      "(141821, 200) (35456, 200)\n"
     ]
    },
    {
     "name": "stderr",
     "output_type": "stream",
     "text": [
      "/usr/local/lib/python3.7/dist-packages/lightgbm/engine.py:151: UserWarning: Found `n_estimators` in params. Will use it instead of argument\n",
      "  warnings.warn(\"Found `{}` in params. Will use it instead of argument\".format(alias))\n"
     ]
    },
    {
     "name": "stdout",
     "output_type": "stream",
     "text": [
      "[1000]\ttraining's auc: 0.998123\tvalid_1's auc: 0.989761\n",
      "[2000]\ttraining's auc: 0.999679\tvalid_1's auc: 0.991432\n",
      "[3000]\ttraining's auc: 0.999942\tvalid_1's auc: 0.991812\n"
     ]
    },
    {
     "name": "stderr",
     "output_type": "stream",
     "text": [
      "/usr/local/lib/python3.7/dist-packages/ipykernel_launcher.py:33: DeprecationWarning: scipy.interp is deprecated and will be removed in SciPy 2.0.0, use numpy.interp instead\n"
     ]
    },
    {
     "name": "stdout",
     "output_type": "stream",
     "text": [
      "Fold 1\n",
      "(141821, 200) (35456, 200)\n",
      "[1000]\ttraining's auc: 0.997787\tvalid_1's auc: 0.989892\n",
      "[2000]\ttraining's auc: 0.999622\tvalid_1's auc: 0.991644\n",
      "[3000]\ttraining's auc: 0.99992\tvalid_1's auc: 0.992153\n",
      "Fold 2\n",
      "(141822, 200) (35455, 200)\n",
      "[1000]\ttraining's auc: 0.997912\tvalid_1's auc: 0.990457\n",
      "[2000]\ttraining's auc: 0.99963\tvalid_1's auc: 0.99199\n",
      "[3000]\ttraining's auc: 0.999918\tvalid_1's auc: 0.9926\n",
      "Fold 3\n",
      "(141822, 200) (35455, 200)\n",
      "[1000]\ttraining's auc: 0.997602\tvalid_1's auc: 0.989887\n",
      "[2000]\ttraining's auc: 0.999589\tvalid_1's auc: 0.991774\n",
      "[3000]\ttraining's auc: 0.999925\tvalid_1's auc: 0.992356\n",
      "Fold 4\n",
      "(141822, 200) (35455, 200)\n",
      "[1000]\ttraining's auc: 0.997945\tvalid_1's auc: 0.989548\n",
      "[2000]\ttraining's auc: 0.999689\tvalid_1's auc: 0.99128\n",
      "[3000]\ttraining's auc: 0.99993\tvalid_1's auc: 0.991993\n",
      "Fold 0\n",
      "(141811, 200) (35453, 200)\n"
     ]
    },
    {
     "name": "stderr",
     "output_type": "stream",
     "text": [
      "/usr/local/lib/python3.7/dist-packages/lightgbm/engine.py:151: UserWarning: Found `n_estimators` in params. Will use it instead of argument\n",
      "  warnings.warn(\"Found `{}` in params. Will use it instead of argument\".format(alias))\n"
     ]
    },
    {
     "name": "stdout",
     "output_type": "stream",
     "text": [
      "[1000]\ttraining's auc: 0.999999\tvalid_1's auc: 0.996372\n",
      "[2000]\ttraining's auc: 1\tvalid_1's auc: 0.997022\n",
      "[3000]\ttraining's auc: 1\tvalid_1's auc: 0.997234\n"
     ]
    },
    {
     "name": "stderr",
     "output_type": "stream",
     "text": [
      "/usr/local/lib/python3.7/dist-packages/ipykernel_launcher.py:33: DeprecationWarning: scipy.interp is deprecated and will be removed in SciPy 2.0.0, use numpy.interp instead\n"
     ]
    },
    {
     "name": "stdout",
     "output_type": "stream",
     "text": [
      "Fold 1\n",
      "(141811, 200) (35453, 200)\n",
      "[1000]\ttraining's auc: 0.999999\tvalid_1's auc: 0.996469\n",
      "[2000]\ttraining's auc: 1\tvalid_1's auc: 0.996944\n",
      "[3000]\ttraining's auc: 1\tvalid_1's auc: 0.997096\n",
      "Fold 2\n",
      "(141811, 200) (35453, 200)\n",
      "[1000]\ttraining's auc: 0.999999\tvalid_1's auc: 0.996329\n",
      "[2000]\ttraining's auc: 1\tvalid_1's auc: 0.997025\n",
      "[3000]\ttraining's auc: 1\tvalid_1's auc: 0.997229\n",
      "Fold 3\n",
      "(141811, 200) (35453, 200)\n",
      "[1000]\ttraining's auc: 0.999998\tvalid_1's auc: 0.996781\n",
      "[2000]\ttraining's auc: 1\tvalid_1's auc: 0.997378\n",
      "[3000]\ttraining's auc: 1\tvalid_1's auc: 0.997609\n",
      "Fold 4\n",
      "(141812, 200) (35452, 200)\n",
      "[1000]\ttraining's auc: 0.999999\tvalid_1's auc: 0.996559\n",
      "[2000]\ttraining's auc: 1\tvalid_1's auc: 0.997141\n",
      "[3000]\ttraining's auc: 1\tvalid_1's auc: 0.997373\n"
     ]
    },
    {
     "data": {
      "image/png": "[encoded data removed]",
      "text/plain": [
       "<Figure size 432x288 with 1 Axes>"
      ]
     },
     "metadata": {
      "needs_background": "light"
     },
     "output_type": "display_data"
    }
   ],
   "source": [
    "plot_roc_lgbm(X_rwalk, y_rwalk, X_val_rwalk, y_val_rwalk,\n",
    "              X_minwise, y_minwise, X_val_minwise, y_val_minwise,\n",
    "              X_l1, y_l1, X_val_l1, y_val_l1,\n",
    "              features, graphname +' ROC')"
   ]
  },
  {
   "cell_type": "code",
   "execution_count": null,
   "metadata": {},
   "outputs": [],
   "source": []
  }
 ],
 "metadata": {
  "kernelspec": {
   "display_name": "Python 3",
   "language": "python",
   "name": "python3"
  },
  "language_info": {
   "codemirror_mode": {
    "name": "ipython",
    "version": 3
   },
   "file_extension": ".py",
   "mimetype": "text/x-python",
   "name": "python",
   "nbconvert_exporter": "python",
   "pygments_lexer": "ipython3",
   "version": "3.7.5"
  }
 },
 "nbformat": 4,
 "nbformat_minor": 4
}
