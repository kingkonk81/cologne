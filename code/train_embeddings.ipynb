{
 "cells": [
  {
   "cell_type": "markdown",
   "metadata": {},
   "source": [
    "## Training continuous embeddings \n",
    "We use the generated samples to train embeddings using word2vec."
   ]
  },
  {
   "cell_type": "code",
   "execution_count": 120,
   "metadata": {},
   "outputs": [],
   "source": [
    "import os\n",
    "import numpy as np\n",
    "import pandas as pd\n",
    "import json\n",
    "import lightgbm as lgb\n",
    "from collections import Counter\n",
    "import matplotlib.pyplot as plt\n",
    "from scipy import interp\n",
    "from sklearn.model_selection import train_test_split\n",
    "from sklearn.metrics import accuracy_score as acc, f1_score, recall_score, precision_score\n",
    "from sklearn.metrics import roc_curve, auc\n",
    "from sklearn.metrics import balanced_accuracy_score as bacc\n",
    "from sklearn.metrics import mean_absolute_error as mae\n",
    "from sklearn.preprocessing import MultiLabelBinarizer\n",
    "from sklearn.linear_model import LogisticRegression\n",
    "from sklearn.multiclass import OneVsRestClassifier\n",
    "from gensim.models import Word2Vec\n",
    "from sklearn.model_selection import KFold"
   ]
  },
  {
   "cell_type": "code",
   "execution_count": 182,
   "metadata": {},
   "outputs": [
    {
     "name": "stdout",
     "output_type": "stream",
     "text": [
      "../Graphs/Citeseer\n"
     ]
    }
   ],
   "source": [
    "graphnames = ['Cora', 'Citeseer', 'Pubmed', 'HomoSapiens', 'BlogCatalog', 'Wikipedia']\n",
    "idx = 1\n",
    "graphname = graphnames[idx]\n",
    "multilabel=False\n",
    "if idx > 2:\n",
    "    multilabel=True\n",
    "emb_size = 10\n",
    "hop = 4\n",
    "data_dir = os.path.expanduser(\"../Graphs/\"+graphname)\n",
    "print(data_dir)"
   ]
  },
  {
   "cell_type": "code",
   "execution_count": 183,
   "metadata": {},
   "outputs": [],
   "source": [
    "trained_embsize = 50"
   ]
  },
  {
   "cell_type": "code",
   "execution_count": 184,
   "metadata": {},
   "outputs": [],
   "source": [
    "rwalk_path = data_dir + \"/vectors/vectors_rwalk_all_\" + str(emb_size) + \"_hop_\" + str(hop) + \".json\"\n",
    "with open(rwalk_path, \"r\") as read_file:\n",
    "    rwalk_vectors = json.load(read_file)"
   ]
  },
  {
   "cell_type": "code",
   "execution_count": 185,
   "metadata": {},
   "outputs": [],
   "source": [
    "nodesketch_path = data_dir + \"/vectors/vectors_nodesketch_all_\" + str(emb_size) + \"_hop_\" + str(hop) + \".json\"\n",
    "with open(nodesketch_path, \"r\") as read_file:\n",
    "    ns_vectors = json.load(read_file)"
   ]
  },
  {
   "cell_type": "code",
   "execution_count": 186,
   "metadata": {},
   "outputs": [],
   "source": [
    "minwise_path = data_dir + \"/vectors/vectors_minwise_all_\" + str(emb_size) + \"_hop_\" + str(hop) + \".json\"\n",
    "with open(minwise_path, \"r\") as read_file:\n",
    "    minwise_vectors = json.load(read_file)"
   ]
  },
  {
   "cell_type": "code",
   "execution_count": 187,
   "metadata": {},
   "outputs": [],
   "source": [
    "key = list(minwise_vectors.keys())[10]"
   ]
  },
  {
   "cell_type": "code",
   "execution_count": 188,
   "metadata": {},
   "outputs": [
    {
     "data": {
      "text/plain": [
       "[['fiebig97raw', 'label=IR', 'w-2641'],\n",
       " ['458208', 'label=Agents', 'w-140'],\n",
       " ['nodine99active', 'label=DB', 'w-603'],\n",
       " ['540501', 'label=Agents', 'w-591'],\n",
       " ['455961', 'label=IR', 'w-1790'],\n",
       " ['nodine98overview', 'label=DB', 'w-370'],\n",
       " ['540501', 'label=Agents', 'w-532'],\n",
       " ['nodine99active', 'label=DB', 'w-643'],\n",
       " ['100157', 'label=Agents', 'w-3447'],\n",
       " ['nodine98overview', 'label=DB', 'w-56']]"
      ]
     },
     "execution_count": 188,
     "metadata": {},
     "output_type": "execute_result"
    }
   ],
   "source": [
    "rwalk_vectors[key]"
   ]
  },
  {
   "cell_type": "code",
   "execution_count": 189,
   "metadata": {},
   "outputs": [
    {
     "data": {
      "text/plain": [
       "[['appiani00multiagent', 'label=Agents', 'w-2567'],\n",
       " ['decker95coordination', 'label=Agents', 'w-1764'],\n",
       " ['marini00specification', 'label=Agents', 'w-1564'],\n",
       " ['donini98allog', 'label=DB', 'w-974'],\n",
       " ['dix00impact', 'label=DB', 'w-37'],\n",
       " ['28315', 'label=DB', 'w-3207'],\n",
       " ['455961', 'label=IR', 'w-1168'],\n",
       " ['martelli99logic', 'label=Agents', 'w-2391'],\n",
       " ['carro99concurrency', 'label=AI', 'w-1104'],\n",
       " ['hunter00merging', 'label=DB', 'w-2236']]"
      ]
     },
     "execution_count": 189,
     "metadata": {},
     "output_type": "execute_result"
    }
   ],
   "source": [
    "minwise_vectors[key]"
   ]
  },
  {
   "cell_type": "code",
   "execution_count": null,
   "metadata": {},
   "outputs": [],
   "source": []
  },
  {
   "cell_type": "code",
   "execution_count": 190,
   "metadata": {},
   "outputs": [],
   "source": [
    "l1_path = data_dir + \"/vectors/vectors_l1_all_\" + str(emb_size) + \"_hop_\" + str(hop) + \".json\"\n",
    "with open(l1_path, \"r\") as read_file:\n",
    "    l1_vectors = json.load(read_file)"
   ]
  },
  {
   "cell_type": "code",
   "execution_count": 191,
   "metadata": {},
   "outputs": [],
   "source": [
    "l2_path = data_dir + \"/vectors/vectors_l2_all_\" + str(emb_size) + \"_hop_\" + str(hop) + \".json\"\n",
    "with open(l2_path, \"r\") as read_file:\n",
    "    l2_vectors = json.load(read_file)"
   ]
  },
  {
   "cell_type": "code",
   "execution_count": 192,
   "metadata": {},
   "outputs": [],
   "source": [
    "def get_pairs(vectors):\n",
    "    pairs = []\n",
    "    cnt = 0\n",
    "    for node, features in vectors.items():\n",
    "        for feature in features:\n",
    "            pairs.append([node, feature[0]])\n",
    "    return pairs"
   ]
  },
  {
   "cell_type": "code",
   "execution_count": 193,
   "metadata": {},
   "outputs": [],
   "source": [
    "rwalk_pairs = get_pairs(rwalk_vectors)"
   ]
  },
  {
   "cell_type": "code",
   "execution_count": 194,
   "metadata": {},
   "outputs": [],
   "source": [
    "ns_pairs = get_pairs(ns_vectors)"
   ]
  },
  {
   "cell_type": "code",
   "execution_count": 195,
   "metadata": {},
   "outputs": [],
   "source": [
    "minwise_pairs = get_pairs(minwise_vectors)"
   ]
  },
  {
   "cell_type": "code",
   "execution_count": 196,
   "metadata": {},
   "outputs": [],
   "source": [
    "l1_pairs = get_pairs(l1_vectors)"
   ]
  },
  {
   "cell_type": "code",
   "execution_count": 197,
   "metadata": {},
   "outputs": [],
   "source": [
    "l2_pairs = get_pairs(l2_vectors)"
   ]
  },
  {
   "cell_type": "code",
   "execution_count": 198,
   "metadata": {},
   "outputs": [
    {
     "data": {
      "text/plain": [
       "(33120, 33120, 33120, 33120, 33120)"
      ]
     },
     "execution_count": 198,
     "metadata": {},
     "output_type": "execute_result"
    }
   ],
   "source": [
    "len(rwalk_pairs), len(ns_pairs), len(minwise_pairs), len(l1_pairs), len(l2_pairs)"
   ]
  },
  {
   "cell_type": "code",
   "execution_count": 199,
   "metadata": {},
   "outputs": [
    {
     "name": "stdout",
     "output_type": "stream",
     "text": [
      "[['100157', 'joseph01why'], ['100157', '506507'], ['100157', 'martelli99specification'], ['100157', '100157'], ['100157', 'wache01ontologybased'], ['100157', 'dix01metaagent'], ['100157', 'padgett98simple'], ['100157', '100157'], ['100157', 'gray99finding'], ['100157', '385259']]\n"
     ]
    }
   ],
   "source": [
    "print(rwalk_pairs[:10])"
   ]
  },
  {
   "cell_type": "code",
   "execution_count": 200,
   "metadata": {},
   "outputs": [
    {
     "name": "stdout",
     "output_type": "stream",
     "text": [
      "True\n"
     ]
    }
   ],
   "source": [
    "model_rwalk_path = data_dir + '/w2v/w2v_rwalk_emb_'+str(emb_size)+'_hop_' + str(hop) + \\\n",
    "                '_dim_' + str(trained_embsize) +'.model'\n",
    "model_rwalk_exists = os.path.exists(model_rwalk_path)\n",
    "print(model_rwalk_exists)"
   ]
  },
  {
   "cell_type": "code",
   "execution_count": 201,
   "metadata": {},
   "outputs": [],
   "source": [
    "if model_rwalk_exists:\n",
    "    model_rwalk = Word2Vec.load(model_rwalk_path)\n",
    "else:\n",
    "    model_rwalk = Word2Vec(\n",
    "                rwalk_pairs, \n",
    "                size=trained_embsize, \n",
    "                window=2, \n",
    "                min_count=0, \n",
    "                sg=1, \n",
    "                workers=4, \n",
    "                iter=300)"
   ]
  },
  {
   "cell_type": "code",
   "execution_count": 202,
   "metadata": {},
   "outputs": [],
   "source": [
    "if not model_rwalk_exists:\n",
    "    model_rwalk.save(model_rwalk_path)"
   ]
  },
  {
   "cell_type": "code",
   "execution_count": 203,
   "metadata": {},
   "outputs": [
    {
     "name": "stdout",
     "output_type": "stream",
     "text": [
      "True\n"
     ]
    }
   ],
   "source": [
    "model_ns_path = data_dir + '/w2v/w2v_ns_emb_'+str(emb_size)+'_hop_' + str(hop) + \\\n",
    "        '_dim_' + str(trained_embsize) +'.model'\n",
    "model_ns_exists = os.path.exists(model_ns_path)\n",
    "print(model_ns_exists)"
   ]
  },
  {
   "cell_type": "code",
   "execution_count": 204,
   "metadata": {},
   "outputs": [],
   "source": [
    "if model_ns_exists:\n",
    "    model_ns = Word2Vec.load(model_ns_path)\n",
    "else:\n",
    "    model_ns = Word2Vec(\n",
    "                ns_pairs, \n",
    "                size=trained_embsize, \n",
    "                window=2, \n",
    "                min_count=0, \n",
    "                sg=1, \n",
    "                workers=4, \n",
    "                iter=300)\n",
    "    model_ns.save(model_ns_path)"
   ]
  },
  {
   "cell_type": "code",
   "execution_count": 205,
   "metadata": {},
   "outputs": [
    {
     "name": "stdout",
     "output_type": "stream",
     "text": [
      "True\n"
     ]
    }
   ],
   "source": [
    "model_minwise_path = data_dir + '/w2v/w2v_minwise_emb_'+str(emb_size)+'_hop_' + str(hop) + \\\n",
    "        '_dim_' + str(trained_embsize) +'.model'\n",
    "model_minwise_exists = os.path.exists(model_minwise_path)\n",
    "print(model_minwise_exists)"
   ]
  },
  {
   "cell_type": "code",
   "execution_count": 206,
   "metadata": {},
   "outputs": [],
   "source": [
    "if model_minwise_exists:\n",
    "    model_minwise = Word2Vec.load(model_minwise_path)\n",
    "else:\n",
    "    model_minwise = Word2Vec(\n",
    "                minwise_pairs, \n",
    "                size=trained_embsize, \n",
    "                window=2, \n",
    "                min_count=0, \n",
    "                sg=1, \n",
    "                workers=4, \n",
    "                iter=300)\n",
    "    model_minwise.save(model_minwise_path)"
   ]
  },
  {
   "cell_type": "code",
   "execution_count": 207,
   "metadata": {},
   "outputs": [
    {
     "name": "stdout",
     "output_type": "stream",
     "text": [
      "True\n"
     ]
    }
   ],
   "source": [
    "model_l1_path = data_dir + '/w2v/w2v_l1_emb_'+str(emb_size)+'_hop_' + str(hop) + \\\n",
    "        '_dim_' + str(trained_embsize) +'.model'\n",
    "model_l1_exists = os.path.exists(model_l1_path)\n",
    "print(model_l1_exists)"
   ]
  },
  {
   "cell_type": "code",
   "execution_count": 208,
   "metadata": {},
   "outputs": [],
   "source": [
    "if model_l1_exists:\n",
    "    model_l1 = Word2Vec.load(model_l1_path)\n",
    "else:\n",
    "    model_l1 = Word2Vec(\n",
    "                l1_pairs, \n",
    "                size=trained_embsize, \n",
    "                window=2, \n",
    "                min_count=0, \n",
    "                sg=1, \n",
    "                workers=4, \n",
    "                #negative=2,\n",
    "                iter=300)\n",
    "    model_l1.save(model_l1_path)"
   ]
  },
  {
   "cell_type": "code",
   "execution_count": 209,
   "metadata": {},
   "outputs": [
    {
     "name": "stdout",
     "output_type": "stream",
     "text": [
      "True\n"
     ]
    }
   ],
   "source": [
    "model_l2_path = data_dir + '/w2v/w2v_l2_emb_'+str(emb_size)+'_hop_' + str(hop) + \\\n",
    "        '_dim_' + str(trained_embsize) +'.model'\n",
    "model_l2_exists = os.path.exists(model_l2_path)\n",
    "print(model_l2_exists)"
   ]
  },
  {
   "cell_type": "code",
   "execution_count": 210,
   "metadata": {},
   "outputs": [],
   "source": [
    "if model_l2_exists:\n",
    "    model_l2 = Word2Vec.load(model_l2_path)\n",
    "else:\n",
    "    model_l2 = Word2Vec(\n",
    "                l2_pairs, \n",
    "                size=trained_embsize, \n",
    "                window=2, \n",
    "                min_count=0, \n",
    "                sg=1, \n",
    "                workers=4, \n",
    "                #negative=2,\n",
    "                iter=300)\n",
    "    model_l2.save(model_l2_path)"
   ]
  },
  {
   "cell_type": "code",
   "execution_count": 211,
   "metadata": {},
   "outputs": [],
   "source": [
    "nodes_with_labels = pd.read_csv(data_dir + '/data/nodes_with_labels.csv')"
   ]
  },
  {
   "cell_type": "code",
   "execution_count": 212,
   "metadata": {},
   "outputs": [
    {
     "data": {
      "text/html": [
       "<div>\n",
       "<style scoped>\n",
       "    .dataframe tbody tr th:only-of-type {\n",
       "        vertical-align: middle;\n",
       "    }\n",
       "\n",
       "    .dataframe tbody tr th {\n",
       "        vertical-align: top;\n",
       "    }\n",
       "\n",
       "    .dataframe thead th {\n",
       "        text-align: right;\n",
       "    }\n",
       "</style>\n",
       "<table border=\"1\" class=\"dataframe\">\n",
       "  <thead>\n",
       "    <tr style=\"text-align: right;\">\n",
       "      <th></th>\n",
       "      <th>node</th>\n",
       "      <th>label</th>\n",
       "    </tr>\n",
       "  </thead>\n",
       "  <tbody>\n",
       "    <tr>\n",
       "      <th>0</th>\n",
       "      <td>100157</td>\n",
       "      <td>Agents</td>\n",
       "    </tr>\n",
       "    <tr>\n",
       "      <th>1</th>\n",
       "      <td>100598</td>\n",
       "      <td>IR</td>\n",
       "    </tr>\n",
       "    <tr>\n",
       "      <th>2</th>\n",
       "      <td>105684</td>\n",
       "      <td>Agents</td>\n",
       "    </tr>\n",
       "    <tr>\n",
       "      <th>3</th>\n",
       "      <td>11099</td>\n",
       "      <td>DB</td>\n",
       "    </tr>\n",
       "    <tr>\n",
       "      <th>4</th>\n",
       "      <td>114091</td>\n",
       "      <td>AI</td>\n",
       "    </tr>\n",
       "  </tbody>\n",
       "</table>\n",
       "</div>"
      ],
      "text/plain": [
       "     node   label\n",
       "0  100157  Agents\n",
       "1  100598      IR\n",
       "2  105684  Agents\n",
       "3   11099      DB\n",
       "4  114091      AI"
      ]
     },
     "execution_count": 212,
     "metadata": {},
     "output_type": "execute_result"
    }
   ],
   "source": [
    "nodes_with_labels.head()"
   ]
  },
  {
   "cell_type": "code",
   "execution_count": null,
   "metadata": {},
   "outputs": [],
   "source": []
  },
  {
   "cell_type": "code",
   "execution_count": null,
   "metadata": {},
   "outputs": [],
   "source": []
  },
  {
   "cell_type": "code",
   "execution_count": 213,
   "metadata": {},
   "outputs": [],
   "source": [
    "# generate a dataset with labels from the trained embeddings\n",
    "def get_X_y(model, nodes_with_labels, multilabel=False):\n",
    "    \n",
    "    X = []\n",
    "    y = []\n",
    "    labels = {}\n",
    "    for idx, row in nodes_with_labels.iterrows():\n",
    "        \n",
    "        X.append([float(x) for x in model[str(row['node'])]])\n",
    "        row_labels = [row['label']]\n",
    "        if multilabel:\n",
    "            row_labels = row[\"label\"].split(\"=\")\n",
    "            row_labels = row_labels[1:-1]   \n",
    "        for rl in row_labels:\n",
    "            if rl not in labels:\n",
    "                labels[rl] = len(labels)\n",
    "        enc_label = []\n",
    "        for rl in row_labels:\n",
    "            enc_label.append(labels[rl])\n",
    "        y.append(enc_label)\n",
    "    X = np.array(X)\n",
    "    return X, y"
   ]
  },
  {
   "cell_type": "code",
   "execution_count": 214,
   "metadata": {},
   "outputs": [
    {
     "name": "stderr",
     "output_type": "stream",
     "text": [
      "/usr/local/lib/python3.7/dist-packages/ipykernel_launcher.py:9: DeprecationWarning: Call to deprecated `__getitem__` (Method will be removed in 4.0.0, use self.wv.__getitem__() instead).\n",
      "  if __name__ == '__main__':\n"
     ]
    }
   ],
   "source": [
    "X_rw, y_rw = get_X_y(model_rwalk, nodes_with_labels, multilabel=multilabel)"
   ]
  },
  {
   "cell_type": "code",
   "execution_count": 215,
   "metadata": {},
   "outputs": [
    {
     "name": "stderr",
     "output_type": "stream",
     "text": [
      "/usr/local/lib/python3.7/dist-packages/ipykernel_launcher.py:9: DeprecationWarning: Call to deprecated `__getitem__` (Method will be removed in 4.0.0, use self.wv.__getitem__() instead).\n",
      "  if __name__ == '__main__':\n"
     ]
    }
   ],
   "source": [
    "X_ns, y_ns = get_X_y(model_ns, nodes_with_labels, multilabel=multilabel)"
   ]
  },
  {
   "cell_type": "code",
   "execution_count": 216,
   "metadata": {},
   "outputs": [
    {
     "name": "stderr",
     "output_type": "stream",
     "text": [
      "/usr/local/lib/python3.7/dist-packages/ipykernel_launcher.py:9: DeprecationWarning: Call to deprecated `__getitem__` (Method will be removed in 4.0.0, use self.wv.__getitem__() instead).\n",
      "  if __name__ == '__main__':\n"
     ]
    }
   ],
   "source": [
    "X_mw, y_mw = get_X_y(model_minwise, nodes_with_labels, multilabel=multilabel)"
   ]
  },
  {
   "cell_type": "code",
   "execution_count": 217,
   "metadata": {},
   "outputs": [
    {
     "name": "stderr",
     "output_type": "stream",
     "text": [
      "/usr/local/lib/python3.7/dist-packages/ipykernel_launcher.py:9: DeprecationWarning: Call to deprecated `__getitem__` (Method will be removed in 4.0.0, use self.wv.__getitem__() instead).\n",
      "  if __name__ == '__main__':\n"
     ]
    }
   ],
   "source": [
    "X_l1, y_l1 = get_X_y(model_l1, nodes_with_labels, multilabel=multilabel)"
   ]
  },
  {
   "cell_type": "code",
   "execution_count": 218,
   "metadata": {},
   "outputs": [
    {
     "name": "stderr",
     "output_type": "stream",
     "text": [
      "/usr/local/lib/python3.7/dist-packages/ipykernel_launcher.py:9: DeprecationWarning: Call to deprecated `__getitem__` (Method will be removed in 4.0.0, use self.wv.__getitem__() instead).\n",
      "  if __name__ == '__main__':\n"
     ]
    }
   ],
   "source": [
    "X_l2, y_l2 = get_X_y(model_l2, nodes_with_labels, multilabel=multilabel)"
   ]
  },
  {
   "cell_type": "code",
   "execution_count": null,
   "metadata": {},
   "outputs": [],
   "source": []
  },
  {
   "cell_type": "code",
   "execution_count": 219,
   "metadata": {},
   "outputs": [
    {
     "data": {
      "text/plain": [
       "((3312, 50), (3312, 50), (3312, 50), (3312, 50), (3312, 50))"
      ]
     },
     "execution_count": 219,
     "metadata": {},
     "output_type": "execute_result"
    }
   ],
   "source": [
    "X_rw.shape, X_ns.shape, X_mw.shape, X_l1.shape, X_l2.shape"
   ]
  },
  {
   "cell_type": "code",
   "execution_count": 220,
   "metadata": {},
   "outputs": [
    {
     "data": {
      "text/plain": [
       "[[0], [1], [0], [2], [3]]"
      ]
     },
     "execution_count": 220,
     "metadata": {},
     "output_type": "execute_result"
    }
   ],
   "source": [
    "y_l1[:5]"
   ]
  },
  {
   "cell_type": "code",
   "execution_count": 221,
   "metadata": {},
   "outputs": [],
   "source": [
    "def plot_label_distribution(y):\n",
    "    counts = {}\n",
    "    for labels_i in y:\n",
    "        for l_i in labels_i:\n",
    "            counts.setdefault(l_i, 0)\n",
    "            counts[l_i] += 1\n",
    "    \n",
    "    top_counts = sorted([(cnt, lbl) for lbl, cnt in counts.items()], reverse=True)\n",
    "    plt.bar([i for i in range(len(top_counts))], [c for c, _ in top_counts], alpha=0.7)"
   ]
  },
  {
   "cell_type": "code",
   "execution_count": 222,
   "metadata": {},
   "outputs": [
    {
     "data": {
      "image/png": "[encoded data removed]",
      "text/plain": [
       "<Figure size 432x288 with 1 Axes>"
      ]
     },
     "metadata": {
      "needs_background": "light"
     },
     "output_type": "display_data"
    }
   ],
   "source": [
    "plot_label_distribution(y_ns)"
   ]
  },
  {
   "cell_type": "code",
   "execution_count": 223,
   "metadata": {},
   "outputs": [],
   "source": [
    "def one_hot(y, top=10):\n",
    "    \n",
    "    counts = {}\n",
    "    for labels_i in y:\n",
    "        for l_i in labels_i:\n",
    "            counts.setdefault(l_i, 0)\n",
    "            counts[l_i] += 1\n",
    "    \n",
    "    top_counts = sorted([(cnt, lbl) for lbl, cnt in counts.items()], reverse=True)[:top]\n",
    "    labels = {cnt_lbl[1]: i for i,cnt_lbl in enumerate(top_counts)}\n",
    "    \n",
    "    top = min(top, len(counts)-1)\n",
    "    \n",
    "#     labels = {}\n",
    "#     for labels_i in y:\n",
    "#         for l_i in labels_i:\n",
    "#             labels.setdefault(l_i, len(labels))\n",
    "    encoded = np.zeros((len(y), top+1))\n",
    "    for i, labels_i in enumerate(y):\n",
    "        for l_i in labels_i:\n",
    "            if l_i in labels:\n",
    "                encoded[i, labels[l_i]] = 1\n",
    "            else:\n",
    "                encoded[i, top] = 1\n",
    "            \n",
    "    return encoded\n",
    "    "
   ]
  },
  {
   "cell_type": "code",
   "execution_count": 224,
   "metadata": {},
   "outputs": [
    {
     "data": {
      "text/plain": [
       "(3312, 6)"
      ]
     },
     "execution_count": 224,
     "metadata": {},
     "output_type": "execute_result"
    }
   ],
   "source": [
    "one_hot(y_rw, top=10).shape"
   ]
  },
  {
   "cell_type": "code",
   "execution_count": 225,
   "metadata": {},
   "outputs": [],
   "source": [
    "def plot_roc(X, y, nr_iters):\n",
    "    labels = set()\n",
    "    for labels_i in y:\n",
    "        for l_i in labels_i:\n",
    "            labels.add(l_i)\n",
    "    lgb_params = {'objective':'multiclass',\n",
    "                  'metric': 'multi_logloss',\n",
    "            'boosting_type':'gbdt',\n",
    "            'n_jobs':4,\n",
    "            'max_depth':-1,\n",
    "             'num_class': len(labels),\n",
    "            'learning_rate':0.1,\n",
    "            'tree_learner':'serial',\n",
    "            'n_estimators':2000,\n",
    "            'verbose':-1,\n",
    "            'seed': 73,\n",
    "            'feature_fraction':1}\n",
    "    micros = []\n",
    "    macros = []\n",
    "    for i in range(nr_iters):\n",
    "        print('Iter', i)\n",
    "        y = MultiLabelBinarizer().fit_transform(y)\n",
    "        X_train, X_val, y_train, y_val = train_test_split(X, y, train_size=0.8)\n",
    "        clf = lgb.LGBMClassifier( **lgb_params) \n",
    "        clf = OneVsRestClassifier(clf)\n",
    "        X_train_clf, X_test, y_train_clf, y_test =  train_test_split(X_train, y_train)\n",
    "        \n",
    "        clf.fit(X_train_clf, y_train_clf)#, eval_set=[(X_train_clf, y_train_clf), (X_test, y_test)], \n",
    "                        # early_stopping_rounds=50, verbose=100)\n",
    "        y_pred_prob = clf.predict_proba(X_val)\n",
    "        y_val_mat = one_hot(y_val)\n",
    "        fpr = dict()\n",
    "        tpr = dict()\n",
    "        roc_auc = dict()\n",
    "\n",
    "        n_classes = y_val_mat.shape[1]\n",
    "        y_test_mat = one_hot(y_test)\n",
    "\n",
    "        for i in range(n_classes):\n",
    "            fpr[i], tpr[i], _ = roc_curve(y_val_mat[:, i], y_pred_prob[:, i])\n",
    "            roc_auc[i] = auc(fpr[i], tpr[i])\n",
    "\n",
    "        fpr[\"micro\"], tpr[\"micro\"], _ = roc_curve(y_val_mat.ravel(), y_pred_prob.ravel())\n",
    "        roc_auc[\"micro\"] = auc(fpr[\"micro\"], tpr[\"micro\"])\n",
    "\n",
    "        # First aggregate all false positive rates\n",
    "        all_fpr = np.unique(np.concatenate([fpr[i] for i in range(n_classes)]))\n",
    "\n",
    "        # Then interpolate all ROC curves at this points\n",
    "        mean_tpr = np.zeros_like(all_fpr)\n",
    "        for i in range(n_classes):\n",
    "            mean_tpr += interp(all_fpr, fpr[i], tpr[i])\n",
    "\n",
    "        # Finally average it and compute AUC\n",
    "        mean_tpr /= n_classes\n",
    "\n",
    "        fpr[\"macro\"] = all_fpr\n",
    "        tpr[\"macro\"] = mean_tpr\n",
    "        roc_auc[\"macro\"] = auc(fpr[\"macro\"], tpr[\"macro\"])\n",
    "\n",
    "        print('Micro AUC', roc_auc[\"micro\"])\n",
    "        print('Macro AUC', roc_auc[\"macro\"])\n",
    "        micros.append(roc_auc[\"micro\"])\n",
    "        macros.append(roc_auc[\"macro\"])\n",
    "    mean_micro = 100.0*np.round(np.mean(micros), 3)\n",
    "    mean_macro = 100.0*np.round(np.mean(macros), 3)\n",
    "    std_micro = 100.0*np.round(np.std(micros), 3)\n",
    "    std_macro = 100.0*np.round(np.std(macros), 3)\n",
    "    print(\"{} $\\pm$ {} & {} $\\pm$ {}\".format(np.round(mean_micro, 3), np.round(std_micro, 3),\\\n",
    "                                             np.round(mean_macro, 3), np.round(std_macro, 3)))\n",
    "    \n",
    "    \n",
    "#     # Plot all ROC curves\n",
    "#     plt.figure()\n",
    "#     plt.plot(fpr[\"micro\"], tpr[\"micro\"],\n",
    "#              label='micro-average ROC curve (area = {0:0.3f})'\n",
    "#                    ''.format(roc_auc[\"micro\"]),\n",
    "#              color='deeppink', linestyle=':', linewidth=4)\n",
    "\n",
    "#     plt.plot(fpr[\"macro\"], tpr[\"macro\"],\n",
    "#              label='macro-average ROC curve (area = {0:0.3f})'\n",
    "#                    ''.format(roc_auc[\"macro\"]),\n",
    "#              color='navy', linestyle=':', linewidth=4)\n",
    "    \n",
    "# #     plt.figure()\n",
    "#     lw = 2\n",
    "# #     plt.plot(fpr[2], tpr[2], color='darkorange', lw=lw, label='ROC curve (area = %0.2f)' % roc_auc[0])\n",
    "#     plt.plot([0, 1], [0, 1], color='navy', lw=lw, linestyle='--')\n",
    "#     plt.xlim([0.0, 1.0])\n",
    "#     plt.ylim([0.0, 1.05])\n",
    "#     plt.xlabel('False Positive Rate')\n",
    "#     plt.ylabel('True Positive Rate')\n",
    "#     plt.title('Receiver operating characteristic example')\n",
    "#     plt.legend(loc=\"lower right\")\n",
    "#     plt.show()"
   ]
  },
  {
   "cell_type": "code",
   "execution_count": 226,
   "metadata": {},
   "outputs": [],
   "source": [
    "def multilabel_classification(X, y, top_classes, res_path):\n",
    "    # mlb = MultiLabelBinarizer()\n",
    "    y = one_hot(y, top_classes) # mlb.fit_transform(y)\n",
    "    \n",
    "    f1s = []\n",
    "    nr_iters = 10\n",
    "    #for train_index, test_index in kf.split(X):\n",
    "    for i in range(nr_iters):    \n",
    "        print('Iter', i)\n",
    "        X_train, X_test, y_train, y_test = train_test_split(X, y, train_size=0.5)\n",
    "        # X_train, X_test = X[train_index], X[test_index]\n",
    "        # y_train, y_test = y[train_index], y[test_index]\n",
    "        model = LogisticRegression(C=1.0, penalty='l1', dual=False, solver='liblinear')\n",
    "        model = OneVsRestClassifier(model)\n",
    "        model.fit(X_train, y_train)\n",
    "\n",
    "        # n_classes = y_test.shape[1]\n",
    "        y_pred = model.predict_proba(X_test)\n",
    "        y_pred_abs = model.predict(X_test)\n",
    "        \n",
    "        f1 = f1_score(y_test, y_pred_abs, average='micro')\n",
    "        print(f1)\n",
    "        f1s.append(f1)\n",
    "        \n",
    "        print(\"prec\", precision_score(y_test.ravel(), y_pred_abs.ravel()))\n",
    "        print(\"recall\", recall_score(y_test.ravel(), y_pred_abs.ravel()))\n",
    "        f1 = f1_score(y_test.ravel(), y_pred_abs.ravel(), average='binary')\n",
    "        print(\"F1\", f1)\n",
    "\n",
    "#         fpr = dict()\n",
    "#         tpr = dict()\n",
    "#         roc_auc = dict()\n",
    "\n",
    "#         for i in range(n_classes):\n",
    "#             fpr[i], tpr[i], _ = roc_curve(y_test[:, i], y_pred[:, i])\n",
    "#             roc_auc[i] = auc(fpr[i], tpr[i])\n",
    "\n",
    "#         fpr[\"micro\"], tpr[\"micro\"], _ = roc_curve(y_test.ravel(), y_pred.ravel())\n",
    "#         roc_auc[\"micro\"] = auc(fpr[\"micro\"], tpr[\"micro\"])\n",
    "\n",
    "#         # First aggregate all false positive rates\n",
    "#         all_fpr = np.unique(np.concatenate([fpr[i] for i in range(n_classes)]))\n",
    "\n",
    "#         # Then interpolate all ROC curves at this points\n",
    "#         mean_tpr = np.zeros_like(all_fpr)\n",
    "#         for i in range(n_classes):\n",
    "#             mean_tpr += np.interp(all_fpr, fpr[i], tpr[i])\n",
    "\n",
    "#         # Finally average it and compute AUC\n",
    "#         mean_tpr /= n_classes\n",
    "\n",
    "#         fpr[\"macro\"] = all_fpr\n",
    "#         tpr[\"macro\"] = mean_tpr\n",
    "#         roc_auc[\"macro\"] = auc(fpr[\"macro\"], tpr[\"macro\"])\n",
    "#         micros.append(roc_auc[\"micro\"])\n",
    "#         macros.append(roc_auc[\"macro\"])\n",
    "        \n",
    "    print('Micro F1', np.mean(f1s))\n",
    "#     print('Macro AUC', np.mean(macros))\n",
    "#     print('Accuracy', np.mean(accs))\n",
    "    \n",
    "#     with open(res_path + \"_w2v_accuracy.txt\", \"w\") as f:\n",
    "#         f.write(str(np.mean(accs)) + \" \" + str(np.std(accs)))\n",
    "#     with open(res_path + \"_w2v_micro_F1.txt\", \"w\") as f:\n",
    "#         f.write(str(np.mean(f1s)) + \" \" + str(np.std(f1s)))"
   ]
  },
  {
   "cell_type": "code",
   "execution_count": 227,
   "metadata": {},
   "outputs": [
    {
     "data": {
      "text/plain": [
       "array([[-0.2377793 ,  0.2348129 ,  1.64202166, ..., -1.96658158,\n",
       "         0.65738982, -0.1094127 ],\n",
       "       [ 0.39379716, -0.61176097,  0.04141475, ...,  0.94576615,\n",
       "         0.41367307,  1.86874604],\n",
       "       [ 0.05979461,  0.63366288,  0.19363481, ...,  0.51234955,\n",
       "         0.66376966,  0.71985   ],\n",
       "       ...,\n",
       "       [-0.22904207, -0.39310053,  0.11675517, ..., -0.73740858,\n",
       "         0.52258742,  1.51541424],\n",
       "       [-0.22558014,  0.45726946, -0.35015565, ...,  0.22818127,\n",
       "         0.59049648,  0.33673689],\n",
       "       [-0.71556801, -0.45588899, -0.24389426, ...,  0.18431491,\n",
       "         0.6391626 ,  1.21205676]])"
      ]
     },
     "execution_count": 227,
     "metadata": {},
     "output_type": "execute_result"
    }
   ],
   "source": [
    "X_rw"
   ]
  },
  {
   "cell_type": "code",
   "execution_count": 228,
   "metadata": {},
   "outputs": [],
   "source": [
    "top_classes = 30"
   ]
  },
  {
   "cell_type": "code",
   "execution_count": 229,
   "metadata": {},
   "outputs": [
    {
     "name": "stdout",
     "output_type": "stream",
     "text": [
      "Iter 0\n",
      "0.43514997887621465\n",
      "prec 0.7243319268635724\n",
      "recall 0.3109903381642512\n",
      "F1 0.43514997887621465\n",
      "Iter 1\n",
      "0.43314822725331054\n",
      "prec 0.7401459854014598\n",
      "recall 0.3061594202898551\n",
      "F1 0.43314822725331054\n",
      "Iter 2\n",
      "0.42225998300764656\n",
      "prec 0.7120343839541547\n",
      "recall 0.3001207729468599\n",
      "F1 0.42225998300764656\n",
      "Iter 3\n",
      "0.42580101180438445\n",
      "prec 0.7053072625698324\n",
      "recall 0.30495169082125606\n",
      "F1 0.42580101180438445\n",
      "Iter 4\n",
      "0.43996641477749787\n",
      "prec 0.721763085399449\n",
      "recall 0.3164251207729469\n",
      "F1 0.43996641477749787\n",
      "Iter 5\n",
      "0.43834459459459457\n",
      "prec 0.7289325842696629\n",
      "recall 0.3134057971014493\n",
      "F1 0.43834459459459457\n",
      "Iter 6\n",
      "0.427061310782241\n",
      "prec 0.7122708039492243\n",
      "recall 0.30495169082125606\n",
      "F1 0.427061310782241\n",
      "Iter 7\n",
      "0.4392090870845604\n",
      "prec 0.723994452149792\n",
      "recall 0.31521739130434784\n",
      "F1 0.4392090870845604\n",
      "Iter 8\n",
      "0.4242928452579035\n",
      "prec 0.6818181818181818\n",
      "recall 0.3079710144927536\n",
      "F1 0.4242928452579035\n",
      "Iter 9\n",
      "0.42337662337662335\n",
      "prec 0.7477064220183486\n",
      "recall 0.29528985507246375\n",
      "F1 0.42337662337662335\n",
      "Micro F1 0.43086100768149765\n"
     ]
    }
   ],
   "source": [
    "res_path = data_dir + \"/results/rwalk_\" + str(emb_size) + \"_hop_\" + str(hop) \n",
    "multilabel_classification(X_rw, y_rw, top_classes=top_classes, res_path=res_path)"
   ]
  },
  {
   "cell_type": "code",
   "execution_count": 230,
   "metadata": {},
   "outputs": [
    {
     "name": "stdout",
     "output_type": "stream",
     "text": [
      "Iter 0\n",
      "0.4879398971925662\n",
      "prec 0.7067583046964491\n",
      "recall 0.3725845410628019\n",
      "F1 0.4879398971925662\n",
      "Iter 1\n",
      "0.46858532630725586\n",
      "prec 0.7127003699136868\n",
      "recall 0.34903381642512077\n",
      "F1 0.46858532630725586\n",
      "Iter 2\n",
      "0.45810055865921784\n",
      "prec 0.6752941176470588\n",
      "recall 0.3466183574879227\n",
      "F1 0.45810055865921784\n",
      "Iter 3\n",
      "0.47473560517038776\n",
      "prec 0.6755852842809364\n",
      "recall 0.36594202898550726\n",
      "F1 0.47473560517038776\n",
      "Iter 4\n",
      "0.48646496815286616\n",
      "prec 0.7137850467289719\n",
      "recall 0.3689613526570048\n",
      "F1 0.48646496815286616\n",
      "Iter 5\n",
      "0.4800974817221771\n",
      "prec 0.7332506203473945\n",
      "recall 0.35688405797101447\n",
      "F1 0.4800974817221771\n",
      "Iter 6\n",
      "0.47967806841046284\n",
      "prec 0.7189384800965019\n",
      "recall 0.35990338164251207\n",
      "F1 0.47967806841046284\n",
      "Iter 7\n",
      "0.47512932749701553\n",
      "prec 0.6966161026837806\n",
      "recall 0.3605072463768116\n",
      "F1 0.47512932749701553\n",
      "Iter 8\n",
      "0.4743892828999212\n",
      "prec 0.6825396825396826\n",
      "recall 0.3635265700483092\n",
      "F1 0.4743892828999212\n",
      "Iter 9\n",
      "0.4721549636803874\n",
      "prec 0.7116788321167883\n",
      "recall 0.3532608695652174\n",
      "F1 0.4721549636803874\n",
      "Micro F1 0.47572754796922584\n"
     ]
    }
   ],
   "source": [
    "res_path = data_dir + \"/results/nodesketch_\" + str(emb_size) + \"_hop_\" + str(hop) \n",
    "multilabel_classification(X_ns, y_ns, top_classes=top_classes, res_path=res_path)"
   ]
  },
  {
   "cell_type": "code",
   "execution_count": 231,
   "metadata": {},
   "outputs": [
    {
     "name": "stdout",
     "output_type": "stream",
     "text": [
      "Iter 0\n",
      "0.48133439237490067\n",
      "prec 0.703016241299304\n",
      "recall 0.36594202898550726\n",
      "F1 0.48133439237490067\n",
      "Iter 1\n",
      "0.5122425184609406\n",
      "prec 0.7186477644492911\n",
      "recall 0.39794685990338163\n",
      "F1 0.5122425184609406\n",
      "Iter 2\n",
      "0.5042471042471043\n",
      "prec 0.6991434689507494\n",
      "recall 0.3943236714975845\n",
      "F1 0.5042471042471043\n",
      "Iter 3\n",
      "0.4950884086444008\n",
      "prec 0.7086614173228346\n",
      "recall 0.3804347826086957\n",
      "F1 0.4950884086444008\n",
      "Iter 4\n",
      "0.49742165807219363\n",
      "prec 0.7248554913294798\n",
      "recall 0.3786231884057971\n",
      "F1 0.49742165807219363\n",
      "Iter 5\n",
      "0.49801113762927607\n",
      "prec 0.7296037296037297\n",
      "recall 0.3780193236714976\n",
      "F1 0.49801113762927607\n",
      "Iter 6\n",
      "0.503669370413287\n",
      "prec 0.6988210075026795\n",
      "recall 0.39371980676328505\n",
      "F1 0.503669370413287\n",
      "Iter 7\n",
      "0.48408644400785855\n",
      "prec 0.6929133858267716\n",
      "recall 0.3719806763285024\n",
      "F1 0.48408644400785855\n",
      "Iter 8\n",
      "0.49365079365079356\n",
      "prec 0.7199074074074074\n",
      "recall 0.3756038647342995\n",
      "F1 0.49365079365079356\n",
      "Iter 9\n",
      "0.5060903732809431\n",
      "prec 0.7244094488188977\n",
      "recall 0.3888888888888889\n",
      "F1 0.5060903732809431\n",
      "Micro F1 0.4975842200781699\n"
     ]
    }
   ],
   "source": [
    "res_path = data_dir + \"/results/minwise_\" + str(emb_size) + \"_hop_\" + str(hop) \n",
    "multilabel_classification(X_mw, y_mw, top_classes=top_classes, res_path=res_path)"
   ]
  },
  {
   "cell_type": "code",
   "execution_count": 232,
   "metadata": {},
   "outputs": [
    {
     "name": "stdout",
     "output_type": "stream",
     "text": [
      "Iter 0\n",
      "0.47346600331674965\n",
      "prec 0.7552910052910053\n",
      "recall 0.34480676328502413\n",
      "F1 0.47346600331674965\n",
      "Iter 1\n",
      "0.4798387096774193\n",
      "prec 0.7220873786407767\n",
      "recall 0.35929951690821255\n",
      "F1 0.4798387096774193\n",
      "Iter 2\n",
      "0.48428686543110394\n",
      "prec 0.7276029055690073\n",
      "recall 0.36292270531400966\n",
      "F1 0.48428686543110394\n",
      "Iter 3\n",
      "0.4753363228699551\n",
      "prec 0.7314930991217063\n",
      "recall 0.35205314009661837\n",
      "F1 0.4753363228699551\n",
      "Iter 4\n",
      "0.4658207122390503\n",
      "prec 0.7229987293519695\n",
      "recall 0.34359903381642515\n",
      "F1 0.4658207122390503\n",
      "Iter 5\n",
      "0.47928513403736794\n",
      "prec 0.7320099255583127\n",
      "recall 0.35628019323671495\n",
      "F1 0.47928513403736794\n",
      "Iter 6\n",
      "0.4691255698300871\n",
      "prec 0.7476882430647291\n",
      "recall 0.3417874396135266\n",
      "F1 0.4691255698300871\n",
      "Iter 7\n",
      "0.4973758578926121\n",
      "prec 0.7503045066991474\n",
      "recall 0.3719806763285024\n",
      "F1 0.4973758578926121\n",
      "Iter 8\n",
      "0.4827024827024827\n",
      "prec 0.7403245942571786\n",
      "recall 0.3580917874396135\n",
      "F1 0.4827024827024827\n",
      "Iter 9\n",
      "0.4748260335652885\n",
      "prec 0.7369758576874206\n",
      "recall 0.3502415458937198\n",
      "F1 0.4748260335652885\n",
      "Micro F1 0.4782063691562117\n"
     ]
    }
   ],
   "source": [
    "res_path = data_dir + \"/results/l1_\" + str(emb_size) + \"_hop_\" + str(hop) \n",
    "multilabel_classification(X_l1, y_l1, top_classes=top_classes, res_path=res_path)"
   ]
  },
  {
   "cell_type": "code",
   "execution_count": 233,
   "metadata": {},
   "outputs": [
    {
     "name": "stdout",
     "output_type": "stream",
     "text": [
      "Iter 0\n",
      "0.46547522339561326\n",
      "prec 0.7109181141439206\n",
      "recall 0.34601449275362317\n",
      "F1 0.46547522339561326\n",
      "Iter 1\n",
      "0.4621676891615542\n",
      "prec 0.7160963244613435\n",
      "recall 0.34118357487922707\n",
      "F1 0.4621676891615542\n",
      "Iter 2\n",
      "0.46951472418083784\n",
      "prec 0.7496688741721854\n",
      "recall 0.3417874396135266\n",
      "F1 0.46951472418083784\n",
      "Iter 3\n",
      "0.4769539078156313\n",
      "prec 0.7091775923718713\n",
      "recall 0.35929951690821255\n",
      "F1 0.4769539078156313\n",
      "Iter 4\n",
      "0.4644588045234248\n",
      "prec 0.7012195121951219\n",
      "recall 0.3472222222222222\n",
      "F1 0.4644588045234248\n",
      "Iter 5\n",
      "0.48668578451454314\n",
      "prec 0.756687898089172\n",
      "recall 0.358695652173913\n",
      "F1 0.48668578451454314\n",
      "Iter 6\n",
      "0.467841048750512\n",
      "prec 0.7273885350318471\n",
      "recall 0.34480676328502413\n",
      "F1 0.467841048750512\n",
      "Iter 7\n",
      "0.47882736156351785\n",
      "prec 0.735\n",
      "recall 0.35507246376811596\n",
      "F1 0.47882736156351785\n",
      "Iter 8\n",
      "0.48839071257005606\n",
      "prec 0.7244655581947743\n",
      "recall 0.36835748792270534\n",
      "F1 0.48839071257005606\n",
      "Iter 9\n",
      "0.48992747784045126\n",
      "prec 0.7360774818401937\n",
      "recall 0.3671497584541063\n",
      "F1 0.48992747784045126\n",
      "Micro F1 0.47502427343161424\n"
     ]
    }
   ],
   "source": [
    "res_path = data_dir + \"/results/l2_\" + str(emb_size) + \"_hop_\" + str(hop) \n",
    "multilabel_classification(X_l2, y_l2, top_classes=top_classes, res_path=res_path)"
   ]
  },
  {
   "cell_type": "code",
   "execution_count": null,
   "metadata": {},
   "outputs": [],
   "source": []
  },
  {
   "cell_type": "code",
   "execution_count": null,
   "metadata": {},
   "outputs": [],
   "source": []
  },
  {
   "cell_type": "code",
   "execution_count": null,
   "metadata": {},
   "outputs": [],
   "source": []
  },
  {
   "cell_type": "code",
   "execution_count": 53,
   "metadata": {},
   "outputs": [],
   "source": [
    "# plot_roc(X_rw, y_rw, 10)"
   ]
  },
  {
   "cell_type": "code",
   "execution_count": 54,
   "metadata": {},
   "outputs": [],
   "source": [
    "# plot_roc(X_ns, y_ns, 10)"
   ]
  },
  {
   "cell_type": "code",
   "execution_count": 55,
   "metadata": {},
   "outputs": [],
   "source": [
    "# plot_roc(X_mw, y_mw, 10)"
   ]
  },
  {
   "cell_type": "code",
   "execution_count": 56,
   "metadata": {},
   "outputs": [],
   "source": [
    "# plot_roc(X_l1, y_l1, 10)"
   ]
  },
  {
   "cell_type": "code",
   "execution_count": 57,
   "metadata": {},
   "outputs": [],
   "source": [
    "# plot_roc(X_l2, y_l2, 10)"
   ]
  },
  {
   "cell_type": "code",
   "execution_count": null,
   "metadata": {},
   "outputs": [],
   "source": []
  },
  {
   "cell_type": "code",
   "execution_count": null,
   "metadata": {},
   "outputs": [],
   "source": []
  },
  {
   "cell_type": "code",
   "execution_count": 58,
   "metadata": {},
   "outputs": [],
   "source": [
    "# compute the mean balanced accuracy over a number of runs\n",
    "def get_mean_bacc(X, y, nr_iters):\n",
    "    lgb_params = {'objective':'multiclass',\n",
    "                  'metric': 'multi_error',\n",
    "            'boosting_type':'gbdt',\n",
    "            'n_jobs':4,\n",
    "            'max_depth':-1,\n",
    "             'num_class': len(set(y)),\n",
    "            'learning_rate':0.1,\n",
    "            'tree_learner':'serial',\n",
    "            'n_estimators':2000,\n",
    "            'verbose':-1,\n",
    "            'seed': 73,\n",
    "            'feature_fraction':1}\n",
    "    accs = []    \n",
    "    for i in range(nr_iters):\n",
    "        print('Iter', i)\n",
    "        X_train, X_val, y_train, y_val = train_test_split(X, y, train_size=0.8)\n",
    "        clf = lgb.LGBMClassifier( **lgb_params) \n",
    "        X_train_clf, X_test, y_train_clf, y_test =  train_test_split(X_train, y_train)\n",
    "        clf.fit(X_train_clf, y_train_clf, eval_set=[(X_train_clf, y_train_clf), (X_test, y_test)], \n",
    "                    early_stopping_rounds=50, verbose=100)\n",
    "        y_pred = clf.predict(X_val)\n",
    "        acc = bacc(y_pred, y_val)\n",
    "        accs.append(acc)\n",
    "        print('Balanced accuracy score', acc)\n",
    "    mean = 100.0*np.round(np.mean(accs), 3)\n",
    "    std = 100.0*np.round(np.std(accs), 3)\n",
    "    print(\"{}\\% $\\pm$ {}\\%\".format(np.round(mean, 1), np.round(std, 1)))\n",
    "        "
   ]
  },
  {
   "cell_type": "code",
   "execution_count": null,
   "metadata": {},
   "outputs": [],
   "source": []
  },
  {
   "cell_type": "code",
   "execution_count": 59,
   "metadata": {},
   "outputs": [],
   "source": [
    "# get_mean_bacc(X_rw, y_rw, 10)"
   ]
  },
  {
   "cell_type": "code",
   "execution_count": 60,
   "metadata": {},
   "outputs": [],
   "source": [
    "# get_mean_bacc(X_ns, y_ns, 10)"
   ]
  },
  {
   "cell_type": "code",
   "execution_count": 61,
   "metadata": {},
   "outputs": [],
   "source": [
    "# get_mean_bacc(X_mw, y_mw, 10)"
   ]
  },
  {
   "cell_type": "code",
   "execution_count": 62,
   "metadata": {
    "scrolled": true
   },
   "outputs": [],
   "source": [
    "# get_mean_bacc(X_l1, y_l1, 10)"
   ]
  },
  {
   "cell_type": "code",
   "execution_count": 63,
   "metadata": {},
   "outputs": [],
   "source": [
    "# get_mean_bacc(X_l2, y_l2, 10)"
   ]
  }
 ],
 "metadata": {
  "kernelspec": {
   "display_name": "Python 3",
   "language": "python",
   "name": "python3"
  },
  "language_info": {
   "codemirror_mode": {
    "name": "ipython",
    "version": 3
   },
   "file_extension": ".py",
   "mimetype": "text/x-python",
   "name": "python",
   "nbconvert_exporter": "python",
   "pygments_lexer": "ipython3",
   "version": "3.7.5"
  }
 },
 "nbformat": 4,
 "nbformat_minor": 4
}
