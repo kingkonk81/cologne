{
 "cells": [
  {
   "cell_type": "markdown",
   "metadata": {},
   "source": [
    "## Clustering the discrete embeddings\n"
   ]
  },
  {
   "cell_type": "code",
   "execution_count": 1,
   "metadata": {},
   "outputs": [],
   "source": [
    "import os\n",
    "import numpy as np\n",
    "import pandas as pd\n",
    "import json\n",
    "from sklearn import svm, datasets\n",
    "import matplotlib.pyplot as plt\n",
    "import random\n",
    "import copy\n",
    "from sklearn.preprocessing import LabelEncoder, OneHotEncoder\n",
    "from sklearn.metrics import mean_squared_error as mse\n",
    "from sklearn.metrics import mean_absolute_error as mae\n",
    "from scipy.sparse import lil_matrix\n",
    "from sklearn.cluster import KMeans \n",
    "from matplotlib import pyplot as plt\n",
    "from sklearn.decomposition import TruncatedSVD"
   ]
  },
  {
   "cell_type": "code",
   "execution_count": 2,
   "metadata": {},
   "outputs": [],
   "source": [
    "graphname = 'Pubmed'\n",
    "emb_size = 10\n",
    "data_dir = os.path.expanduser(\"../Graphs/\"+graphname)"
   ]
  },
  {
   "cell_type": "code",
   "execution_count": 3,
   "metadata": {},
   "outputs": [],
   "source": [
    "k = 4 # number of clusters"
   ]
  },
  {
   "cell_type": "code",
   "execution_count": 4,
   "metadata": {},
   "outputs": [],
   "source": [
    "jsonpath = data_dir + \"/vectors/vectors_l1_all_\" + str(emb_size) + \".json\"\n",
    "# os.path.join(data_dir, \"vectors_l1_all_\" + str(emb_size) + \".json\")\n",
    "with open(jsonpath, 'r') as infile:\n",
    "    embeddings_l1 = json.load(infile)"
   ]
  },
  {
   "cell_type": "code",
   "execution_count": 5,
   "metadata": {},
   "outputs": [],
   "source": [
    "def get_dict(embeddings_l1, idx):\n",
    "    all_words = {}\n",
    "    for node, features in embeddings_l1.items():\n",
    "        for f in features:\n",
    "            word = f[idx]\n",
    "            if word not in all_words:\n",
    "                all_words[word] = len(all_words)\n",
    "    return all_words"
   ]
  },
  {
   "cell_type": "code",
   "execution_count": 6,
   "metadata": {},
   "outputs": [],
   "source": [
    "all_words = get_dict(embeddings_l1, 2)"
   ]
  },
  {
   "cell_type": "code",
   "execution_count": 7,
   "metadata": {},
   "outputs": [
    {
     "data": {
      "text/plain": [
       "(19717, 500)"
      ]
     },
     "execution_count": 7,
     "metadata": {},
     "output_type": "execute_result"
    }
   ],
   "source": [
    "len(embeddings_l1), len(all_words)"
   ]
  },
  {
   "cell_type": "code",
   "execution_count": 8,
   "metadata": {},
   "outputs": [],
   "source": [
    "def get_sparse_matrix(embeddings, all_words, idx):\n",
    "    S = lil_matrix((len(embeddings), emb_size*len(all_words)))\n",
    "    print(S.count_nonzero())\n",
    "    row = 0\n",
    "    cnt = 0\n",
    "    nodelist = []\n",
    "    for node, emb in embeddings.items():\n",
    "        col = 0\n",
    "        for feats in emb:\n",
    "            word=feats[idx]\n",
    "            S[row, col*len(all_words) + all_words[word]] = 1 \n",
    "            cnt += 1\n",
    "            col += 1\n",
    "        row += 1\n",
    "        nodelist.append(node)\n",
    "    print(S.count_nonzero())\n",
    "    print('cnt', cnt)\n",
    "    return S, nodelist"
   ]
  },
  {
   "cell_type": "code",
   "execution_count": 9,
   "metadata": {},
   "outputs": [
    {
     "name": "stdout",
     "output_type": "stream",
     "text": [
      "0\n",
      "197170\n",
      "cnt 197170\n"
     ]
    }
   ],
   "source": [
    "S_l1, nodes_l1 = get_sparse_matrix(embeddings_l1, all_words, 2)"
   ]
  },
  {
   "cell_type": "code",
   "execution_count": 10,
   "metadata": {},
   "outputs": [
    {
     "data": {
      "text/plain": [
       "(19717, 5000)"
      ]
     },
     "execution_count": 10,
     "metadata": {},
     "output_type": "execute_result"
    }
   ],
   "source": [
    "S_l1.shape"
   ]
  },
  {
   "cell_type": "code",
   "execution_count": 11,
   "metadata": {},
   "outputs": [],
   "source": [
    "def clustering(S, k, random_state):\n",
    "    Spca = copy.deepcopy(S) \n",
    "    labeler = KMeans(n_clusters=k, init='k-means++', random_state=random_state)\n",
    "    labels = labeler.fit_predict(Spca)\n",
    "    nr_labels = [0 for _ in range(k)]\n",
    "    for label in labels:\n",
    "        nr_labels[label] += 1\n",
    "    print('Label distribution', nr_labels)\n",
    "    return labels"
   ]
  },
  {
   "cell_type": "code",
   "execution_count": 12,
   "metadata": {},
   "outputs": [
    {
     "name": "stdout",
     "output_type": "stream",
     "text": [
      "Label distribution [17364, 941, 608, 804]\n"
     ]
    }
   ],
   "source": [
    "labels_l1 = clustering(S_l1, k=4, random_state=73)"
   ]
  },
  {
   "cell_type": "code",
   "execution_count": 13,
   "metadata": {},
   "outputs": [],
   "source": [
    "def get_top(d, top):\n",
    "    s = sum([cnt for _, cnt in d.items()])\n",
    "    return sorted([(np.round(cnt/s, 3), w) for w, cnt in d.items()], reverse=True)[:top]"
   ]
  },
  {
   "cell_type": "code",
   "execution_count": 14,
   "metadata": {},
   "outputs": [],
   "source": [
    "def top_words_per_cluster(S, k, labels, all_words, nr_top_words):\n",
    "    all_words_rev = {i:w for w, i in all_words.items()}\n",
    "    words_per_cluster = [{} for _ in range(k)]\n",
    "    for i, label in enumerate(labels):\n",
    "        if i % 1000 == 0:\n",
    "            print('example with label', i, label)\n",
    "        words_label = words_per_cluster[label]\n",
    "        for j in range(len(all_words)):\n",
    "            if S[i, j] != 0:\n",
    "                words_label.setdefault(all_words_rev[j], 0)\n",
    "                words_label[all_words_rev[j]] += 1\n",
    "                \n",
    "    top_words = set()\n",
    "    for label in range(k):\n",
    "        print(get_top(words_per_cluster[label], nr_top_words))\n",
    "        for weight, word in get_top(words_per_cluster[label], nr_top_words):\n",
    "            top_words.add(word)\n",
    "    print(top_words)    \n",
    "    word_distr = [[] for _ in range(k)]\n",
    "    for label in range(k):\n",
    "        sum_label = sum([cnt for _, cnt in words_per_cluster[label].items()])\n",
    "        for tw in top_words:\n",
    "            if tw in words_per_cluster[label]:\n",
    "                #print(tw, np.round(words_per_cluster[label][tw]/sum_label, 3))\n",
    "                word_distr[label].append((tw, np.round(words_per_cluster[label][tw]/sum_label, 4)))\n",
    "            else:\n",
    "                word_distr[label].append((tw, 0))\n",
    "    return word_distr, top_words\n",
    "    "
   ]
  },
  {
   "cell_type": "code",
   "execution_count": 15,
   "metadata": {},
   "outputs": [
    {
     "name": "stdout",
     "output_type": "stream",
     "text": [
      "example with label 0 0\n",
      "example with label 1000 0\n",
      "example with label 2000 0\n",
      "example with label 3000 3\n",
      "example with label 4000 0\n",
      "example with label 5000 0\n",
      "example with label 6000 0\n",
      "example with label 7000 0\n",
      "example with label 8000 0\n",
      "example with label 9000 0\n",
      "example with label 10000 0\n",
      "example with label 11000 0\n",
      "example with label 12000 0\n",
      "example with label 13000 0\n",
      "example with label 14000 0\n",
      "example with label 15000 0\n",
      "example with label 16000 0\n",
      "example with label 17000 0\n",
      "example with label 18000 0\n",
      "example with label 19000 0\n",
      "[(0.022, 'w-0'), (0.012, 'w-onset'), (0.012, 'w-mg'), (0.011, 'w-cell'), (0.01, 'w-level'), (0.01, 'w-associ'), (0.009, 'w-signific'), (0.009, 'w-insulin')]\n",
      "[(0.108, 'w-chang'), (0.073, 'w-achiev'), (0.063, 'w-men'), (0.045, 'w-particip'), (0.037, 'w-onset'), (0.032, 'w-locus'), (0.024, 'w-conclus'), (0.023, 'w-metformin')]\n",
      "[(0.15, 'w-correl'), (0.048, 'w-drug'), (0.044, 'w-manag'), (0.041, 'w-failur'), (0.039, 'w-cohort'), (0.035, 'w-postprandi'), (0.033, 'w-increas'), (0.031, 'w-report')]\n",
      "[(0.419, 'w-young'), (0.256, 'w-iddm'), (0.082, 'w-0'), (0.04, 'w-cell'), (0.04, 'w-antigen'), (0.017, 'w-women'), (0.017, 'w-respons'), (0.016, 'w-signific')]\n",
      "{'w-young', 'w-conclus', 'w-women', 'w-manag', 'w-associ', 'w-chang', 'w-mg', 'w-drug', 'w-level', 'w-cohort', 'w-onset', 'w-locus', 'w-report', 'w-correl', 'w-signific', 'w-respons', 'w-cell', 'w-failur', 'w-postprandi', 'w-iddm', 'w-men', 'w-antigen', 'w-0', 'w-increas', 'w-insulin', 'w-metformin', 'w-particip', 'w-achiev'}\n"
     ]
    }
   ],
   "source": [
    "word_distr, top_words = top_words_per_cluster(S_l1, k=k, labels=labels_l1, all_words=all_words, nr_top_words=8)"
   ]
  },
  {
   "cell_type": "code",
   "execution_count": 16,
   "metadata": {},
   "outputs": [],
   "source": [
    "def plot_words_distr(word_distr, k, top_words, xlimit):\n",
    "    plt.figure(figsize=(10,6), dpi=80)\n",
    "    linewidth=7\n",
    "    alpha=0.6\n",
    "    words = []\n",
    "    plot_nr = 100 + 10*k\n",
    "    for cluster_nr in range(1, k+1):\n",
    "        plt.subplot(plot_nr+cluster_nr)\n",
    "        plt.hlines(y=0, xmin = 0, xmax = xlimit, color='red', alpha=0, linewidth=linewidth)\n",
    "        plt.hlines(y=1, xmin = 0, xmax = 1/2**4, color='red', alpha=0, linewidth=linewidth)\n",
    "        words = []\n",
    "        for i, word_val in enumerate(word_distr[cluster_nr-1]):\n",
    "            plt.hlines(y = i+1, xmin = 0, xmax = word_val[1], color='blue', alpha=alpha, linewidth=linewidth)\n",
    "            word = word_val[0].split('-')[1]\n",
    "            l = max(0, 9 - len(word))\n",
    "            complete = l*'  ' + word\n",
    "            words.append(complete)\n",
    "        plt.xscale('log', basex=2)\n",
    "        plt.xticks([1/2**5, 0.5])\n",
    "        plt.xlim(0, xlimit)\n",
    "        plt.yticks(ticks=[i + 1 for i in range(len(top_words))], labels=words, size=12)\n",
    "        plt.title('Cluster '+str(cluster_nr))\n",
    "    plt.tight_layout()\n",
    "    plt.show()"
   ]
  },
  {
   "cell_type": "code",
   "execution_count": 17,
   "metadata": {},
   "outputs": [
    {
     "name": "stderr",
     "output_type": "stream",
     "text": [
      "/usr/local/lib/python3.7/dist-packages/ipykernel_launcher.py:18: MatplotlibDeprecationWarning: The 'basex' parameter of __init__() has been renamed 'base' since Matplotlib 3.3; support for the old name will be dropped two minor releases later.\n",
      "/usr/local/lib/python3.7/dist-packages/ipykernel_launcher.py:20: UserWarning: Attempted to set non-positive left xlim on a log-scaled axis.\n",
      "Invalid limit will be ignored.\n"
     ]
    },
    {
     "data": {
      "image/png": "[encoded data removed]",
      "text/plain": [
       "<Figure size 800x480 with 4 Axes>"
      ]
     },
     "metadata": {
      "needs_background": "light"
     },
     "output_type": "display_data"
    }
   ],
   "source": [
    "plot_words_distr(word_distr, k=k, top_words=top_words, xlimit=1)"
   ]
  },
  {
   "cell_type": "code",
   "execution_count": 18,
   "metadata": {},
   "outputs": [],
   "source": [
    "def get_dominating_words(nodes, labels, embeddings, coordinate, threshold=0.025):\n",
    "\n",
    "    clusters = [{} for _ in range(k)]\n",
    "    for n, l in zip(nodes, labels):\n",
    "        \n",
    "        c = coordinate\n",
    "        word = embeddings[n][c][2]\n",
    "        clusters[l].setdefault(word, 0)\n",
    "        clusters[l][word] += 1\n",
    "    \n",
    "    res = {}\n",
    "    for cl in range(k):\n",
    "        s = sum([weight for word, weight in clusters[cl].items()])\n",
    "        top_words = []\n",
    "        for word, weight in clusters[cl].items():\n",
    "            if weight > s*threshold:\n",
    "                top_words.append(word.split('-')[1])\n",
    "        res[cl] = top_words \n",
    "    print(res)"
   ]
  },
  {
   "cell_type": "code",
   "execution_count": 34,
   "metadata": {},
   "outputs": [
    {
     "name": "stdout",
     "output_type": "stream",
     "text": [
      "{0: [], 1: ['increas', '7', 'glycem', 'x'], 2: ['incid', 'type', '95', '6', 'progress', 'vascular'], 3: ['receptor', 'shown']}\n"
     ]
    }
   ],
   "source": [
    "get_dominating_words(nodes_l1, labels_l1, embeddings_l1, coordinate=1, threshold=0.05)"
   ]
  },
  {
   "cell_type": "code",
   "execution_count": 20,
   "metadata": {},
   "outputs": [],
   "source": [
    "jsonpath = data_dir + \"/vectors/vectors_rwalk_all_\" + str(emb_size) + \".json\"\n",
    "#os.path.join(data_dir, \"vectors_rwalk_all_\" + str(emb_size) + \".json\")\n",
    "with open(jsonpath, 'r') as infile:\n",
    "    embeddings_rw = json.load(infile)"
   ]
  },
  {
   "cell_type": "code",
   "execution_count": 21,
   "metadata": {},
   "outputs": [],
   "source": [
    "all_words_rw = get_dict(embeddings_rw, 2)"
   ]
  },
  {
   "cell_type": "code",
   "execution_count": 22,
   "metadata": {},
   "outputs": [
    {
     "name": "stdout",
     "output_type": "stream",
     "text": [
      "0\n",
      "197170\n",
      "cnt 197170\n"
     ]
    }
   ],
   "source": [
    "S_rw, nodes_rw = get_sparse_matrix(embeddings_rw, all_words_rw, 2)"
   ]
  },
  {
   "cell_type": "code",
   "execution_count": 23,
   "metadata": {},
   "outputs": [
    {
     "name": "stdout",
     "output_type": "stream",
     "text": [
      "Label distribution [18787, 315, 444, 171]\n"
     ]
    }
   ],
   "source": [
    "labels_rw = clustering(S_rw, k=k, random_state=73)"
   ]
  },
  {
   "cell_type": "code",
   "execution_count": 24,
   "metadata": {},
   "outputs": [
    {
     "name": "stdout",
     "output_type": "stream",
     "text": [
      "example with label 0 0\n",
      "example with label 1000 0\n",
      "example with label 2000 0\n",
      "example with label 3000 0\n",
      "example with label 4000 0\n",
      "example with label 5000 0\n",
      "example with label 6000 0\n",
      "example with label 7000 0\n",
      "example with label 8000 0\n",
      "example with label 9000 0\n",
      "example with label 10000 0\n",
      "example with label 11000 0\n",
      "example with label 12000 3\n",
      "example with label 13000 0\n",
      "example with label 14000 0\n",
      "example with label 15000 0\n",
      "example with label 16000 0\n",
      "example with label 17000 0\n",
      "example with label 18000 0\n",
      "example with label 19000 0\n",
      "[(0.01, 'w-rat'), (0.009, 'w-patient'), (0.008, 'w-cell'), (0.008, 'w-0'), (0.007, 'w-mice'), (0.007, 'w-insulin'), (0.006, 'w-p'), (0.006, 'w-glucos')]\n",
      "[(0.019, 'w-0'), (0.013, 'w-week'), (0.013, 'w-treatment'), (0.013, 'w-risk'), (0.013, 'w-95'), (0.013, 'w-8'), (0.01, 'w-year'), (0.01, 'w-women')]\n",
      "[(0.191, 'w-gene'), (0.016, 'w-0'), (0.014, 'w-age'), (0.009, 'w-week'), (0.009, 'w-risk'), (0.009, 'w-rang'), (0.009, 'w-patient'), (0.007, 'w-type')]\n",
      "[(0.029, 'w-nerv'), (0.023, 'w-decreas'), (0.023, 'w-concentr'), (0.018, 'w-stz'), (0.018, 'w-respect'), (0.018, 'w-rat'), (0.018, 'w-produc'), (0.018, 'w-increas')]\n",
      "{'w-age', 'w-nerv', 'w-p', 'w-patient', 'w-women', 'w-gene', 'w-respect', 'w-8', 'w-rang', 'w-treatment', 'w-cell', 'w-95', 'w-decreas', 'w-mice', 'w-week', 'w-stz', 'w-type', 'w-risk', 'w-0', 'w-increas', 'w-insulin', 'w-rat', 'w-glucos', 'w-produc', 'w-concentr', 'w-year'}\n"
     ]
    }
   ],
   "source": [
    "word_distr_rw, top_words_rw = \\\n",
    "top_words_per_cluster(S_rw, k=k, labels=labels_rw, all_words=all_words_rw, nr_top_words=8)"
   ]
  },
  {
   "cell_type": "code",
   "execution_count": 25,
   "metadata": {},
   "outputs": [
    {
     "name": "stderr",
     "output_type": "stream",
     "text": [
      "/usr/local/lib/python3.7/dist-packages/ipykernel_launcher.py:18: MatplotlibDeprecationWarning: The 'basex' parameter of __init__() has been renamed 'base' since Matplotlib 3.3; support for the old name will be dropped two minor releases later.\n",
      "/usr/local/lib/python3.7/dist-packages/ipykernel_launcher.py:20: UserWarning: Attempted to set non-positive left xlim on a log-scaled axis.\n",
      "Invalid limit will be ignored.\n"
     ]
    },
    {
     "data": {
      "image/png": "[encoded data removed]",
      "text/plain": [
       "<Figure size 800x480 with 4 Axes>"
      ]
     },
     "metadata": {
      "needs_background": "light"
     },
     "output_type": "display_data"
    }
   ],
   "source": [
    "plot_words_distr(word_distr_rw, k=k, top_words=top_words_rw, xlimit=10)"
   ]
  },
  {
   "cell_type": "code",
   "execution_count": 32,
   "metadata": {},
   "outputs": [
    {
     "name": "stdout",
     "output_type": "stream",
     "text": [
      "{0: [], 1: [], 2: ['gene'], 3: []}\n"
     ]
    }
   ],
   "source": [
    "get_dominating_words(nodes_rw, labels_rw, embeddings_rw, coordinate=0, threshold=0.05)"
   ]
  },
  {
   "cell_type": "code",
   "execution_count": null,
   "metadata": {},
   "outputs": [],
   "source": []
  },
  {
   "cell_type": "code",
   "execution_count": null,
   "metadata": {},
   "outputs": [],
   "source": []
  },
  {
   "cell_type": "code",
   "execution_count": null,
   "metadata": {},
   "outputs": [],
   "source": []
  }
 ],
 "metadata": {
  "kernelspec": {
   "display_name": "Python 3",
   "language": "python",
   "name": "python3"
  },
  "language_info": {
   "codemirror_mode": {
    "name": "ipython",
    "version": 3
   },
   "file_extension": ".py",
   "mimetype": "text/x-python",
   "name": "python",
   "nbconvert_exporter": "python",
   "pygments_lexer": "ipython3",
   "version": "3.7.5"
  }
 },
 "nbformat": 4,
 "nbformat_minor": 4
}
