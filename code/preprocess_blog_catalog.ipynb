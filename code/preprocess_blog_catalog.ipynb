{
 "cells": [
  {
   "cell_type": "code",
   "execution_count": null,
   "metadata": {},
   "outputs": [],
   "source": [
    "import scipy.io\n",
    "from scipy.sparse import csc_matrix\n",
    "import os\n",
    "import networkx as nx\n",
    "import pandas as pd\n",
    "import json\n",
    "import copy\n",
    "import numpy as np"
   ]
  },
  {
   "cell_type": "code",
   "execution_count": null,
   "metadata": {},
   "outputs": [],
   "source": [
    "graphname = 'BlogCatalog'\n",
    "data_dir = os.path.expanduser(\"../Graphs/\")"
   ]
  },
  {
   "cell_type": "code",
   "execution_count": null,
   "metadata": {},
   "outputs": [],
   "source": [
    "nodes = set()\n",
    "edges = []\n",
    "G = nx.Graph()\n",
    "with open(os.path.join(data_dir, graphname + \"/edges.csv\"), 'r') as edgefile:\n",
    "    for line in edgefile:\n",
    "        u = line.split(',')[0]\n",
    "        v = line.split(',')[1]\n",
    "        u = str(u).strip()\n",
    "        v = str(v).strip()\n",
    "        nodes.add(u)\n",
    "        nodes.add(v)\n",
    "        edges.append((u, v))\n",
    "        G.add_edge(u, v)"
   ]
  },
  {
   "cell_type": "code",
   "execution_count": null,
   "metadata": {},
   "outputs": [],
   "source": [
    "list(G.nodes())[:5]"
   ]
  },
  {
   "cell_type": "code",
   "execution_count": null,
   "metadata": {},
   "outputs": [],
   "source": [
    "nodedata = {}\n",
    "nodelabels = {}\n",
    "with open(os.path.join(data_dir, graphname + \"/group-edges.csv\"), 'r') as contentfile:\n",
    "    for line in contentfile:\n",
    "        line_split = line.split(',')\n",
    "        node = line_split[0].strip()\n",
    "        label = line_split[1].strip()\n",
    "        if node not in nodes:\n",
    "            print('No node', line)\n",
    "            continue\n",
    "        nodelabels.setdefault(node, \"label=\")\n",
    "        nodelabels[node] += label + \"=\"\n",
    "\n",
    "for node, label in nodelabels.items():\n",
    "    rnd = random.random()\n",
    "    if rnd >= 0.8:\n",
    "        label = \"None\" + label\n",
    "    nodedata[node] = (label, {node: 1})   \n",
    "    \n",
    "# for edge in edges:\n",
    "#     nodedata[edge[0]][1][edge[1]] = 1\n",
    "#     nodedata[edge[1]][1][edge[0]] = 1"
   ]
  },
  {
   "cell_type": "code",
   "execution_count": null,
   "metadata": {},
   "outputs": [],
   "source": [
    "jsonpath = data_dir + graphname + \"/data/nodedata.json\" #os.path.join(data_dir, \"/data/nodedata.json\")\n",
    "print(jsonpath)\n",
    "with open(jsonpath, 'w') as outfile:\n",
    "    json.dump(nodedata, outfile)"
   ]
  },
  {
   "cell_type": "code",
   "execution_count": null,
   "metadata": {},
   "outputs": [],
   "source": [
    "nodes = set()\n",
    "labels = set()\n",
    "word_indices = set()\n",
    "for node, features in nodedata.items():\n",
    "    nodes.add(node)\n",
    "    labels.add(features[0])\n",
    "    for w in features[1]:\n",
    "        word_indices.add(str(w))\n",
    "        \n",
    "nodes_path = data_dir + graphname + \"/data/graph_nodes.txt\"#os.path.join(data_dir, \"graph_nodes.txt\")\n",
    "with open(nodes_path, 'w') as outfile:\n",
    "    for node in nodes:\n",
    "        outfile.write(str(node) + '\\n')\n",
    "        \n",
    "labels_path = data_dir + graphname + \"/data/labels.txt\" #os.path.join(data_dir, \"labels.txt\")\n",
    "with open(labels_path, 'w') as outfile:\n",
    "    for label in labels:\n",
    "        outfile.write(label + '\\n')\n",
    "        \n",
    "words_path = data_dir + graphname + \"/data/words_indices.txt\" # os.path.join(data_dir, \"words_indices.txt\")\n",
    "with open(words_path, 'w') as outfile:\n",
    "    for wi in word_indices:\n",
    "        outfile.write(wi + '\\n')"
   ]
  },
  {
   "cell_type": "code",
   "execution_count": null,
   "metadata": {},
   "outputs": [],
   "source": [
    "nodedata_df = pd.DataFrame()\n",
    "rows = []\n",
    "for node, feats in nodedata.items():\n",
    "    row = {}\n",
    "    row['node'] = node\n",
    "    row['label'] = feats[0]\n",
    "    rows.append(row)\n",
    "nodedata_df = pd.DataFrame(rows)    \n",
    "nodedata_df.to_csv(data_dir + graphname + '/data/nodes_with_labels.csv', index=False) "
   ]
  },
  {
   "cell_type": "code",
   "execution_count": null,
   "metadata": {},
   "outputs": [],
   "source": [
    "G = nx.Graph()\n",
    "for edge in edges:\n",
    "    u = edge[0]\n",
    "    v = edge[1]\n",
    "    if u in nodedata and v in nodedata:\n",
    "        G.add_edge(u, v)"
   ]
  },
  {
   "cell_type": "code",
   "execution_count": null,
   "metadata": {},
   "outputs": [],
   "source": [
    "G.number_of_nodes(), G.number_of_edges()"
   ]
  },
  {
   "cell_type": "code",
   "execution_count": null,
   "metadata": {},
   "outputs": [],
   "source": [
    "edges_path = data_dir + graphname + \"/data/all_graph_edges.txt\" \n",
    "with open(edges_path, 'w') as outfile:\n",
    "    for edge in G.edges():\n",
    "        outfile.write(edge[0] + ':' + edge[1] + '\\n')"
   ]
  },
  {
   "cell_type": "code",
   "execution_count": null,
   "metadata": {},
   "outputs": [],
   "source": [
    "largest_cc = max(nx.connected_components(G), key=len)\n",
    "CC = G.subgraph(largest_cc).copy()\n",
    "nx.algorithms.distance_measures.diameter(CC)"
   ]
  },
  {
   "cell_type": "code",
   "execution_count": null,
   "metadata": {},
   "outputs": [],
   "source": [
    "removed_edges = set()\n",
    "H = copy.deepcopy(G)\n",
    "threshold = 0.02\n",
    "while len(removed_edges) < threshold*G.number_of_edges():\n",
    "    if len(removed_edges)%1000 == 0:\n",
    "        print(len(removed_edges), G.number_of_edges())\n",
    "    i = np.random.randint(low=0, high=H.number_of_edges())\n",
    "    edge = list(H.edges())[i]\n",
    "    u = edge[0]\n",
    "    v = edge[1]\n",
    "    if H.degree[u] > 1 and H.degree[v] > 1:\n",
    "        H.remove_edge(u, v)\n",
    "        removed_edges.add((u, v))"
   ]
  },
  {
   "cell_type": "code",
   "execution_count": null,
   "metadata": {},
   "outputs": [],
   "source": [
    "edges_path = data_dir + graphname + \"/data/graph_edges_reduced.txt\"\n",
    "with open(edges_path, 'w') as outfile:\n",
    "    for edge in H.edges():\n",
    "        outfile.write(edge[0] + ':' + edge[1] + '\\n')"
   ]
  },
  {
   "cell_type": "code",
   "execution_count": null,
   "metadata": {},
   "outputs": [],
   "source": [
    "if len(removed_edges) > 0:\n",
    "    removed_edges_path = data_dir + graphname + \"/data/removed_edges.txt\" \n",
    "    with open(removed_edges_path, 'w') as outfile:\n",
    "        for edge in removed_edges:\n",
    "            outfile.write(edge[0] + ':' + edge[1] + '\\n')"
   ]
  },
  {
   "cell_type": "code",
   "execution_count": null,
   "metadata": {},
   "outputs": [],
   "source": []
  },
  {
   "cell_type": "code",
   "execution_count": null,
   "metadata": {},
   "outputs": [],
   "source": []
  }
 ],
 "metadata": {
  "kernelspec": {
   "display_name": "Python 3",
   "language": "python",
   "name": "python3"
  },
  "language_info": {
   "codemirror_mode": {
    "name": "ipython",
    "version": 3
   },
   "file_extension": ".py",
   "mimetype": "text/x-python",
   "name": "python",
   "nbconvert_exporter": "python",
   "pygments_lexer": "ipython3",
   "version": "3.7.5"
  }
 },
 "nbformat": 4,
 "nbformat_minor": 4
}
