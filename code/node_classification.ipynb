{
 "cells": [
  {
   "cell_type": "code",
   "execution_count": 2,
   "metadata": {},
   "outputs": [],
   "source": [
    "import os\n",
    "import numpy as np\n",
    "import pandas as pd\n",
    "import json\n",
    "import lightgbm as lgb\n",
    "from collections import Counter\n",
    "import matplotlib.pyplot as plt\n",
    "from scipy import interp\n",
    "import copy\n",
    "from sklearn import tree\n",
    "from sklearn.model_selection import train_test_split\n",
    "from sklearn.metrics import accuracy_score as acc, f1_score, recall_score, precision_score\n",
    "from sklearn.preprocessing import LabelEncoder\n",
    "from sklearn.metrics import roc_curve, auc\n",
    "from sklearn.metrics import balanced_accuracy_score as bacc\n",
    "from sklearn.metrics import mean_absolute_error as mae\n",
    "from sklearn.preprocessing import MultiLabelBinarizer\n",
    "from sklearn.linear_model import LogisticRegression\n",
    "from sklearn.multiclass import OneVsRestClassifier\n",
    "from sklearn.model_selection import KFold"
   ]
  },
  {
   "cell_type": "code",
   "execution_count": 52,
   "metadata": {},
   "outputs": [
    {
     "name": "stdout",
     "output_type": "stream",
     "text": [
      "../Graphs/Cora\n"
     ]
    }
   ],
   "source": [
    "graphnames = ['Cora', 'Citeseer', 'Pubmed', 'HomoSapiens', 'Wikipedia', 'BlogCatalog']\n",
    "idx = 0\n",
    "graphname = graphnames[idx]\n",
    "multilabel=False\n",
    "if idx > 2:\n",
    "    multilabel=True\n",
    "emb_size = 50\n",
    "hop = 2\n",
    "data_dir = os.path.expanduser(\"../Graphs/\"+graphname)\n",
    "print(data_dir)"
   ]
  },
  {
   "cell_type": "code",
   "execution_count": 53,
   "metadata": {},
   "outputs": [],
   "source": [
    "rwalk_path = data_dir + \"/vectors/vectors_rwalk_all_\" + str(emb_size) + \"_hop_\" + str(hop) + \".json\"\n",
    "with open(rwalk_path, \"r\") as read_file:\n",
    "    rwalk_vectors = json.load(read_file)"
   ]
  },
  {
   "cell_type": "code",
   "execution_count": 54,
   "metadata": {},
   "outputs": [],
   "source": [
    "nodesketch_path = data_dir + \"/vectors/vectors_nodesketch_all_\" + str(emb_size) + \"_hop_\" + str(hop) + \".json\"\n",
    "with open(nodesketch_path, \"r\") as read_file:\n",
    "    ns_vectors = json.load(read_file)"
   ]
  },
  {
   "cell_type": "code",
   "execution_count": 55,
   "metadata": {},
   "outputs": [],
   "source": [
    "minwise_path = data_dir + \"/vectors/vectors_minwise_all_\" + str(emb_size) + \"_hop_\" + str(hop) + \".json\"\n",
    "with open(minwise_path, \"r\") as read_file:\n",
    "    minwise_vectors = json.load(read_file)"
   ]
  },
  {
   "cell_type": "code",
   "execution_count": 56,
   "metadata": {},
   "outputs": [],
   "source": [
    "l1_path = data_dir + \"/vectors/vectors_l1_all_\" + str(emb_size) + \"_hop_\" + str(hop) + \".json\"\n",
    "with open(l1_path, \"r\") as read_file:\n",
    "    l1_vectors = json.load(read_file)"
   ]
  },
  {
   "cell_type": "code",
   "execution_count": 57,
   "metadata": {},
   "outputs": [],
   "source": [
    "l2_path = data_dir + \"/vectors/vectors_l2_all_\" + str(emb_size) + \"_hop_\" + str(hop) + \".json\"\n",
    "with open(l2_path, \"r\") as read_file:\n",
    "    l2_vectors = json.load(read_file)"
   ]
  },
  {
   "cell_type": "code",
   "execution_count": 58,
   "metadata": {},
   "outputs": [],
   "source": [
    "x = 2\n",
    "paths = ['graph_nodes.txt', 'labels.txt', 'words_indices.txt']\n",
    "features_path = data_dir + \"/data/\" + paths[x] \n",
    "features = []\n",
    "with open(features_path, \"r\") as features_file:\n",
    "    for f in features_file:\n",
    "        features.append(f.strip())\n",
    "features.append(\"\")\n",
    "features.append(\" \")\n",
    "features.append(\"nan\")"
   ]
  },
  {
   "cell_type": "code",
   "execution_count": 59,
   "metadata": {},
   "outputs": [],
   "source": [
    "nodes_with_labels = pd.read_csv(data_dir + '/data/nodes_with_labels.csv')"
   ]
  },
  {
   "cell_type": "code",
   "execution_count": 60,
   "metadata": {},
   "outputs": [],
   "source": [
    "def get_labels(nodes_with_labels):\n",
    "    all_labels = set() \n",
    "    for idx, row in nodes_with_labels.iterrows():\n",
    "        node = row['node']\n",
    "        row_labels = [row['label']]\n",
    "        row_labels = row[\"label\"].split(\"=\")\n",
    "        row_labels = row_labels[1:-1]   \n",
    "        if len(row_labels) == 0:\n",
    "            continue\n",
    "        for rl in row_labels:\n",
    "            all_labels.add(rl)\n",
    "    all_labels.add('none')\n",
    "    all_labels.add('nan')\n",
    "    return list(all_labels)"
   ]
  },
  {
   "cell_type": "code",
   "execution_count": 61,
   "metadata": {},
   "outputs": [],
   "source": [
    "#features = get_labels(nodes_with_labels)"
   ]
  },
  {
   "cell_type": "code",
   "execution_count": 62,
   "metadata": {},
   "outputs": [
    {
     "data": {
      "text/plain": [
       "['w-615', 'w-121', 'w-508']"
      ]
     },
     "execution_count": 62,
     "metadata": {},
     "output_type": "execute_result"
    }
   ],
   "source": [
    "features[:3]"
   ]
  },
  {
   "cell_type": "code",
   "execution_count": 63,
   "metadata": {},
   "outputs": [],
   "source": [
    "def get_train_test(vectors, nodes_with_labels, x):\n",
    "    X_train = []\n",
    "    y_train = []\n",
    "    X_test = []\n",
    "    y_test = []\n",
    "    labels = {}\n",
    "    \n",
    "    for idx, row in nodes_with_labels.iterrows():\n",
    "        node = row['node']\n",
    "        row_labels = [row['label']]\n",
    "        vals = vectors[str(node)]\n",
    "        features = {}\n",
    "        for i, v in enumerate(vals):\n",
    "            features[\"f\"+str(i)] = v[x] \n",
    "        if row['label'][:4] == 'None':\n",
    "            X_test.append(features)\n",
    "        else:\n",
    "            X_train.append(features)\n",
    "        # if multilabel:\n",
    "        row_labels = row[\"label\"].split(\"=\")\n",
    "        row_labels = row_labels[1:-1]   \n",
    "        if len(row_labels) == 0:\n",
    "            continue\n",
    "        for rl in row_labels:\n",
    "            if rl not in labels:\n",
    "                labels[rl] = len(labels)\n",
    "        enc_label = []\n",
    "        for rl in row_labels:\n",
    "            enc_label.append(labels[rl])\n",
    "        if row['label'][:4] == 'None':    \n",
    "            y_test.append(enc_label)\n",
    "        else:\n",
    "            y_train.append(enc_label)\n",
    "    X_train = pd.DataFrame(X_train)\n",
    "    X_test = pd.DataFrame(X_test)\n",
    "    return X_train, X_test, y_train, y_test"
   ]
  },
  {
   "cell_type": "code",
   "execution_count": 64,
   "metadata": {},
   "outputs": [],
   "source": [
    "# generate a dataset with labels from the trained embeddings\n",
    "def get_X_y(vectors, nodes_with_labels, x, multilabel=False):\n",
    "    \n",
    "    \n",
    "    \n",
    "    X = []\n",
    "    y = []\n",
    "    labels = {}\n",
    "    \n",
    "    for idx, row in nodes_with_labels.iterrows():\n",
    "        node = row['node']\n",
    "        row_labels = [row['label']]\n",
    "        vals = vectors[str(node)]\n",
    "        features = {}\n",
    "        for i, v in enumerate(vals):\n",
    "            features[\"f\"+str(i)] = v[x] \n",
    "        X.append(features)\n",
    "        if multilabel:\n",
    "            row_labels = row[\"label\"].split(\"=\")\n",
    "            row_labels = row_labels[1:-1]   \n",
    "        if len(row_labels) == 0:\n",
    "            continue\n",
    "        for rl in row_labels:\n",
    "            if rl not in labels:\n",
    "                labels[rl] = len(labels)\n",
    "        enc_label = []\n",
    "        for rl in row_labels:\n",
    "            enc_label.append(labels[rl])\n",
    "        y.append(enc_label)\n",
    "    X = pd.DataFrame(X)\n",
    "    return X, y"
   ]
  },
  {
   "cell_type": "code",
   "execution_count": 65,
   "metadata": {},
   "outputs": [],
   "source": [
    "X_rw, y_rw = get_X_y(rwalk_vectors, nodes_with_labels, x=x, multilabel=multilabel)"
   ]
  },
  {
   "cell_type": "code",
   "execution_count": 66,
   "metadata": {},
   "outputs": [],
   "source": [
    "X_ns, y_ns = get_X_y(ns_vectors, nodes_with_labels, x=x, multilabel=multilabel)"
   ]
  },
  {
   "cell_type": "code",
   "execution_count": 67,
   "metadata": {},
   "outputs": [],
   "source": [
    "X_mw, y_mw = get_X_y(minwise_vectors, nodes_with_labels, x=x, multilabel=multilabel)"
   ]
  },
  {
   "cell_type": "code",
   "execution_count": 68,
   "metadata": {},
   "outputs": [],
   "source": [
    "X_l1, y_l1 = get_X_y(l1_vectors, nodes_with_labels, x=x, multilabel=multilabel)"
   ]
  },
  {
   "cell_type": "code",
   "execution_count": 69,
   "metadata": {},
   "outputs": [],
   "source": [
    "X_l2, y_l2 = get_X_y(l2_vectors, nodes_with_labels, x=x, multilabel=multilabel)"
   ]
  },
  {
   "cell_type": "code",
   "execution_count": 70,
   "metadata": {},
   "outputs": [],
   "source": [
    "# just a check if everything seems ok\n",
    "# len(set(X_rw[\"f20\"])), len(set(X_ns[\"f20\"])), len(set(X_mw[\"f20\"])), \\\n",
    "# len(set(X_l1[\"f20\"])), len(set(X_l2[\"f20\"]))"
   ]
  },
  {
   "cell_type": "code",
   "execution_count": 71,
   "metadata": {},
   "outputs": [],
   "source": [
    "# for i in range(50):\n",
    "#      print(len(set(X_rw[\"f\"+str(i)])), len(set(X_ns[\"f\"+str(i)])), len(set(X_mw[\"f\"+str(i)])), \\\n",
    "#        len(set(X_l1[\"f\"+str(i)])), len(set(X_l2[\"f\"+str(i)]))) "
   ]
  },
  {
   "cell_type": "code",
   "execution_count": 72,
   "metadata": {},
   "outputs": [],
   "source": [
    "# just for double schecking\n",
    "def my_prec_recall(y_true, y_pred):\n",
    "    tp = 0\n",
    "    fp = 0\n",
    "    fn = 0\n",
    "    for yt, yp in zip(y_true, y_pred):\n",
    "        if yt == 1 and yp == 1:\n",
    "            tp += 1\n",
    "        if yt == 1 and yp == 0:\n",
    "            fn += 1\n",
    "        if yt == 0 and yp == 1:\n",
    "            fp += 1\n",
    "    return tp/(tp+fp), tp/(tp+fn)\n",
    "        "
   ]
  },
  {
   "cell_type": "code",
   "execution_count": 73,
   "metadata": {},
   "outputs": [],
   "source": [
    "def plot_label_distribution(y):\n",
    "    counts = {}\n",
    "    for labels_i in y:\n",
    "        for l_i in labels_i:\n",
    "            counts.setdefault(l_i, 0)\n",
    "            counts[l_i] += 1\n",
    "    \n",
    "    top_counts = sorted([(cnt, lbl) for lbl, cnt in counts.items()], reverse=True)\n",
    "    plt.bar([i for i in range(len(top_counts))], [c for c, _ in top_counts], alpha=0.7)"
   ]
  },
  {
   "cell_type": "code",
   "execution_count": 74,
   "metadata": {},
   "outputs": [],
   "source": [
    "def one_hot(y, top=10):\n",
    "    \n",
    "    counts = {}\n",
    "    for labels_i in y:\n",
    "        for l_i in labels_i:\n",
    "            counts.setdefault(l_i, 0)\n",
    "            counts[l_i] += 1\n",
    "    \n",
    "    top_counts = sorted([(cnt, lbl) for lbl, cnt in counts.items()], reverse=True)[:top]\n",
    "    labels = {cnt_lbl[1]: i for i,cnt_lbl in enumerate(top_counts)}\n",
    "        \n",
    "    top = min(top, len(counts)-1)\n",
    "    \n",
    "    encoded = np.zeros((len(y), top+1))\n",
    "    for i, labels_i in enumerate(y):\n",
    "        for l_i in labels_i:\n",
    "            if l_i in labels:\n",
    "                encoded[i, labels[l_i]] = 1\n",
    "            else:\n",
    "                encoded[i, top] = 1\n",
    "            \n",
    "    return encoded"
   ]
  },
  {
   "cell_type": "code",
   "execution_count": 75,
   "metadata": {},
   "outputs": [
    {
     "data": {
      "text/plain": [
       "1435"
      ]
     },
     "execution_count": 75,
     "metadata": {},
     "output_type": "execute_result"
    }
   ],
   "source": [
    "len(features)"
   ]
  },
  {
   "cell_type": "code",
   "execution_count": 76,
   "metadata": {},
   "outputs": [],
   "source": [
    "def multilabel_classification(X, y, features, top_classes, res_path):\n",
    "    \n",
    "    y = one_hot(y, top_classes) \n",
    "\n",
    "    label_encoder = LabelEncoder()\n",
    "    label_encoder.fit(features)\n",
    "    \n",
    "    X = copy.deepcopy(X)\n",
    "    for c in X.columns: \n",
    "        X.loc[:, c] = label_encoder.transform([str(x) for x in X[c]])\n",
    "        \n",
    "    \n",
    "    # X.to_csv(\"/home/koki2/Desktop/X.csv\", index=False)\n",
    "    f1_micros = []\n",
    "    f1_macros = []\n",
    "    nr_iters = 10\n",
    "    \n",
    "    for i in range(nr_iters):    \n",
    "        print('Iter', i)\n",
    "        X_train, X_test, y_train, y_test = train_test_split(X, y, train_size=0.8)\n",
    "        \n",
    "        model = tree.DecisionTreeClassifier() \n",
    "        model = OneVsRestClassifier(model)\n",
    "        model.fit(X_train, y_train)\n",
    "\n",
    "        # n_classes = y_test.shape[1]\n",
    "        y_pred = model.predict_proba(X_test)\n",
    "        y_pred_abs = model.predict(X_test)\n",
    "        \n",
    "        f1_micro = f1_score(y_test, y_pred_abs, average='micro')\n",
    "        f1_macro = f1_score(y_test, y_pred_abs, average='macro')\n",
    "        \n",
    "        print(\"F1\", f1_micro, f1_macro)\n",
    "        f1_micros.append(f1_micro)\n",
    "        f1_macros.append(f1_macro)\n",
    "        \n",
    "    print('Micro F1', np.mean(f1_micros))\n",
    "    print('Macro F1', np.mean(f1_macros))\n",
    "    \n",
    "    with open(res_path + \"_emb_micro_F1.txt\", \"w\") as f:\n",
    "        f.write(str(np.mean(f1_micros)) + \" \" + str(np.std(f1_micros)))\n",
    "        \n",
    "    with open(res_path + \"_emb_macro_F1.txt\", \"w\") as f:\n",
    "        f.write(str(np.mean(f1_macros)) + \" \" + str(np.std(f1_macros)))\n",
    "    "
   ]
  },
  {
   "cell_type": "code",
   "execution_count": 77,
   "metadata": {},
   "outputs": [],
   "source": [
    "# def multilabel_classification(X_train, X_test, y_train, y_test, features, top_classes, res_path):\n",
    "#     # mlb = MultiLabelBinarizer()\n",
    "#     y = y_train + y_test\n",
    "#     y = one_hot(y, top_classes) # mlb.fit_transform(y)\n",
    "#     y_train = y[:len(y_train)]\n",
    "#     y_test = y[len(y_train):]\n",
    "    \n",
    "# #     lgb_params = {'objective':'binary',\n",
    "# #                   'metric': 'auc',\n",
    "# #             'boosting_type':'gbdt',\n",
    "# #             'n_jobs':4,\n",
    "# #             'max_depth':-1,\n",
    "# #              # 'num_class': len(labels),\n",
    "# #             'learning_rate':0.1,\n",
    "# #             'tree_learner':'serial',\n",
    "# #             'n_estimators':2000,\n",
    "# #             'verbose':-1,\n",
    "# #             'seed': 73,\n",
    "# #             'feature_fraction':1}\n",
    "    \n",
    "#     label_encoder = LabelEncoder()\n",
    "#     label_encoder.fit(features)\n",
    "    \n",
    "#     X_train = copy.deepcopy(X_train)\n",
    "#     for c in X_train.columns: \n",
    "#         X_train.loc[:, c] = label_encoder.transform([str(x) for x in X_train[c]])\n",
    "        \n",
    "#     X_test = copy.deepcopy(X_test)\n",
    "#     for c in X_test.columns: \n",
    "#         X_test.loc[:, c] = label_encoder.transform([str(x) for x in X_test[c]])\n",
    "    \n",
    "#     # X.to_csv(\"/home/koki2/Desktop/X.csv\", index=False)\n",
    "#     f1_micros = []\n",
    "#     f1_macros = []\n",
    "#     nr_iters = 10\n",
    "#     #for train_index, test_index in kf.split(X):\n",
    "#     for i in range(nr_iters):    \n",
    "#         print('Iter', i)\n",
    "#         X_tr, _, y_tr, _ = train_test_split(X_train, y_train, train_size=0.9)\n",
    "#         # X_train, X_test = X[train_index], X[test_index]\n",
    "#         # y_train, y_test = y[train_index], y[test_index]\n",
    "#         # model = lgb.LGBMClassifier( **lgb_params) \n",
    "        \n",
    "#         # model.fit(X_train, y_train, eval_set=[(X_train, y_train), (X_test, y_test)], verbose=100)\n",
    "#         model = tree.DecisionTreeClassifier() \n",
    "#         model = OneVsRestClassifier(model)\n",
    "#         model.fit(X_tr, y_tr)\n",
    "\n",
    "#         # n_classes = y_test.shape[1]\n",
    "#         y_pred = model.predict_proba(X_test)\n",
    "#         y_pred_abs = model.predict(X_test)\n",
    "        \n",
    "#         f1_micro = f1_score(y_test, y_pred_abs, average='micro')\n",
    "#         f1_macro = f1_score(y_test, y_pred_abs, average='macro')\n",
    "#         #bf1 = f1_score(y_test.ravel(), y_pred_abs.ravel(), average='binary')\n",
    "#         print(\"F1\", f1_micro, f1_macro)\n",
    "#         f1_micros.append(f1_micro)\n",
    "#         f1_macros.append(f1_macro)\n",
    "        \n",
    "#     print('Micro F1', np.mean(f1_micros))\n",
    "#     print('Macro F1', np.mean(f1_macros))\n",
    "# #     print('Macro AUC', np.mean(macros))\n",
    "# #     print('Accuracy', np.mean(accs))\n",
    "    \n",
    "#     with open(res_path + \"_emb_micro_F1.txt\", \"w\") as f:\n",
    "#         f.write(str(np.mean(f1_micros)) + \" \" + str(np.std(f1_micros)))\n",
    "        \n",
    "#     with open(res_path + \"_emb_macro_F1.txt\", \"w\") as f:\n",
    "#         f.write(str(np.mean(f1_macros)) + \" \" + str(np.std(f1_macros)))\n",
    "    "
   ]
  },
  {
   "cell_type": "code",
   "execution_count": 78,
   "metadata": {},
   "outputs": [
    {
     "data": {
      "image/png": "[encoded data removed]",
      "text/plain": [
       "<Figure size 432x288 with 1 Axes>"
      ]
     },
     "metadata": {
      "needs_background": "light"
     },
     "output_type": "display_data"
    }
   ],
   "source": [
    "plot_label_distribution(y_l1)"
   ]
  },
  {
   "cell_type": "code",
   "execution_count": 79,
   "metadata": {},
   "outputs": [],
   "source": [
    "top_classes=30"
   ]
  },
  {
   "cell_type": "code",
   "execution_count": 80,
   "metadata": {},
   "outputs": [
    {
     "name": "stdout",
     "output_type": "stream",
     "text": [
      "Iter 0\n",
      "F1 0.43538594969644406 0.4146292473163835\n",
      "Iter 1\n",
      "F1 0.39329805996472667 0.3614777957510787\n",
      "Iter 2\n",
      "F1 0.3769911504424779 0.3382094444764236\n",
      "Iter 3\n",
      "F1 0.3739279588336192 0.354460285549025\n",
      "Iter 4\n",
      "F1 0.37589928057553956 0.35708115957738834\n",
      "Iter 5\n",
      "F1 0.35325602140945583 0.3216848618979103\n",
      "Iter 6\n",
      "F1 0.37213403880070545 0.34777385269269157\n",
      "Iter 7\n",
      "F1 0.3899821109123434 0.3600233434347147\n",
      "Iter 8\n",
      "F1 0.36465116279069765 0.3326046506391326\n",
      "Iter 9\n",
      "F1 0.3874439461883408 0.367405843833095\n",
      "Micro F1 0.3822969679614351\n",
      "Macro F1 0.35553504851678436\n"
     ]
    }
   ],
   "source": [
    "res_path = data_dir + \"/results/rwalk_\" + str(emb_size) + \"_hop_\" + str(hop) \n",
    "multilabel_classification(X_rw, y_rw, features, top_classes, res_path)"
   ]
  },
  {
   "cell_type": "code",
   "execution_count": 81,
   "metadata": {},
   "outputs": [
    {
     "name": "stdout",
     "output_type": "stream",
     "text": [
      "Iter 0\n",
      "F1 0.6696750902527077 0.6483240076836135\n",
      "Iter 1\n",
      "F1 0.6731793960923623 0.6535405390280546\n",
      "Iter 2\n",
      "F1 0.6737777777777777 0.6600630016312845\n",
      "Iter 3\n",
      "F1 0.6516651665166516 0.6341134083668016\n",
      "Iter 4\n",
      "F1 0.6384129846708746 0.6291831549698107\n",
      "Iter 5\n",
      "F1 0.6877912395153776 0.6726733913798606\n",
      "Iter 6\n",
      "F1 0.6648599819331527 0.6383200608363772\n",
      "Iter 7\n",
      "F1 0.672678088367899 0.6557443861466133\n",
      "Iter 8\n",
      "F1 0.6777163904235728 0.6702677293078327\n",
      "Iter 9\n",
      "F1 0.6666666666666666 0.6526777789909621\n",
      "Micro F1 0.6676422782217043\n",
      "Macro F1 0.6514907458341211\n"
     ]
    }
   ],
   "source": [
    "res_path = data_dir + \"/results/nodesketch_\" + str(emb_size) + \"_hop_\" + str(hop)\n",
    "multilabel_classification_alt(X_ns, y_ns, features, top_classes, res_path)\n",
    "# multilabel_classification(X_ns_train, X_ns_test, y_ns_train, y_ns_test, features, top_classes, res_path)"
   ]
  },
  {
   "cell_type": "code",
   "execution_count": 82,
   "metadata": {},
   "outputs": [
    {
     "name": "stdout",
     "output_type": "stream",
     "text": [
      "Iter 0\n",
      "F1 0.689908256880734 0.6708047366162587\n",
      "Iter 1\n",
      "F1 0.6846361185983828 0.6754328176491141\n",
      "Iter 2\n",
      "F1 0.6992619926199262 0.6891687607483818\n",
      "Iter 3\n",
      "F1 0.6866485013623979 0.6691722937412424\n",
      "Iter 4\n",
      "F1 0.7116788321167884 0.6940135661762031\n",
      "Iter 5\n",
      "F1 0.6876737720111215 0.6700808440014464\n",
      "Iter 6\n",
      "F1 0.6916588566073102 0.681524759071179\n",
      "Iter 7\n",
      "F1 0.6708746618575293 0.6541080983096691\n",
      "Iter 8\n",
      "F1 0.6751592356687899 0.6570939101636196\n",
      "Iter 9\n",
      "F1 0.6828828828828829 0.6636236049926778\n",
      "Micro F1 0.6880383110605862\n",
      "Macro F1 0.6725023391469792\n"
     ]
    }
   ],
   "source": [
    "res_path = data_dir + \"/results/minwise_\" + str(emb_size) + \"_hop_\" + str(hop)\n",
    "multilabel_classification_alt(X_mw, y_mw, features, top_classes, res_path)\n",
    "#multilabel_classification(X_mw_train, X_mw_test, y_mw_train, y_mw_test, features, top_classes, res_path)"
   ]
  },
  {
   "cell_type": "code",
   "execution_count": 83,
   "metadata": {},
   "outputs": [
    {
     "name": "stdout",
     "output_type": "stream",
     "text": [
      "Iter 0\n",
      "F1 0.6672845227062094 0.6677240786147303\n",
      "Iter 1\n",
      "F1 0.674567000911577 0.6523314953732796\n",
      "Iter 2\n",
      "F1 0.6562786434463794 0.6534926160828084\n",
      "Iter 3\n",
      "F1 0.6690647482014389 0.6488636550749423\n",
      "Iter 4\n",
      "F1 0.6555863342566943 0.6489701674781463\n",
      "Iter 5\n",
      "F1 0.6953339432753889 0.7014845725761277\n",
      "Iter 6\n",
      "F1 0.6587155963302752 0.6328337856943537\n",
      "Iter 7\n",
      "F1 0.6504504504504504 0.6202695214812886\n",
      "Iter 8\n",
      "F1 0.6208144796380091 0.6148891835324451\n",
      "Iter 9\n",
      "F1 0.6636528028933093 0.6466216079281762\n",
      "Micro F1 0.661174852210973\n",
      "Macro F1 0.6487480683836298\n"
     ]
    }
   ],
   "source": [
    "res_path = data_dir + \"/results/l1_\" + str(emb_size) + \"_hop_\" + str(hop) \n",
    "multilabel_classification_alt(X_l1, y_l1, features, top_classes, res_path)\n",
    "# multilabel_classification(X_l1_train, X_l1_test, y_l1_train, y_l1_test, features, top_classes, res_path)"
   ]
  },
  {
   "cell_type": "code",
   "execution_count": 84,
   "metadata": {},
   "outputs": [
    {
     "name": "stdout",
     "output_type": "stream",
     "text": [
      "Iter 0\n",
      "F1 0.625 0.6221843958635253\n",
      "Iter 1\n",
      "F1 0.6300884955752213 0.6341864995465702\n",
      "Iter 2\n",
      "F1 0.6347517730496454 0.6241787695212556\n",
      "Iter 3\n",
      "F1 0.6246624662466247 0.606751548535412\n",
      "Iter 4\n",
      "F1 0.6132339235787512 0.6117566096327005\n",
      "Iter 5\n",
      "F1 0.6594202898550725 0.6289318942333858\n",
      "Iter 6\n",
      "F1 0.6350093109869646 0.6145288629818292\n",
      "Iter 7\n",
      "F1 0.652094717668488 0.6441132001562634\n",
      "Iter 8\n",
      "F1 0.6186518928901201 0.6058359062190174\n",
      "Iter 9\n",
      "F1 0.6194852941176472 0.6024545613721061\n",
      "Micro F1 0.6312398163968534\n",
      "Macro F1 0.6194922248062065\n"
     ]
    }
   ],
   "source": [
    "res_path = data_dir + \"/results/l2_\" + str(emb_size) + \"_hop_\" + str(hop) \n",
    "multilabel_classification_alt(X_l2, y_l2, features, top_classes, res_path)\n",
    "# multilabel_classification(X_l2_train, X_l2_test, y_l2_train, y_l2_test, features, top_classes, res_path)"
   ]
  },
  {
   "cell_type": "code",
   "execution_count": null,
   "metadata": {},
   "outputs": [],
   "source": []
  },
  {
   "cell_type": "code",
   "execution_count": null,
   "metadata": {},
   "outputs": [],
   "source": []
  },
  {
   "cell_type": "markdown",
   "metadata": {},
   "source": [
    "# Interpretability"
   ]
  },
  {
   "cell_type": "code",
   "execution_count": 85,
   "metadata": {},
   "outputs": [],
   "source": [
    "def get_distr(X, y, labels, index):\n",
    "    \n",
    "    for label in labels:\n",
    "        X_label = X.iloc[[i for i, y_i in enumerate(y) if y_i[0]==label], :]\n",
    "        # X_neg = X.iloc[[i for i, y_i in enumerate(y) if y_i==0], :]\n",
    "        print(X_label.shape)\n",
    "\n",
    "        dict_label = Counter(X_label.iloc[:, index])\n",
    "        # dict_neg = Counter(X_neg.iloc[:, idx])\n",
    "\n",
    "        top_pos = sorted([(cnt/X_label.shape[0], k) for k, cnt in dict_label.items()], reverse=True)[:10]\n",
    "        plt.bar([i for i in range(len(top_pos))], [c for c, _ in top_pos], alpha=0.7)\n",
    "        plt.xticks(np.arange(len(top_pos)), [n for cnt, n in top_pos], rotation=90, size=12)\n",
    "        # plt.yscale('log')\n",
    "        plt.ylim([0,0.7])\n",
    "        plt.tight_layout()\n",
    "        plt.savefig(\"/home/koki2/Dropbox/Research/DAMI/figures/pubmed_class_distr_\" + \\\n",
    "                    str(int(label)) + \".png\")\n",
    "        plt.show()\n",
    "    "
   ]
  },
  {
   "cell_type": "code",
   "execution_count": 86,
   "metadata": {},
   "outputs": [
    {
     "name": "stdout",
     "output_type": "stream",
     "text": [
      "(818, 50)\n"
     ]
    },
    {
     "data": {
      "image/png": "[encoded data removed]",
      "text/plain": [
       "<Figure size 432x288 with 1 Axes>"
      ]
     },
     "metadata": {
      "needs_background": "light"
     },
     "output_type": "display_data"
    },
    {
     "name": "stdout",
     "output_type": "stream",
     "text": [
      "(180, 50)\n"
     ]
    },
    {
     "data": {
      "image/png": "[encoded data removed]",
      "text/plain": [
       "<Figure size 432x288 with 1 Axes>"
      ]
     },
     "metadata": {
      "needs_background": "light"
     },
     "output_type": "display_data"
    },
    {
     "name": "stdout",
     "output_type": "stream",
     "text": [
      "(217, 50)\n"
     ]
    },
    {
     "data": {
      "image/png": "[encoded data removed]",
      "text/plain": [
       "<Figure size 432x288 with 1 Axes>"
      ]
     },
     "metadata": {
      "needs_background": "light"
     },
     "output_type": "display_data"
    }
   ],
   "source": [
    "get_distr(X_l2, y_l2, labels=[0,1,2], index=9)"
   ]
  },
  {
   "cell_type": "code",
   "execution_count": null,
   "metadata": {},
   "outputs": [],
   "source": []
  },
  {
   "cell_type": "code",
   "execution_count": null,
   "metadata": {},
   "outputs": [],
   "source": []
  },
  {
   "cell_type": "code",
   "execution_count": null,
   "metadata": {},
   "outputs": [],
   "source": []
  },
  {
   "cell_type": "code",
   "execution_count": null,
   "metadata": {},
   "outputs": [],
   "source": []
  }
 ],
 "metadata": {
  "kernelspec": {
   "display_name": "Python 3",
   "language": "python",
   "name": "python3"
  },
  "language_info": {
   "codemirror_mode": {
    "name": "ipython",
    "version": 3
   },
   "file_extension": ".py",
   "mimetype": "text/x-python",
   "name": "python",
   "nbconvert_exporter": "python",
   "pygments_lexer": "ipython3",
   "version": "3.7.5"
  }
 },
 "nbformat": 4,
 "nbformat_minor": 4
}
