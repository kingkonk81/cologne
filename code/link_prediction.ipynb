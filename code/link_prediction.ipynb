{
 "cells": [
  {
   "cell_type": "markdown",
   "metadata": {},
   "source": [
    "## Link prediction using the discrete embeddings"
   ]
  },
  {
   "cell_type": "code",
   "execution_count": 2,
   "metadata": {},
   "outputs": [],
   "source": [
    "import os\n",
    "import numpy as np\n",
    "import pandas as pd\n",
    "import json\n",
    "from sklearn import svm, datasets\n",
    "import matplotlib.pyplot as plt\n",
    "import random\n",
    "import copy\n",
    "from collections import Counter\n",
    "import lightgbm as lgb\n",
    "from sklearn import svm\n",
    "from sklearn import tree\n",
    "from sklearn.model_selection import train_test_split\n",
    "from sklearn.preprocessing import LabelEncoder\n",
    "from sklearn.metrics import mean_squared_error as mse\n",
    "from sklearn.metrics import mean_absolute_error as mae\n",
    "from sklearn.metrics import accuracy_score as acc\n",
    "from sklearn.model_selection import StratifiedKFold\n",
    "\n",
    "from sklearn.metrics import roc_curve, auc, f1_score\n",
    "from scipy import interp\n",
    "import gc"
   ]
  },
  {
   "cell_type": "code",
   "execution_count": 7,
   "metadata": {},
   "outputs": [],
   "source": [
    "graphnames = ['Cora', 'Citeseer', 'Pubmed', 'HomoSapiens', 'Wikipedia', 'BlogCatalog']\n",
    "graphname = graphnames[0]\n",
    "emb_size = 50\n",
    "hop = 2\n",
    "data_dir = os.path.expanduser(\"../Graphs/\"+graphname)"
   ]
  },
  {
   "cell_type": "code",
   "execution_count": 8,
   "metadata": {},
   "outputs": [],
   "source": [
    "rwalk_path = data_dir + \"/vectors/vectors_rwalk_reduced_\" + str(emb_size) + \"_hop_\" + str(hop) + \".json\"\n",
    "with open(rwalk_path, \"r\") as read_file:\n",
    "    rwalk_vectors = json.load(read_file)"
   ]
  },
  {
   "cell_type": "code",
   "execution_count": 9,
   "metadata": {},
   "outputs": [],
   "source": [
    "ns_path = data_dir + \"/vectors/vectors_nodesketch_reduced_\" + str(emb_size) + \"_hop_\" + str(hop) + \".json\"\n",
    "with open(ns_path, \"r\") as read_file:\n",
    "    ns_vectors = json.load(read_file)"
   ]
  },
  {
   "cell_type": "code",
   "execution_count": 10,
   "metadata": {},
   "outputs": [],
   "source": [
    "minwise_path = data_dir + \"/vectors/vectors_minwise_reduced_\" + str(emb_size) + \"_hop_\" + str(hop) + \".json\"\n",
    "with open(minwise_path, \"r\") as read_file:\n",
    "    minwise_vectors = json.load(read_file)"
   ]
  },
  {
   "cell_type": "code",
   "execution_count": 11,
   "metadata": {},
   "outputs": [],
   "source": [
    "l1_path = data_dir + \"/vectors/vectors_l1_reduced_\" + str(emb_size) + \"_hop_\" + str(hop) + \".json\"\n",
    "with open(l1_path, \"r\") as read_file:\n",
    "    l1_vectors = json.load(read_file)"
   ]
  },
  {
   "cell_type": "code",
   "execution_count": 12,
   "metadata": {},
   "outputs": [],
   "source": [
    "l2_path = data_dir + \"/vectors/vectors_l2_reduced_\" + str(emb_size) + \"_hop_\" + str(hop) + \".json\"\n",
    "with open(l2_path, \"r\") as read_file:\n",
    "    l2_vectors = json.load(read_file)"
   ]
  },
  {
   "cell_type": "code",
   "execution_count": null,
   "metadata": {},
   "outputs": [],
   "source": []
  },
  {
   "cell_type": "code",
   "execution_count": 13,
   "metadata": {},
   "outputs": [],
   "source": [
    "# convert all per-node samples to vectors with categorical features \n",
    "def vectors_to_df(path_edges, vectors, x, emb_size=emb_size):\n",
    "    edges_path = data_dir + path_edges \n",
    "    key = list(vectors.keys())[0]\n",
    "    features = []\n",
    "    labels = []\n",
    "    nodes = set()\n",
    "    edgeset = set()\n",
    "    print('emb size', emb_size)\n",
    "    with open(edges_path, 'r') as f:\n",
    "        for nr, edge in enumerate(f):\n",
    "            if nr % 10000 == 0:\n",
    "                print(nr)\n",
    "            vector_edge = {}\n",
    "            edge_split = edge.split(':')\n",
    "            u = edge_split[0].strip()\n",
    "            v = edge_split[1].strip()\n",
    "            nodes.add(u)\n",
    "            nodes.add(v)\n",
    "            if u not in vectors or v not in vectors:\n",
    "                continue\n",
    "            if len(vectors[u]) < emb_size or len(vectors[v]) < emb_size:\n",
    "                continue\n",
    "            edgeset.add((u,v))\n",
    "            for i in range(emb_size): \n",
    "                u_i = vectors[u][i] \n",
    "                vector_edge['f' + str(2*i)] = str(u_i[x])\n",
    "                v_i = vectors[v][i]\n",
    "                vector_edge['f' + str(2*i+1)] = str(v_i[x])\n",
    "                # vector_edge['f' + str(i)] = int(u_i[x]==v_i[x])\n",
    "            features.append(vector_edge)\n",
    "            labels.append(1)\n",
    "    nr_pos = len(labels)\n",
    "    print('Number of positive examples', nr_pos)\n",
    "    nodeslist = list(nodes)\n",
    "    for l in range(4*nr):\n",
    "        u = nodeslist[random.randint(0, len(nodeslist)-1)]\n",
    "        v = nodeslist[random.randint(0, len(nodeslist)-1)]\n",
    "        if (u, v) not in edgeset and (v, u) not in edgeset:\n",
    "            if u not in vectors or v not in vectors:\n",
    "                continue\n",
    "            if len(vectors[u]) < emb_size or len(vectors[v]) < emb_size:\n",
    "                continue\n",
    "            vector_edge = {}\n",
    "            for i in range(emb_size): \n",
    "                u_i = vectors[u][i]\n",
    "                vector_edge['f' + str(2*i)] = str(u_i[x])\n",
    "                v_i = vectors[v][i]\n",
    "                vector_edge['f' + str(2*i+1)] = str(v_i[x])\n",
    "                #vector_edge['f' + str(i)] = int(u_i[x]==v_i[x])\n",
    "            features.append(vector_edge)\n",
    "            labels.append(0)\n",
    "    print('Number of negative examples', len(labels)-nr_pos)        \n",
    "    return pd.DataFrame(features), labels"
   ]
  },
  {
   "cell_type": "code",
   "execution_count": 15,
   "metadata": {},
   "outputs": [
    {
     "data": {
      "text/plain": [
       "[['227178', 'label=Genetic_Algorithms', 'w-1304'],\n",
       " ['1071981', 'label=Reinforcement_Learning', 'w-111'],\n",
       " ['1104647', 'label=Genetic_Algorithms', 'w-80'],\n",
       " ['103482', 'label=Neural_Networks', 'w-225'],\n",
       " ['1105221', 'label=Genetic_Algorithms', 'w-1176'],\n",
       " ['503893', 'label=Genetic_Algorithms', 'w-455'],\n",
       " ['1103960', 'label=Genetic_Algorithms', 'w-931'],\n",
       " ['231249', 'label=Genetic_Algorithms', 'w-158'],\n",
       " ['141324', 'label=Genetic_Algorithms', 'w-528'],\n",
       " ['647447', 'label=Genetic_Algorithms', 'w-1297'],\n",
       " ['1128201', 'label=Genetic_Algorithms', 'w-582'],\n",
       " ['1109199', 'label=Genetic_Algorithms', 'w-25'],\n",
       " ['1152896', 'label=Case_Based', 'w-992'],\n",
       " ['1128227', 'label=Genetic_Algorithms', 'w-918'],\n",
       " ['124952', 'label=Probabilistic_Methods', 'w-1083'],\n",
       " ['1113551', 'label=Case_Based', 'w-758'],\n",
       " ['1103985', 'label=Genetic_Algorithms', 'w-1352'],\n",
       " ['1112911', 'label=Genetic_Algorithms', 'w-1292'],\n",
       " ['594387', 'label=Genetic_Algorithms', 'w-361'],\n",
       " ['1119505', 'label=Genetic_Algorithms', 'w-134'],\n",
       " ['575402', 'label=Genetic_Algorithms', 'w-370'],\n",
       " ['103515', 'label=Genetic_Algorithms', 'w-784'],\n",
       " ['134199', 'label=Genetic_Algorithms', 'w-821'],\n",
       " ['1129573', 'label=Genetic_Algorithms', 'w-882'],\n",
       " ['1107062', 'label=Genetic_Algorithms', 'w-1011'],\n",
       " ['190706', 'label=Genetic_Algorithms', 'w-628'],\n",
       " ['8875', 'label=Genetic_Algorithms', 'w-327'],\n",
       " ['576362', 'label=Genetic_Algorithms', 'w-294'],\n",
       " ['1153853', 'label=Genetic_Algorithms', 'w-388'],\n",
       " ['1104647', 'label=Genetic_Algorithms', 'w-1331'],\n",
       " ['1153853', 'label=Genetic_Algorithms', 'w-805'],\n",
       " ['1114331', 'label=Genetic_Algorithms', 'w-1249'],\n",
       " ['1104999', 'label=Genetic_Algorithms', 'w-988'],\n",
       " ['1131752', 'label=Genetic_Algorithms', 'w-359'],\n",
       " ['1153853', 'label=Genetic_Algorithms', 'w-805'],\n",
       " ['1131557', 'label=Genetic_Algorithms', 'w-479'],\n",
       " ['1103960', 'label=Genetic_Algorithms', 'w-1114'],\n",
       " ['178718', 'label=Genetic_Algorithms', 'w-346'],\n",
       " ['13658', 'label=Neural_Networks', 'w-785'],\n",
       " ['59715', 'label=Genetic_Algorithms', 'w-396'],\n",
       " ['1113438', 'label=Genetic_Algorithms', 'w-551'],\n",
       " ['41714', 'label=Genetic_Algorithms', 'w-247'],\n",
       " ['1130847', 'label=Genetic_Algorithms', 'w-1153'],\n",
       " ['647408', 'label=Genetic_Algorithms', 'w-1156'],\n",
       " ['1112911', 'label=Genetic_Algorithms', 'w-362'],\n",
       " ['1131198', 'label=Genetic_Algorithms', 'w-1158'],\n",
       " ['1128314', 'label=Genetic_Algorithms', 'w-961'],\n",
       " ['110041', 'label=Genetic_Algorithms', 'w-669'],\n",
       " ['486840', 'label=Genetic_Algorithms', 'w-856'],\n",
       " ['1071981', 'label=Reinforcement_Learning', 'w-878']]"
      ]
     },
     "execution_count": 15,
     "metadata": {},
     "output_type": "execute_result"
    }
   ],
   "source": [
    "minwise_vectors['35']"
   ]
  },
  {
   "cell_type": "code",
   "execution_count": 16,
   "metadata": {},
   "outputs": [
    {
     "data": {
      "text/plain": [
       "[['39474', 'label=Genetic_Algorithms', 'w-1090'],\n",
       " ['44368', 'label=Genetic_Algorithms', 'w-61'],\n",
       " ['427606', 'label=Genetic_Algorithms', 'w-19'],\n",
       " ['82920', 'label=Genetic_Algorithms', 'w-1207'],\n",
       " ['1153577', 'label=Genetic_Algorithms', 'w-368'],\n",
       " ['1114331', 'label=Genetic_Algorithms', 'w-1073'],\n",
       " ['190697', 'label=Genetic_Algorithms', 'w-1149'],\n",
       " ['1152508', 'label=Genetic_Algorithms', 'w-937'],\n",
       " ['35', 'label=Genetic_Algorithms', 'w-1247'],\n",
       " ['35061', 'label=Genetic_Algorithms', 'w-393'],\n",
       " ['634975', 'label=Genetic_Algorithms', 'w-1072'],\n",
       " ['198443', 'label=Genetic_Algorithms', 'w-1177'],\n",
       " ['62718', 'label=Case_Based', 'w-1114'],\n",
       " ['634938', 'label=Genetic_Algorithms', 'w-734'],\n",
       " ['634975', 'label=Genetic_Algorithms', 'w-1170'],\n",
       " ['103482', 'label=Neural_Networks', 'w-230'],\n",
       " ['14062', 'label=Genetic_Algorithms', 'w-25'],\n",
       " ['16485', 'label=Neural_Networks', 'w-1318'],\n",
       " ['35', 'label=Genetic_Algorithms', 'w-1305'],\n",
       " ['594543', 'label=Genetic_Algorithms', 'w-532'],\n",
       " ['592986', 'label=Genetic_Algorithms', 'w-1123'],\n",
       " ['35', 'label=Genetic_Algorithms', 'w-99'],\n",
       " ['1128201', 'label=Genetic_Algorithms', 'w-141'],\n",
       " ['41714', 'label=Genetic_Algorithms', 'w-909'],\n",
       " ['14062', 'label=Genetic_Algorithms', 'w-764'],\n",
       " ['1113551', 'label=Case_Based', 'w-1330'],\n",
       " ['66556', 'label=Genetic_Algorithms', 'w-1233'],\n",
       " ['231249', 'label=Genetic_Algorithms', 'w-1177'],\n",
       " ['87417', 'label=Genetic_Algorithms', 'w-1149'],\n",
       " ['1033', 'label=Genetic_Algorithms', 'w-1328'],\n",
       " ['14062', 'label=Genetic_Algorithms', 'w-25'],\n",
       " ['1133338', 'label=Genetic_Algorithms', 'w-128'],\n",
       " ['1127913', 'label=Genetic_Algorithms', 'w-1075'],\n",
       " ['1128227', 'label=Genetic_Algorithms', 'w-507'],\n",
       " ['513189', 'label=Genetic_Algorithms', 'w-1060'],\n",
       " ['787016', 'label=Genetic_Algorithms', 'w-954'],\n",
       " ['1152569', 'label=Genetic_Algorithms', 'w-894'],\n",
       " ['56119', 'label=Genetic_Algorithms', 'w-196'],\n",
       " ['1688', 'label=Genetic_Algorithms', 'w-878'],\n",
       " ['513189', 'label=Genetic_Algorithms', 'w-507'],\n",
       " ['190697', 'label=Genetic_Algorithms', 'w-507'],\n",
       " ['287787', 'label=Genetic_Algorithms', 'w-1171'],\n",
       " ['8875', 'label=Genetic_Algorithms', 'w-398'],\n",
       " ['594649', 'label=Genetic_Algorithms', 'w-693'],\n",
       " ['35', 'label=Genetic_Algorithms', 'w-19'],\n",
       " ['1111899', 'label=Case_Based', 'w-1172'],\n",
       " ['81714', 'label=Case_Based', 'w-623'],\n",
       " ['141342', 'label=Genetic_Algorithms', 'w-495'],\n",
       " ['1153943', 'label=Genetic_Algorithms', 'w-1301'],\n",
       " ['273152', 'label=Genetic_Algorithms', 'w-385']]"
      ]
     },
     "execution_count": 16,
     "metadata": {},
     "output_type": "execute_result"
    }
   ],
   "source": [
    "ns_vectors['35']"
   ]
  },
  {
   "cell_type": "code",
   "execution_count": 17,
   "metadata": {},
   "outputs": [],
   "source": [
    "x = 2 # indicates what features to use, simply other nodes ids, the node labels or the words describing the nodes"
   ]
  },
  {
   "cell_type": "code",
   "execution_count": 18,
   "metadata": {},
   "outputs": [],
   "source": [
    "paths = ['graph_nodes.txt', 'labels.txt', 'words_indices.txt']\n",
    "features_path = data_dir + \"/data/\" + paths[x] \n",
    "features = []\n",
    "with open(features_path, \"r\") as features_file:\n",
    "    for f in features_file:\n",
    "        features.append(f.strip())"
   ]
  },
  {
   "cell_type": "code",
   "execution_count": 19,
   "metadata": {},
   "outputs": [
    {
     "data": {
      "text/plain": [
       "['w-615', 'w-121', 'w-508', 'w-246', 'w-1102']"
      ]
     },
     "execution_count": 19,
     "metadata": {},
     "output_type": "execute_result"
    }
   ],
   "source": [
    "features[:5]"
   ]
  },
  {
   "cell_type": "code",
   "execution_count": 20,
   "metadata": {},
   "outputs": [
    {
     "name": "stdout",
     "output_type": "stream",
     "text": [
      "emb size 50\n",
      "0\n",
      "Number of positive examples 4222\n",
      "Number of negative examples 16868\n"
     ]
    }
   ],
   "source": [
    "X_rwalk, y_rwalk = vectors_to_df(path_edges=\"/data/graph_edges_reduced.txt\", vectors=rwalk_vectors, x=x)"
   ]
  },
  {
   "cell_type": "code",
   "execution_count": 21,
   "metadata": {},
   "outputs": [
    {
     "name": "stdout",
     "output_type": "stream",
     "text": [
      "emb size 50\n",
      "0\n",
      "Number of positive examples 4222\n",
      "Number of negative examples 16869\n"
     ]
    }
   ],
   "source": [
    "X_ns, y_ns = vectors_to_df(path_edges=\"/data/graph_edges_reduced.txt\", vectors=ns_vectors, x=x)"
   ]
  },
  {
   "cell_type": "code",
   "execution_count": 22,
   "metadata": {},
   "outputs": [
    {
     "data": {
      "text/html": [
       "<div>\n",
       "<style scoped>\n",
       "    .dataframe tbody tr th:only-of-type {\n",
       "        vertical-align: middle;\n",
       "    }\n",
       "\n",
       "    .dataframe tbody tr th {\n",
       "        vertical-align: top;\n",
       "    }\n",
       "\n",
       "    .dataframe thead th {\n",
       "        text-align: right;\n",
       "    }\n",
       "</style>\n",
       "<table border=\"1\" class=\"dataframe\">\n",
       "  <thead>\n",
       "    <tr style=\"text-align: right;\">\n",
       "      <th></th>\n",
       "      <th>f0</th>\n",
       "      <th>f1</th>\n",
       "      <th>f2</th>\n",
       "      <th>f3</th>\n",
       "      <th>f4</th>\n",
       "      <th>f5</th>\n",
       "      <th>f6</th>\n",
       "      <th>f7</th>\n",
       "      <th>f8</th>\n",
       "      <th>f9</th>\n",
       "      <th>...</th>\n",
       "      <th>f90</th>\n",
       "      <th>f91</th>\n",
       "      <th>f92</th>\n",
       "      <th>f93</th>\n",
       "      <th>f94</th>\n",
       "      <th>f95</th>\n",
       "      <th>f96</th>\n",
       "      <th>f97</th>\n",
       "      <th>f98</th>\n",
       "      <th>f99</th>\n",
       "    </tr>\n",
       "  </thead>\n",
       "  <tbody>\n",
       "    <tr>\n",
       "      <th>0</th>\n",
       "      <td>w-1090</td>\n",
       "      <td>w-324</td>\n",
       "      <td>w-61</td>\n",
       "      <td>w-61</td>\n",
       "      <td>w-19</td>\n",
       "      <td>w-19</td>\n",
       "      <td>w-1207</td>\n",
       "      <td>w-97</td>\n",
       "      <td>w-368</td>\n",
       "      <td>w-368</td>\n",
       "      <td>...</td>\n",
       "      <td>w-1172</td>\n",
       "      <td>w-918</td>\n",
       "      <td>w-623</td>\n",
       "      <td>w-1177</td>\n",
       "      <td>w-495</td>\n",
       "      <td>w-495</td>\n",
       "      <td>w-1301</td>\n",
       "      <td>w-1301</td>\n",
       "      <td>w-385</td>\n",
       "      <td>w-385</td>\n",
       "    </tr>\n",
       "    <tr>\n",
       "      <th>1</th>\n",
       "      <td>w-1090</td>\n",
       "      <td>w-324</td>\n",
       "      <td>w-61</td>\n",
       "      <td>w-61</td>\n",
       "      <td>w-19</td>\n",
       "      <td>w-19</td>\n",
       "      <td>w-1207</td>\n",
       "      <td>w-1207</td>\n",
       "      <td>w-368</td>\n",
       "      <td>w-368</td>\n",
       "      <td>...</td>\n",
       "      <td>w-1172</td>\n",
       "      <td>w-918</td>\n",
       "      <td>w-623</td>\n",
       "      <td>w-1177</td>\n",
       "      <td>w-495</td>\n",
       "      <td>w-495</td>\n",
       "      <td>w-1301</td>\n",
       "      <td>w-1301</td>\n",
       "      <td>w-385</td>\n",
       "      <td>w-1174</td>\n",
       "    </tr>\n",
       "    <tr>\n",
       "      <th>2</th>\n",
       "      <td>w-1090</td>\n",
       "      <td>w-324</td>\n",
       "      <td>w-61</td>\n",
       "      <td>w-61</td>\n",
       "      <td>w-19</td>\n",
       "      <td>w-19</td>\n",
       "      <td>w-1207</td>\n",
       "      <td>w-1207</td>\n",
       "      <td>w-368</td>\n",
       "      <td>w-368</td>\n",
       "      <td>...</td>\n",
       "      <td>w-1172</td>\n",
       "      <td>w-808</td>\n",
       "      <td>w-623</td>\n",
       "      <td>w-1177</td>\n",
       "      <td>w-495</td>\n",
       "      <td>w-495</td>\n",
       "      <td>w-1301</td>\n",
       "      <td>w-1301</td>\n",
       "      <td>w-385</td>\n",
       "      <td>w-385</td>\n",
       "    </tr>\n",
       "    <tr>\n",
       "      <th>3</th>\n",
       "      <td>w-1090</td>\n",
       "      <td>w-324</td>\n",
       "      <td>w-61</td>\n",
       "      <td>w-61</td>\n",
       "      <td>w-19</td>\n",
       "      <td>w-19</td>\n",
       "      <td>w-1207</td>\n",
       "      <td>w-1207</td>\n",
       "      <td>w-368</td>\n",
       "      <td>w-368</td>\n",
       "      <td>...</td>\n",
       "      <td>w-1172</td>\n",
       "      <td>w-898</td>\n",
       "      <td>w-623</td>\n",
       "      <td>w-1177</td>\n",
       "      <td>w-495</td>\n",
       "      <td>w-495</td>\n",
       "      <td>w-1301</td>\n",
       "      <td>w-1301</td>\n",
       "      <td>w-385</td>\n",
       "      <td>w-385</td>\n",
       "    </tr>\n",
       "    <tr>\n",
       "      <th>4</th>\n",
       "      <td>w-1090</td>\n",
       "      <td>w-324</td>\n",
       "      <td>w-61</td>\n",
       "      <td>w-61</td>\n",
       "      <td>w-19</td>\n",
       "      <td>w-19</td>\n",
       "      <td>w-1207</td>\n",
       "      <td>w-1207</td>\n",
       "      <td>w-368</td>\n",
       "      <td>w-368</td>\n",
       "      <td>...</td>\n",
       "      <td>w-1172</td>\n",
       "      <td>w-898</td>\n",
       "      <td>w-623</td>\n",
       "      <td>w-1177</td>\n",
       "      <td>w-495</td>\n",
       "      <td>w-495</td>\n",
       "      <td>w-1301</td>\n",
       "      <td>w-1301</td>\n",
       "      <td>w-385</td>\n",
       "      <td>w-385</td>\n",
       "    </tr>\n",
       "  </tbody>\n",
       "</table>\n",
       "<p>5 rows × 100 columns</p>\n",
       "</div>"
      ],
      "text/plain": [
       "       f0     f1    f2    f3    f4    f5      f6      f7     f8     f9  ...  \\\n",
       "0  w-1090  w-324  w-61  w-61  w-19  w-19  w-1207    w-97  w-368  w-368  ...   \n",
       "1  w-1090  w-324  w-61  w-61  w-19  w-19  w-1207  w-1207  w-368  w-368  ...   \n",
       "2  w-1090  w-324  w-61  w-61  w-19  w-19  w-1207  w-1207  w-368  w-368  ...   \n",
       "3  w-1090  w-324  w-61  w-61  w-19  w-19  w-1207  w-1207  w-368  w-368  ...   \n",
       "4  w-1090  w-324  w-61  w-61  w-19  w-19  w-1207  w-1207  w-368  w-368  ...   \n",
       "\n",
       "      f90    f91    f92     f93    f94    f95     f96     f97    f98     f99  \n",
       "0  w-1172  w-918  w-623  w-1177  w-495  w-495  w-1301  w-1301  w-385   w-385  \n",
       "1  w-1172  w-918  w-623  w-1177  w-495  w-495  w-1301  w-1301  w-385  w-1174  \n",
       "2  w-1172  w-808  w-623  w-1177  w-495  w-495  w-1301  w-1301  w-385   w-385  \n",
       "3  w-1172  w-898  w-623  w-1177  w-495  w-495  w-1301  w-1301  w-385   w-385  \n",
       "4  w-1172  w-898  w-623  w-1177  w-495  w-495  w-1301  w-1301  w-385   w-385  \n",
       "\n",
       "[5 rows x 100 columns]"
      ]
     },
     "execution_count": 22,
     "metadata": {},
     "output_type": "execute_result"
    }
   ],
   "source": [
    "X_ns.head()"
   ]
  },
  {
   "cell_type": "code",
   "execution_count": 23,
   "metadata": {},
   "outputs": [
    {
     "name": "stdout",
     "output_type": "stream",
     "text": [
      "emb size 50\n",
      "0\n",
      "Number of positive examples 4222\n",
      "Number of negative examples 16865\n"
     ]
    }
   ],
   "source": [
    "X_minwise, y_minwise = vectors_to_df(path_edges=\"/data/graph_edges_reduced.txt\", vectors=minwise_vectors, x=x)"
   ]
  },
  {
   "cell_type": "code",
   "execution_count": 24,
   "metadata": {},
   "outputs": [
    {
     "name": "stdout",
     "output_type": "stream",
     "text": [
      "emb size 50\n",
      "0\n",
      "Number of positive examples 4222\n",
      "Number of negative examples 16862\n"
     ]
    }
   ],
   "source": [
    "X_l1, y_l1 = vectors_to_df(path_edges=\"/data/graph_edges_reduced.txt\", vectors=l1_vectors, x=x)"
   ]
  },
  {
   "cell_type": "code",
   "execution_count": 25,
   "metadata": {},
   "outputs": [
    {
     "name": "stdout",
     "output_type": "stream",
     "text": [
      "emb size 50\n",
      "0\n",
      "Number of positive examples 4222\n",
      "Number of negative examples 16866\n"
     ]
    }
   ],
   "source": [
    "X_l2, y_l2 = vectors_to_df(path_edges=\"/data/graph_edges_reduced.txt\", vectors=l2_vectors, x=x)"
   ]
  },
  {
   "cell_type": "code",
   "execution_count": 26,
   "metadata": {},
   "outputs": [
    {
     "name": "stdout",
     "output_type": "stream",
     "text": [
      "emb size 50\n",
      "0\n",
      "Number of positive examples 1056\n",
      "Number of negative examples 4216\n"
     ]
    }
   ],
   "source": [
    "X_val_rwalk, y_val_rwalk = vectors_to_df(path_edges=\"/data/removed_edges.txt\", vectors=rwalk_vectors, x=x)"
   ]
  },
  {
   "cell_type": "code",
   "execution_count": 27,
   "metadata": {},
   "outputs": [],
   "source": [
    "# Just a test to see sample distribution\n",
    "# for i in range(50):\n",
    "#  print(len(set(X_rwalk[\"f\"+str(i)])), len(set(X_ns[\"f\"+str(i)])), len(set(X_minwise[\"f\"+str(i)])), \\\n",
    "#        len(set(X_l1[\"f\"+str(i)])), len(set(X_l2[\"f\"+str(i)]))) "
   ]
  },
  {
   "cell_type": "code",
   "execution_count": 28,
   "metadata": {},
   "outputs": [
    {
     "name": "stdout",
     "output_type": "stream",
     "text": [
      "emb size 50\n",
      "0\n",
      "Number of positive examples 1056\n",
      "Number of negative examples 4216\n"
     ]
    }
   ],
   "source": [
    "X_val_ns, y_val_ns = vectors_to_df(path_edges=\"/data/removed_edges.txt\", vectors=ns_vectors, x=x)"
   ]
  },
  {
   "cell_type": "code",
   "execution_count": 29,
   "metadata": {},
   "outputs": [
    {
     "name": "stdout",
     "output_type": "stream",
     "text": [
      "emb size 50\n",
      "0\n",
      "Number of positive examples 1056\n",
      "Number of negative examples 4213\n"
     ]
    }
   ],
   "source": [
    "X_val_minwise, y_val_minwise = vectors_to_df(path_edges=\"/data/removed_edges.txt\", vectors=minwise_vectors, x=x)"
   ]
  },
  {
   "cell_type": "code",
   "execution_count": 30,
   "metadata": {},
   "outputs": [
    {
     "name": "stdout",
     "output_type": "stream",
     "text": [
      "emb size 50\n",
      "0\n",
      "Number of positive examples 1056\n",
      "Number of negative examples 4213\n"
     ]
    }
   ],
   "source": [
    "X_val_l1, y_val_l1 = vectors_to_df(path_edges=\"/data/removed_edges.txt\", vectors=l1_vectors, x=x)"
   ]
  },
  {
   "cell_type": "code",
   "execution_count": 31,
   "metadata": {},
   "outputs": [
    {
     "name": "stdout",
     "output_type": "stream",
     "text": [
      "emb size 50\n",
      "0\n",
      "Number of positive examples 1056\n",
      "Number of negative examples 4216\n"
     ]
    }
   ],
   "source": [
    "X_val_l2, y_val_l2 = vectors_to_df(path_edges=\"/data/removed_edges.txt\", vectors=l2_vectors, x=x)"
   ]
  },
  {
   "cell_type": "code",
   "execution_count": 32,
   "metadata": {},
   "outputs": [
    {
     "data": {
      "text/plain": [
       "((21090, 100), (21091, 100), (21087, 100), (21084, 100), (21088, 100))"
      ]
     },
     "execution_count": 32,
     "metadata": {},
     "output_type": "execute_result"
    }
   ],
   "source": [
    "X_rwalk.shape, X_ns.shape, X_minwise.shape, X_l1.shape, X_l2.shape"
   ]
  },
  {
   "cell_type": "code",
   "execution_count": 33,
   "metadata": {},
   "outputs": [
    {
     "data": {
      "text/plain": [
       "((5272, 100), (5272, 100), (5269, 100), (5269, 100), (5272, 100))"
      ]
     },
     "execution_count": 33,
     "metadata": {},
     "output_type": "execute_result"
    }
   ],
   "source": [
    "X_val_rwalk.shape, X_val_ns.shape, X_val_minwise.shape, X_val_l1.shape, X_val_l2.shape"
   ]
  },
  {
   "cell_type": "code",
   "execution_count": 34,
   "metadata": {},
   "outputs": [
    {
     "data": {
      "text/html": [
       "<div>\n",
       "<style scoped>\n",
       "    .dataframe tbody tr th:only-of-type {\n",
       "        vertical-align: middle;\n",
       "    }\n",
       "\n",
       "    .dataframe tbody tr th {\n",
       "        vertical-align: top;\n",
       "    }\n",
       "\n",
       "    .dataframe thead th {\n",
       "        text-align: right;\n",
       "    }\n",
       "</style>\n",
       "<table border=\"1\" class=\"dataframe\">\n",
       "  <thead>\n",
       "    <tr style=\"text-align: right;\">\n",
       "      <th></th>\n",
       "      <th>f0</th>\n",
       "      <th>f1</th>\n",
       "      <th>f2</th>\n",
       "      <th>f3</th>\n",
       "      <th>f4</th>\n",
       "      <th>f5</th>\n",
       "      <th>f6</th>\n",
       "      <th>f7</th>\n",
       "      <th>f8</th>\n",
       "      <th>f9</th>\n",
       "      <th>...</th>\n",
       "      <th>f90</th>\n",
       "      <th>f91</th>\n",
       "      <th>f92</th>\n",
       "      <th>f93</th>\n",
       "      <th>f94</th>\n",
       "      <th>f95</th>\n",
       "      <th>f96</th>\n",
       "      <th>f97</th>\n",
       "      <th>f98</th>\n",
       "      <th>f99</th>\n",
       "    </tr>\n",
       "  </thead>\n",
       "  <tbody>\n",
       "    <tr>\n",
       "      <th>0</th>\n",
       "      <td>w-1204</td>\n",
       "      <td>w-128</td>\n",
       "      <td>w-192</td>\n",
       "      <td>w-192</td>\n",
       "      <td>w-819</td>\n",
       "      <td>w-819</td>\n",
       "      <td>w-1409</td>\n",
       "      <td>w-1156</td>\n",
       "      <td>w-1131</td>\n",
       "      <td>w-1131</td>\n",
       "      <td>...</td>\n",
       "      <td>w-819</td>\n",
       "      <td>w-819</td>\n",
       "      <td>w-1215</td>\n",
       "      <td>w-1215</td>\n",
       "      <td>w-829</td>\n",
       "      <td>w-829</td>\n",
       "      <td>w-474</td>\n",
       "      <td>w-1207</td>\n",
       "      <td>w-1379</td>\n",
       "      <td>w-1379</td>\n",
       "    </tr>\n",
       "    <tr>\n",
       "      <th>1</th>\n",
       "      <td>w-92</td>\n",
       "      <td>w-4</td>\n",
       "      <td>w-25</td>\n",
       "      <td>w-225</td>\n",
       "      <td>w-187</td>\n",
       "      <td>w-187</td>\n",
       "      <td>w-979</td>\n",
       "      <td>w-551</td>\n",
       "      <td>w-1131</td>\n",
       "      <td>w-1131</td>\n",
       "      <td>...</td>\n",
       "      <td>w-1036</td>\n",
       "      <td>w-87</td>\n",
       "      <td>w-979</td>\n",
       "      <td>w-675</td>\n",
       "      <td>w-859</td>\n",
       "      <td>w-1005</td>\n",
       "      <td>w-474</td>\n",
       "      <td>w-1299</td>\n",
       "      <td>w-1379</td>\n",
       "      <td>w-225</td>\n",
       "    </tr>\n",
       "    <tr>\n",
       "      <th>2</th>\n",
       "      <td>w-52</td>\n",
       "      <td>w-52</td>\n",
       "      <td>w-1314</td>\n",
       "      <td>w-25</td>\n",
       "      <td>w-490</td>\n",
       "      <td>w-187</td>\n",
       "      <td>w-1159</td>\n",
       "      <td>w-1156</td>\n",
       "      <td>w-708</td>\n",
       "      <td>w-1330</td>\n",
       "      <td>...</td>\n",
       "      <td>w-819</td>\n",
       "      <td>w-87</td>\n",
       "      <td>w-1315</td>\n",
       "      <td>w-979</td>\n",
       "      <td>w-104</td>\n",
       "      <td>w-1331</td>\n",
       "      <td>w-1314</td>\n",
       "      <td>w-118</td>\n",
       "      <td>w-530</td>\n",
       "      <td>w-1174</td>\n",
       "    </tr>\n",
       "  </tbody>\n",
       "</table>\n",
       "<p>3 rows × 100 columns</p>\n",
       "</div>"
      ],
      "text/plain": [
       "       f0     f1      f2     f3     f4     f5      f6      f7      f8      f9  \\\n",
       "0  w-1204  w-128   w-192  w-192  w-819  w-819  w-1409  w-1156  w-1131  w-1131   \n",
       "1    w-92    w-4    w-25  w-225  w-187  w-187   w-979   w-551  w-1131  w-1131   \n",
       "2    w-52   w-52  w-1314   w-25  w-490  w-187  w-1159  w-1156   w-708  w-1330   \n",
       "\n",
       "   ...     f90    f91     f92     f93    f94     f95     f96     f97     f98  \\\n",
       "0  ...   w-819  w-819  w-1215  w-1215  w-829   w-829   w-474  w-1207  w-1379   \n",
       "1  ...  w-1036   w-87   w-979   w-675  w-859  w-1005   w-474  w-1299  w-1379   \n",
       "2  ...   w-819   w-87  w-1315   w-979  w-104  w-1331  w-1314   w-118   w-530   \n",
       "\n",
       "      f99  \n",
       "0  w-1379  \n",
       "1   w-225  \n",
       "2  w-1174  \n",
       "\n",
       "[3 rows x 100 columns]"
      ]
     },
     "execution_count": 34,
     "metadata": {},
     "output_type": "execute_result"
    }
   ],
   "source": [
    "X_val_l1.head(3)"
   ]
  },
  {
   "cell_type": "code",
   "execution_count": 35,
   "metadata": {},
   "outputs": [
    {
     "data": {
      "text/html": [
       "<div>\n",
       "<style scoped>\n",
       "    .dataframe tbody tr th:only-of-type {\n",
       "        vertical-align: middle;\n",
       "    }\n",
       "\n",
       "    .dataframe tbody tr th {\n",
       "        vertical-align: top;\n",
       "    }\n",
       "\n",
       "    .dataframe thead th {\n",
       "        text-align: right;\n",
       "    }\n",
       "</style>\n",
       "<table border=\"1\" class=\"dataframe\">\n",
       "  <thead>\n",
       "    <tr style=\"text-align: right;\">\n",
       "      <th></th>\n",
       "      <th>f0</th>\n",
       "      <th>f1</th>\n",
       "      <th>f2</th>\n",
       "      <th>f3</th>\n",
       "      <th>f4</th>\n",
       "      <th>f5</th>\n",
       "      <th>f6</th>\n",
       "      <th>f7</th>\n",
       "      <th>f8</th>\n",
       "      <th>f9</th>\n",
       "      <th>...</th>\n",
       "      <th>f90</th>\n",
       "      <th>f91</th>\n",
       "      <th>f92</th>\n",
       "      <th>f93</th>\n",
       "      <th>f94</th>\n",
       "      <th>f95</th>\n",
       "      <th>f96</th>\n",
       "      <th>f97</th>\n",
       "      <th>f98</th>\n",
       "      <th>f99</th>\n",
       "    </tr>\n",
       "  </thead>\n",
       "  <tbody>\n",
       "    <tr>\n",
       "      <th>0</th>\n",
       "      <td>w-464</td>\n",
       "      <td>w-613</td>\n",
       "      <td>w-225</td>\n",
       "      <td>w-225</td>\n",
       "      <td>w-1151</td>\n",
       "      <td>w-1071</td>\n",
       "      <td>w-202</td>\n",
       "      <td>w-1395</td>\n",
       "      <td>w-17</td>\n",
       "      <td>w-17</td>\n",
       "      <td>...</td>\n",
       "      <td>w-819</td>\n",
       "      <td>w-819</td>\n",
       "      <td>w-495</td>\n",
       "      <td>w-979</td>\n",
       "      <td>w-580</td>\n",
       "      <td>w-378</td>\n",
       "      <td>w-1299</td>\n",
       "      <td>w-1299</td>\n",
       "      <td>w-1174</td>\n",
       "      <td>w-1379</td>\n",
       "    </tr>\n",
       "    <tr>\n",
       "      <th>1</th>\n",
       "      <td>w-464</td>\n",
       "      <td>w-92</td>\n",
       "      <td>w-225</td>\n",
       "      <td>w-225</td>\n",
       "      <td>w-1151</td>\n",
       "      <td>w-382</td>\n",
       "      <td>w-202</td>\n",
       "      <td>w-1395</td>\n",
       "      <td>w-17</td>\n",
       "      <td>w-17</td>\n",
       "      <td>...</td>\n",
       "      <td>w-819</td>\n",
       "      <td>w-819</td>\n",
       "      <td>w-495</td>\n",
       "      <td>w-979</td>\n",
       "      <td>w-580</td>\n",
       "      <td>w-1046</td>\n",
       "      <td>w-1299</td>\n",
       "      <td>w-1299</td>\n",
       "      <td>w-1174</td>\n",
       "      <td>w-1379</td>\n",
       "    </tr>\n",
       "    <tr>\n",
       "      <th>2</th>\n",
       "      <td>w-464</td>\n",
       "      <td>w-92</td>\n",
       "      <td>w-225</td>\n",
       "      <td>w-225</td>\n",
       "      <td>w-1151</td>\n",
       "      <td>w-490</td>\n",
       "      <td>w-202</td>\n",
       "      <td>w-1395</td>\n",
       "      <td>w-17</td>\n",
       "      <td>w-17</td>\n",
       "      <td>...</td>\n",
       "      <td>w-819</td>\n",
       "      <td>w-819</td>\n",
       "      <td>w-495</td>\n",
       "      <td>w-979</td>\n",
       "      <td>w-580</td>\n",
       "      <td>w-1046</td>\n",
       "      <td>w-1299</td>\n",
       "      <td>w-1299</td>\n",
       "      <td>w-1174</td>\n",
       "      <td>w-1379</td>\n",
       "    </tr>\n",
       "  </tbody>\n",
       "</table>\n",
       "<p>3 rows × 100 columns</p>\n",
       "</div>"
      ],
      "text/plain": [
       "      f0     f1     f2     f3      f4      f5     f6      f7    f8    f9  ...  \\\n",
       "0  w-464  w-613  w-225  w-225  w-1151  w-1071  w-202  w-1395  w-17  w-17  ...   \n",
       "1  w-464   w-92  w-225  w-225  w-1151   w-382  w-202  w-1395  w-17  w-17  ...   \n",
       "2  w-464   w-92  w-225  w-225  w-1151   w-490  w-202  w-1395  w-17  w-17  ...   \n",
       "\n",
       "     f90    f91    f92    f93    f94     f95     f96     f97     f98     f99  \n",
       "0  w-819  w-819  w-495  w-979  w-580   w-378  w-1299  w-1299  w-1174  w-1379  \n",
       "1  w-819  w-819  w-495  w-979  w-580  w-1046  w-1299  w-1299  w-1174  w-1379  \n",
       "2  w-819  w-819  w-495  w-979  w-580  w-1046  w-1299  w-1299  w-1174  w-1379  \n",
       "\n",
       "[3 rows x 100 columns]"
      ]
     },
     "execution_count": 35,
     "metadata": {},
     "output_type": "execute_result"
    }
   ],
   "source": [
    "X_l1.head(3)"
   ]
  },
  {
   "cell_type": "code",
   "execution_count": 36,
   "metadata": {},
   "outputs": [],
   "source": [
    "def predict(model, X, label_encoder):\n",
    "    X_local = copy.deepcopy(X)\n",
    "    for c in X_local.columns: \n",
    "        X_c = [str(x) for x in X_local[c]]\n",
    "        X_local.loc[:, c] = label_encoder.transform(X_c)\n",
    "    return model.predict(X_local)    \n",
    "    "
   ]
  },
  {
   "cell_type": "code",
   "execution_count": 37,
   "metadata": {},
   "outputs": [],
   "source": [
    "def get_mean_acc(X_train, y_train, X_val, y_val, features, nr_iters, res_path):\n",
    "    \n",
    "    accs = []  \n",
    "    f1s = []\n",
    "    aucs = []\n",
    "    label_encoder = LabelEncoder()\n",
    "    label_encoder.fit(features)\n",
    "    \n",
    "    X_train = copy.deepcopy(X_train)\n",
    "        #encoders = {}\n",
    "    for c in X_train.columns: \n",
    "        X_train.loc[:, c] = label_encoder.transform([str(x) for x in X_train[c]])\n",
    "            \n",
    "    X_val = copy.deepcopy(X_val)\n",
    "    for c in X_val.columns: \n",
    "        #label_encoder = encoders[c]\n",
    "        X_val.loc[:, c] = label_encoder.transform([str(x) for x in X_val[c]])\n",
    "    \n",
    "    models = [] \n",
    "    for i in range(nr_iters):\n",
    "        print('Iter', i)\n",
    "        \n",
    "        X_train_clf, X_test, y_train_clf, y_test =  train_test_split(X_train, y_train, train_size=0.5)\n",
    "        clf =  tree.DecisionTreeClassifier() \n",
    "        clf.fit(X_train_clf, y_train_clf)\n",
    "        models.append(clf)\n",
    "        y_pred = clf.predict(X_val)\n",
    "#         model = lgbm_clf(X_train_clf, y_train_clf, X_test, y_test, label_encoder)\n",
    "#         y_pred = model.predict(X_val) #predict(model, X_val, label_encoder)\n",
    "        accuracy = acc(y_val, y_pred)\n",
    "        accs.append(accuracy)\n",
    "        \n",
    "        f1 = f1_score(y_val, y_pred)\n",
    "        f1s.append(f1)\n",
    "        \n",
    "        fpr, tpr, thresholds = roc_curve(y_val, y_pred)\n",
    "        roc_auc = auc(fpr, tpr)\n",
    "        aucs.append(roc_auc)\n",
    "        print('AUC', roc_auc)\n",
    "        print('F1', f1)\n",
    "    print('Accuracy', np.mean(accs), np.std(accs))\n",
    "    print('AUC', np.mean(aucs), np.std(aucs))\n",
    "    print('F1', np.mean(f1s), np.std(f1s))\n",
    "    \n",
    "    \n",
    "    with open(res_path + \"_accuracy.txt\", \"w\") as f:\n",
    "        f.write(str(np.mean(accs)) + \" \" + str(np.std(accs)))\n",
    "    with open(res_path + \"_F1.txt\", \"w\") as f:\n",
    "        f.write(str(np.mean(f1s)) + \" \" + str(np.std(f1s)))\n",
    "    with open(res_path + \"_AUC.txt\", \"w\") as f:\n",
    "        f.write(str(np.mean(aucs)) + \" \" + str(np.std(aucs)))\n",
    "        \n",
    "    return models[0], label_encoder\n",
    "        \n",
    "\n",
    "    \n",
    "\n"
   ]
  },
  {
   "cell_type": "code",
   "execution_count": 39,
   "metadata": {},
   "outputs": [],
   "source": [
    "nr_iters = 10"
   ]
  },
  {
   "cell_type": "code",
   "execution_count": 40,
   "metadata": {},
   "outputs": [
    {
     "name": "stdout",
     "output_type": "stream",
     "text": [
      "Iter 0\n",
      "AUC 0.5726075987579783\n",
      "F1 0.322324966974901\n",
      "Iter 1\n",
      "AUC 0.5558038281294921\n",
      "F1 0.2943840579710145\n",
      "Iter 2\n",
      "AUC 0.545721386061756\n",
      "F1 0.2839774207555362\n",
      "Iter 3\n",
      "AUC 0.5621918305445345\n",
      "F1 0.3057040998217469\n",
      "Iter 4\n",
      "AUC 0.5533115188890805\n",
      "F1 0.2920946851272889\n",
      "Iter 5\n",
      "AUC 0.5675241504226325\n",
      "F1 0.3129496402877698\n",
      "Iter 6\n",
      "AUC 0.5456108763153356\n",
      "F1 0.28154050464807434\n",
      "Iter 7\n",
      "AUC 0.5535612888850555\n",
      "F1 0.288878634056299\n",
      "Iter 8\n",
      "AUC 0.5648099232361566\n",
      "F1 0.30662983425414364\n",
      "Iter 9\n",
      "AUC 0.562079523891668\n",
      "F1 0.3040723981900452\n",
      "Accuracy 0.7036229135053111 0.007977109391075658\n",
      "AUC 0.5583221925133689 0.008569738875029867\n",
      "F1 0.2992556242086819 0.012525277911944433\n"
     ]
    }
   ],
   "source": [
    "res_path = data_dir + \"/results/rwalk_\" + str(emb_size) + \"_hop_\" + str(hop) \n",
    "clf_rw, le = get_mean_acc(X_rwalk, y_rwalk, X_val_rwalk, y_val_rwalk, features, nr_iters, res_path)"
   ]
  },
  {
   "cell_type": "code",
   "execution_count": 41,
   "metadata": {},
   "outputs": [
    {
     "name": "stdout",
     "output_type": "stream",
     "text": [
      "Iter 0\n",
      "AUC 0.6306773259157036\n",
      "F1 0.4097222222222223\n",
      "Iter 1\n",
      "AUC 0.6280538425047438\n",
      "F1 0.40509915014164305\n",
      "Iter 2\n",
      "AUC 0.6266585446495314\n",
      "F1 0.40303797468354424\n",
      "Iter 3\n",
      "AUC 0.627002652233914\n",
      "F1 0.4035346097201768\n",
      "Iter 4\n",
      "AUC 0.6191825153815191\n",
      "F1 0.3906931652932623\n",
      "Iter 5\n",
      "AUC 0.62581220171353\n",
      "F1 0.40154440154440146\n",
      "Iter 6\n",
      "AUC 0.6245121398999482\n",
      "F1 0.3994169096209913\n",
      "Iter 7\n",
      "AUC 0.6290115936403887\n",
      "F1 0.40679611650485437\n",
      "Iter 8\n",
      "AUC 0.616342504743833\n",
      "F1 0.38596491228070173\n",
      "Iter 9\n",
      "AUC 0.6252255117589557\n",
      "F1 0.40058765915768857\n",
      "Accuracy 0.7670144157814871 0.005076270877669271\n",
      "AUC 0.6252478832442068 0.004165833391775751\n",
      "F1 0.4006397121169486 0.006863031036881246\n"
     ]
    },
    {
     "data": {
      "text/plain": [
       "(DecisionTreeClassifier(), LabelEncoder())"
      ]
     },
     "execution_count": 41,
     "metadata": {},
     "output_type": "execute_result"
    }
   ],
   "source": [
    "res_path = data_dir + \"/results/nodesketch_\" + str(emb_size) + \"_hop_\" + str(hop) \n",
    "get_mean_acc(X_ns, y_ns, X_val_ns, y_val_ns, features, nr_iters, res_path)"
   ]
  },
  {
   "cell_type": "code",
   "execution_count": 42,
   "metadata": {},
   "outputs": [
    {
     "name": "stdout",
     "output_type": "stream",
     "text": [
      "Iter 0\n",
      "AUC 0.6252818656539283\n",
      "F1 0.40076335877862596\n",
      "Iter 1\n",
      "AUC 0.6223358750692302\n",
      "F1 0.39587426326129665\n",
      "Iter 2\n",
      "AUC 0.6145190481841918\n",
      "F1 0.3829160530191458\n",
      "Iter 3\n",
      "AUC 0.6244585212437693\n",
      "F1 0.39942112879884223\n",
      "Iter 4\n",
      "AUC 0.6333434706068518\n",
      "F1 0.41396025206010667\n",
      "Iter 5\n",
      "AUC 0.6261237538571089\n",
      "F1 0.4021526418786692\n",
      "Iter 6\n",
      "AUC 0.6307411583194873\n",
      "F1 0.4097560975609756\n",
      "Iter 7\n",
      "AUC 0.6377173332542131\n",
      "F1 0.4208015267175573\n",
      "Iter 8\n",
      "AUC 0.6261163363399004\n",
      "F1 0.4021215043394407\n",
      "Iter 9\n",
      "AUC 0.626356169396313\n",
      "F1 0.4025218234723569\n",
      "Accuracy 0.7662744353767319 0.00321663527361516\n",
      "AUC 0.6266993531924994 0.005975748807270558\n",
      "F1 0.40302886498870166 0.009779204250369057\n"
     ]
    }
   ],
   "source": [
    "res_path = data_dir + \"/results/minwise_\" + str(emb_size) + \"_hop_\" + str(hop) \n",
    "clf_l0, le_l0 = get_mean_acc(X_minwise, y_minwise, X_val_minwise, y_val_minwise, features, nr_iters, res_path)"
   ]
  },
  {
   "cell_type": "code",
   "execution_count": 43,
   "metadata": {},
   "outputs": [
    {
     "name": "stdout",
     "output_type": "stream",
     "text": [
      "Iter 0\n",
      "AUC 0.6101142792151278\n",
      "F1 0.37670267731329266\n",
      "Iter 1\n",
      "AUC 0.615807223672759\n",
      "F1 0.38549618320610685\n",
      "Iter 2\n",
      "AUC 0.6186555502808766\n",
      "F1 0.38996138996139\n",
      "Iter 3\n",
      "AUC 0.6308499485718807\n",
      "F1 0.40976543800861653\n",
      "Iter 4\n",
      "AUC 0.6107324056491811\n",
      "F1 0.37648221343873517\n",
      "Iter 5\n",
      "AUC 0.6151149220666192\n",
      "F1 0.38377843719090016\n",
      "Iter 6\n",
      "AUC 0.6211404185457711\n",
      "F1 0.39404132628543964\n",
      "Iter 7\n",
      "AUC 0.5990127284595301\n",
      "F1 0.3564653020469296\n",
      "Iter 8\n",
      "AUC 0.6158158774428357\n",
      "F1 0.3852498786996603\n",
      "Iter 9\n",
      "AUC 0.6108275971200254\n",
      "F1 0.3777148253068933\n",
      "Accuracy 0.7579237046877967 0.005391654099588614\n",
      "AUC 0.6148070951024607 0.007863405330281409\n",
      "F1 0.38356576714579643 0.013075241926612366\n"
     ]
    }
   ],
   "source": [
    "res_path = data_dir + \"/results/l1_\" + str(emb_size) + \"_hop_\" + str(hop) \n",
    "clf_l1, le_l1 = get_mean_acc(X_l1, y_l1, X_val_l1, y_val_l1, features, nr_iters, res_path)"
   ]
  },
  {
   "cell_type": "code",
   "execution_count": 44,
   "metadata": {
    "scrolled": true
   },
   "outputs": [
    {
     "name": "stdout",
     "output_type": "stream",
     "text": [
      "Iter 0\n",
      "AUC 0.6102860315680524\n",
      "F1 0.3770949720670391\n",
      "Iter 1\n",
      "AUC 0.6040094373526537\n",
      "F1 0.36727103672710365\n",
      "Iter 2\n",
      "AUC 0.5950186159507791\n",
      "F1 0.3520456707897241\n",
      "Iter 3\n",
      "AUC 0.6151448665976654\n",
      "F1 0.38457921955806296\n",
      "Iter 4\n",
      "AUC 0.5896880929791272\n",
      "F1 0.34375\n",
      "Iter 5\n",
      "AUC 0.6068566356161232\n",
      "F1 0.37134778510838834\n",
      "Iter 6\n",
      "AUC 0.5923969294462653\n",
      "F1 0.35004557885141296\n",
      "Iter 7\n",
      "AUC 0.604372412454718\n",
      "F1 0.36717267552182165\n",
      "Iter 8\n",
      "AUC 0.6063813538611925\n",
      "F1 0.3707179727827311\n",
      "Iter 9\n",
      "AUC 0.6044874144672532\n",
      "F1 0.3676539727315468\n",
      "Accuracy 0.7432473444613049 0.005892468313756914\n",
      "AUC 0.602864179029383 0.007649549699743719\n",
      "F1 0.36516788841378306 0.012092458254271882\n"
     ]
    }
   ],
   "source": [
    "res_path = data_dir + \"/results/l2_\" + str(emb_size) + \"_hop_\" + str(hop) \n",
    "clf_l2, le_l2 = get_mean_acc(X_l2, y_l2, X_val_l2, y_val_l2, features, nr_iters, res_path)"
   ]
  },
  {
   "cell_type": "code",
   "execution_count": null,
   "metadata": {},
   "outputs": [],
   "source": []
  },
  {
   "cell_type": "markdown",
   "metadata": {},
   "source": [
    "# Interpretability"
   ]
  },
  {
   "cell_type": "code",
   "execution_count": 45,
   "metadata": {},
   "outputs": [],
   "source": [
    "def decision_path(clf, label_encoder, X_test, y_test, sample_id):\n",
    "    \n",
    "    feature = clf.tree_.feature\n",
    "    threshold = clf.tree_.threshold\n",
    "    \n",
    "    X_test = copy.deepcopy(X_test)\n",
    "    for c in X_test.columns: \n",
    "        #label_encoder = encoders[c]\n",
    "        X_test.loc[:, c] = label_encoder.transform([str(x) for x in X_test[c]])\n",
    "    \n",
    "    node_indicator = clf.decision_path(X_test)\n",
    "    leaf_id = clf.apply(X_test)\n",
    "\n",
    "    # obtain ids of the nodes `sample_id` goes through, i.e., row `sample_id`\n",
    "    node_index = node_indicator.indices[node_indicator.indptr[sample_id]:\n",
    "                                        node_indicator.indptr[sample_id + 1]]\n",
    "\n",
    "    print('Rules used to predict sample {id} with class {cl}:\\n'.format(id=sample_id, cl=y_test[sample_id]))\n",
    "    for node_id in node_index:\n",
    "        # continue to the next node if it is a leaf node\n",
    "        if leaf_id[sample_id] == node_id:\n",
    "            continue\n",
    "\n",
    "        print(feature[node_id])    \n",
    "        # check if value of the split feature for sample 0 is below threshold\n",
    "        if (X_test.iloc[sample_id, feature[node_id]] <= threshold[node_id]):\n",
    "            threshold_sign = \"<=\"\n",
    "        else:\n",
    "            threshold_sign = \">\"\n",
    "        \n",
    "        print(\"decision node {node} : (X_test[{sample}, {feature}] = {value}) \"\n",
    "              \"{inequality} {threshold})\".format(\n",
    "                  node=node_id,\n",
    "                  sample=sample_id,\n",
    "                  feature=feature[node_id],\n",
    "                  value=label_encoder.inverse_transform([X_test.iloc[sample_id, feature[node_id]]]),\n",
    "                  inequality=threshold_sign,\n",
    "                  threshold=threshold[node_id]))\n",
    "    print(\"prediction\", clf.predict(X_test.iloc[[sample_id]]))"
   ]
  },
  {
   "cell_type": "code",
   "execution_count": 46,
   "metadata": {},
   "outputs": [],
   "source": [
    "# text_representation = tree.export_text(clf_rw)\n",
    "# print(text_representation)"
   ]
  },
  {
   "cell_type": "code",
   "execution_count": 47,
   "metadata": {},
   "outputs": [
    {
     "name": "stdout",
     "output_type": "stream",
     "text": [
      "Rules used to predict sample 100 with class 1:\n",
      "\n",
      "66\n",
      "decision node 0 : (X_test[100, 66] = ['w-65']) > 297.5)\n",
      "67\n",
      "decision node 1396 : (X_test[100, 67] = ['w-65']) > 297.5)\n",
      "16\n",
      "decision node 1616 : (X_test[100, 16] = ['w-751']) > 1155.0)\n",
      "17\n",
      "decision node 2038 : (X_test[100, 17] = ['w-619']) <= 1144.5)\n",
      "49\n",
      "decision node 2039 : (X_test[100, 49] = ['w-820']) > 55.0)\n",
      "34\n",
      "decision node 2043 : (X_test[100, 34] = ['w-118']) <= 214.5)\n",
      "97\n",
      "decision node 2044 : (X_test[100, 97] = ['w-118']) <= 302.5)\n",
      "prediction [1]\n"
     ]
    }
   ],
   "source": [
    "decision_path(clf_l1, le_l1, X_val_l1, y_val_l1, 100)"
   ]
  },
  {
   "cell_type": "code",
   "execution_count": 48,
   "metadata": {},
   "outputs": [],
   "source": [
    "#decision_path(clf_l1, le_l1, X_val_l1, y_val_l1, 180)"
   ]
  },
  {
   "cell_type": "code",
   "execution_count": 49,
   "metadata": {},
   "outputs": [],
   "source": [
    "# text_representation = tree.export_text(clf_l1)\n",
    "# print(text_representation)"
   ]
  },
  {
   "cell_type": "code",
   "execution_count": 53,
   "metadata": {},
   "outputs": [],
   "source": [
    "def get_distr(X, y, label, indices):\n",
    "    \n",
    "    for idx in indices:\n",
    "        X_label = X.iloc[[i for i, y_i in enumerate(y) if y_i==label], :]\n",
    "        # X_neg = X.iloc[[i for i, y_i in enumerate(y) if y_i==0], :]\n",
    "        print(X_label.shape)\n",
    "\n",
    "        dict_label = Counter(X_label.iloc[:, idx])\n",
    "        # dict_neg = Counter(X_neg.iloc[:, idx])\n",
    "\n",
    "        top_pos = sorted([(cnt/X_label.shape[0], k) for k, cnt in dict_label.items()], reverse=True)[:10]\n",
    "        plt.bar([i for i in range(len(top_pos))], [c for c, _ in top_pos], alpha=0.7)\n",
    "        plt.xticks(np.arange(len(top_pos)), [n for cnt, n in top_pos], rotation='vertical')\n",
    "        # plt.yscale('log')\n",
    "        plt.ylim([0,0.5])\n",
    "        plt.show()\n",
    "    "
   ]
  },
  {
   "cell_type": "code",
   "execution_count": 54,
   "metadata": {},
   "outputs": [
    {
     "name": "stdout",
     "output_type": "stream",
     "text": [
      "(4222, 100)\n"
     ]
    },
    {
     "data": {
      "image/png": "[encoded data removed]",
      "text/plain": [
       "<Figure size 432x288 with 1 Axes>"
      ]
     },
     "metadata": {
      "needs_background": "light"
     },
     "output_type": "display_data"
    }
   ],
   "source": [
    "get_distr(X_rwalk, y_rwalk, label=1, indices=[2])"
   ]
  },
  {
   "cell_type": "code",
   "execution_count": 55,
   "metadata": {},
   "outputs": [
    {
     "name": "stdout",
     "output_type": "stream",
     "text": [
      "(16866, 100)\n"
     ]
    },
    {
     "data": {
      "image/png": "[encoded data removed]",
      "text/plain": [
       "<Figure size 432x288 with 1 Axes>"
      ]
     },
     "metadata": {
      "needs_background": "light"
     },
     "output_type": "display_data"
    },
    {
     "name": "stdout",
     "output_type": "stream",
     "text": [
      "(16866, 100)\n"
     ]
    },
    {
     "data": {
      "image/png": "[encoded data removed]",
      "text/plain": [
       "<Figure size 432x288 with 1 Axes>"
      ]
     },
     "metadata": {
      "needs_background": "light"
     },
     "output_type": "display_data"
    }
   ],
   "source": [
    "get_distr(X_l2, y_l2, label=0, indices=[16, 17])"
   ]
  },
  {
   "cell_type": "code",
   "execution_count": null,
   "metadata": {},
   "outputs": [],
   "source": [
    "# get_distr(X_l2, y_l2, label=1, indices=[16, 17])"
   ]
  },
  {
   "cell_type": "code",
   "execution_count": null,
   "metadata": {},
   "outputs": [],
   "source": [
    "# text_representation = tree.export_text(clf_l2)\n",
    "# print(text_representation)"
   ]
  },
  {
   "cell_type": "code",
   "execution_count": null,
   "metadata": {},
   "outputs": [],
   "source": []
  },
  {
   "cell_type": "code",
   "execution_count": null,
   "metadata": {},
   "outputs": [],
   "source": [
    "# decision_path(clf_l2, le_l2, X_val_l2, y_val_l2, 1)"
   ]
  },
  {
   "cell_type": "code",
   "execution_count": null,
   "metadata": {},
   "outputs": [],
   "source": [
    "# decision_path(clf_l2, le_l2, X_val_l2, y_val_l2, 10000)"
   ]
  },
  {
   "cell_type": "code",
   "execution_count": null,
   "metadata": {},
   "outputs": [],
   "source": [
    "def get_mean(X, y, val):\n",
    "    return np.mean(X.loc[[i for i in range(len(y)) if y[i]==val]].mean(axis=1))"
   ]
  },
  {
   "cell_type": "code",
   "execution_count": null,
   "metadata": {},
   "outputs": [],
   "source": [
    "# get_mean(X_rwalk, y_rwalk, 0), get_mean(X_rwalk, y_rwalk, 1)"
   ]
  },
  {
   "cell_type": "code",
   "execution_count": null,
   "metadata": {},
   "outputs": [],
   "source": [
    "# get_mean(X_minwise, y_minwise, 0), get_mean(X_minwise, y_minwise, 1)"
   ]
  },
  {
   "cell_type": "code",
   "execution_count": null,
   "metadata": {},
   "outputs": [],
   "source": [
    "# get_mean(X_val_minwise, y_val_minwise, 0), get_mean(X_val_minwise, y_val_minwise, 1)"
   ]
  },
  {
   "cell_type": "code",
   "execution_count": null,
   "metadata": {},
   "outputs": [],
   "source": [
    "# get_mean(X_ns, y_ns, 0), get_mean(X_ns, y_ns, 1)"
   ]
  },
  {
   "cell_type": "code",
   "execution_count": null,
   "metadata": {},
   "outputs": [],
   "source": [
    "# get_mean(X_l1, y_l1, 0), get_mean(X_l1, y_l1, 1)"
   ]
  },
  {
   "cell_type": "code",
   "execution_count": null,
   "metadata": {},
   "outputs": [],
   "source": [
    "# get_mean(X_l2, y_l2, 0), get_mean(X_l2, y_l2, 1)"
   ]
  },
  {
   "cell_type": "code",
   "execution_count": null,
   "metadata": {},
   "outputs": [],
   "source": []
  },
  {
   "cell_type": "code",
   "execution_count": null,
   "metadata": {},
   "outputs": [],
   "source": []
  },
  {
   "cell_type": "markdown",
   "metadata": {},
   "source": [
    "# Other experiments, not reported in the paper"
   ]
  },
  {
   "cell_type": "code",
   "execution_count": 56,
   "metadata": {},
   "outputs": [],
   "source": [
    "def get_auc_scores(X, y, X_val, y_val, lgb_params, label_encoder, n_splits):\n",
    "    X_local = copy.deepcopy(X)\n",
    "    for c in X_local.columns: \n",
    "        X_c = [str(x) for x in X_local[c]]\n",
    "        X_local.loc[:, c] = label_encoder.transform(X_c)\n",
    "        \n",
    "    X_val_local = copy.deepcopy(X_val)\n",
    "    for c in X_val_local.columns: \n",
    "        X_c = [str(x) for x in X_val_local[c]]\n",
    "        X_val_local.loc[:, c] = label_encoder.transform(X_c)\n",
    "    \n",
    "    tprs = []\n",
    "    aucs = []\n",
    "    mean_fpr = np.linspace(0, 1, 100)\n",
    "        \n",
    "    classifiers = []\n",
    "    \n",
    "    folds = StratifiedKFold(n_splits=n_splits, random_state=73, shuffle=True) \n",
    "    splits = folds.split(X_local, y)\n",
    "    for fold_n, (train_index, test_index) in enumerate(splits):\n",
    "        print('Fold', fold_n)\n",
    "        X_train, X_test = X_local.iloc[train_index], X_local.iloc[test_index]\n",
    "        y_train, y_test = np.array(y)[train_index], np.array(y)[test_index]\n",
    "        print(X_train.shape, X_test.shape)\n",
    "        dtrain = lgb.Dataset(X_train, label=y_train)\n",
    "        dtest = lgb.Dataset(X_test, label=y_test)\n",
    "\n",
    "        clf = lgb.train(lgb_params, dtrain, valid_sets=[dtrain, dtest], verbose_eval=1000)\n",
    "        classifiers.append((clf, clf.best_iteration))\n",
    "\n",
    "        y_pred = clf.predict(X_val_local, num_iteration=clf.best_iteration)\n",
    "        fpr, tpr, thresholds = roc_curve(y_val, y_pred)\n",
    "        tprs.append(interp(mean_fpr, fpr, tpr))\n",
    "        tprs[-1][0] = 0.0\n",
    "        roc_auc = auc(fpr, tpr)\n",
    "        aucs.append(roc_auc)\n",
    "        del X_train, X_test, y_train, y_test\n",
    "        gc.collect()\n",
    "        \n",
    "    mean_tpr = np.mean(tprs, axis=0)\n",
    "    mean_tpr[-1] = 1.0\n",
    "    mean_auc = auc(mean_fpr, mean_tpr)\n",
    "    std_auc = np.std(aucs)\n",
    "\n",
    "\n",
    "    std_tpr = np.std(tprs, axis=0)\n",
    "    tprs_upper = np.minimum(mean_tpr + std_tpr, 1)\n",
    "    tprs_lower = np.maximum(mean_tpr - std_tpr, 0)\n",
    "\n",
    "    return mean_auc, std_auc, mean_fpr, mean_tpr, tprs_lower, tprs_upper\n",
    "    "
   ]
  },
  {
   "cell_type": "code",
   "execution_count": 57,
   "metadata": {},
   "outputs": [],
   "source": [
    "def plot_roc_lgbm(X_rw, y_rw, X_rw_val, y_rw_val, \\\n",
    "                  X_mw, y_mw, X_mw_val, y_mw_val, \\\n",
    "                  X_l1, y_l1, X_l1_val, y_l1_val,\\\n",
    "                  features, name, exclude_pred = True, n_splits = 3):\n",
    "    \n",
    "    \n",
    "    label_encoder = LabelEncoder()\n",
    "    label_encoder.fit(features)\n",
    "    nr_trees = 3000\n",
    "    lgb_params = {'objective':'binary',\n",
    "            'boosting_type':'gbdt',\n",
    "            'metric':'auc',\n",
    "            'n_jobs':4,\n",
    "            'learning_rate':0.1,\n",
    "            'tree_learner':'serial',\n",
    "            'max_depth': -1,\n",
    "            'n_estimators':nr_trees,\n",
    "            'verbose':-1,\n",
    "            'seed': 1}\n",
    "    \n",
    "    mean_auc_rw, std_auc_rw, mean_fpr_rw, mean_tpr_rw, tprs_lower_rw, tprs_upper_rw = \\\n",
    "                get_auc_scores(X_rw, y_rw, X_rw_val, y_rw_val, lgb_params, label_encoder, n_splits)\n",
    "    \n",
    "    lgb_params = {'objective':'binary',\n",
    "            'boosting_type':'gbdt',\n",
    "            'metric':'auc',\n",
    "            'n_jobs':4,\n",
    "            'learning_rate':0.1,\n",
    "            'tree_learner':'serial',\n",
    "            'max_depth': -1,\n",
    "            'n_estimators':nr_trees,\n",
    "            'verbose':-1,\n",
    "            'seed': 1}\n",
    "    \n",
    "    mean_auc_mw, std_auc_mw, mean_fpr_mw, mean_tpr_mw, tprs_lower_mw, tprs_upper_mw = \\\n",
    "                get_auc_scores(X_mw, y_mw, X_mw_val, y_mw_val, lgb_params, label_encoder, n_splits)\n",
    "    \n",
    "    lgb_params = {'objective':'binary',\n",
    "            'boosting_type':'gbdt',\n",
    "            'metric':'auc',\n",
    "            'n_jobs':4,\n",
    "            'learning_rate':0.1,\n",
    "            'tree_learner':'serial',\n",
    "            'max_depth': -1,\n",
    "            'n_estimators':nr_trees,\n",
    "            'verbose':-1,\n",
    "            'seed': 1}\n",
    "    \n",
    "    mean_auc_l1, std_auc_l1, mean_fpr_l1, mean_tpr_l1, tprs_lower_l1, tprs_upper_l1 = \\\n",
    "                get_auc_scores(X_l1, y_l1, X_l1_val, y_l1_val, lgb_params, label_encoder, n_splits)\n",
    "\n",
    "    alpha = 0.7\n",
    "    markersize=6\n",
    "    markevery=5\n",
    "    plt.plot([0, 1], [0, 1], linestyle='--', lw=2, color='r',\n",
    "             label='Chance', alpha=alpha)\n",
    "\n",
    "    plt.plot(mean_fpr_rw, mean_tpr_rw, color='b',\n",
    "             label=r'AUC RW = %0.3f $\\pm$ %0.4f' % (mean_auc_rw, std_auc_rw),\n",
    "             lw=1, marker='o', markersize=markersize,  markevery=markevery, alpha=alpha)\n",
    "   \n",
    "\n",
    "    plt.plot(mean_fpr_mw, mean_tpr_mw, color='green',\n",
    "             label=r'AUC $L_0$ = %0.3f $\\pm$ %0.4f' % (mean_auc_mw, std_auc_mw),\n",
    "             lw=1, markevery=markevery, marker='x', markersize=markersize, alpha=alpha)\n",
    "\n",
    "    \n",
    "    plt.plot(mean_fpr_l1, mean_tpr_l1, color='orange',\n",
    "             label=r'AUC $L_1$ = %0.3f $\\pm$ %0.4f' % (mean_auc_l1, std_auc_l1),\n",
    "             lw=1, marker='D', markersize=markersize, markevery=markevery, alpha=alpha)\n",
    "\n",
    "    plt.xlim([-0.05, 1.2])\n",
    "    plt.ylim([-0.05, 1.05])\n",
    "    plt.xlabel('False Positive Rate', fontsize=14)\n",
    "    plt.ylabel('True Positive Rate', fontsize=14)\n",
    "    mytitle = name \n",
    "    plt.title(mytitle, fontsize=15)\n",
    "    plt.legend(loc=\"lower right\")\n",
    "    plt.show()"
   ]
  },
  {
   "cell_type": "code",
   "execution_count": 58,
   "metadata": {},
   "outputs": [],
   "source": [
    "# plot_roc_lgbm(X_rwalk, y_rwalk, X_val_rwalk, y_val_rwalk,\n",
    "#               X_minwise, y_minwise, X_val_minwise, y_val_minwise,\n",
    "#               X_l1, y_l1, X_val_l1, y_val_l1,\n",
    "#               features, graphname +' ROC')"
   ]
  },
  {
   "cell_type": "code",
   "execution_count": null,
   "metadata": {},
   "outputs": [],
   "source": []
  },
  {
   "cell_type": "code",
   "execution_count": 59,
   "metadata": {},
   "outputs": [],
   "source": [
    "def lgbm_clf(X, y, X_test, y_test, label_encoder):\n",
    "        \n",
    "#         X_local = copy.deepcopy(X)\n",
    "#         #encoders = {}\n",
    "#         for c in X.columns: \n",
    "#             X_local.loc[:, c] = label_encoder.transform([str(x) for x in X_local[c]])\n",
    "#             #encoders[c] = label_encoder\n",
    "            \n",
    "#         X_test_local = copy.deepcopy(X_test)\n",
    "#         for c in X_test_local.columns: \n",
    "#             #label_encoder = encoders[c]\n",
    "#             X_c = [str(x) for x in X_test_local[c]]\n",
    "#             X_test_local.loc[:, c] = label_encoder.transform(X_c)\n",
    "            \n",
    "        lgb_params = {'objective':'binary',\n",
    "            'boosting_type':'gbdt',\n",
    "            'n_jobs':4,\n",
    "            'learning_rate':0.1,\n",
    "            'tree_learner':'serial',\n",
    "            'max_depth': -1,\n",
    "            'lambda_l1':10,\n",
    "            'lambda_l2':10,\n",
    "            'n_estimators':1000,\n",
    "            'verbose':-1,\n",
    "            'seed': 1}\n",
    "        \n",
    "        clf = lgb.LGBMClassifier( **lgb_params) \n",
    "        clf.fit(X, y, eval_set=[(X, y), (X_test, y_test)], early_stopping_rounds=100, verbose=1000)\n",
    "        return clf"
   ]
  },
  {
   "cell_type": "code",
   "execution_count": null,
   "metadata": {},
   "outputs": [],
   "source": []
  }
 ],
 "metadata": {
  "kernelspec": {
   "display_name": "Python 3",
   "language": "python",
   "name": "python3"
  },
  "language_info": {
   "codemirror_mode": {
    "name": "ipython",
    "version": 3
   },
   "file_extension": ".py",
   "mimetype": "text/x-python",
   "name": "python",
   "nbconvert_exporter": "python",
   "pygments_lexer": "ipython3",
   "version": "3.7.5"
  }
 },
 "nbformat": 4,
 "nbformat_minor": 4
}
