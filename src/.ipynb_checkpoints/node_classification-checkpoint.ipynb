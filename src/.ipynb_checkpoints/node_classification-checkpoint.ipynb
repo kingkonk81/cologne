{
 "cells": [
  {
   "cell_type": "code",
   "execution_count": 1,
   "metadata": {},
   "outputs": [],
   "source": [
    "import os\n",
    "import numpy as np\n",
    "import pandas as pd\n",
    "import json\n",
    "import lightgbm as lgb\n",
    "from collections import Counter\n",
    "import matplotlib.pyplot as plt\n",
    "from scipy import interp\n",
    "import copy\n",
    "from sklearn import tree\n",
    "from sklearn.model_selection import train_test_split\n",
    "from sklearn.metrics import accuracy_score as acc, f1_score, recall_score, precision_score\n",
    "from sklearn.preprocessing import LabelEncoder\n",
    "from sklearn.metrics import roc_curve, auc\n",
    "from sklearn.metrics import balanced_accuracy_score as bacc\n",
    "from sklearn.metrics import mean_absolute_error as mae\n",
    "from sklearn.preprocessing import MultiLabelBinarizer\n",
    "from sklearn.linear_model import LogisticRegression\n",
    "from sklearn.multiclass import OneVsRestClassifier\n",
    "from sklearn.model_selection import KFold"
   ]
  },
  {
   "cell_type": "code",
   "execution_count": 2,
   "metadata": {},
   "outputs": [
    {
     "name": "stdout",
     "output_type": "stream",
     "text": [
      "../Graphs/Cora\n"
     ]
    }
   ],
   "source": [
    "graphnames = ['Cora', 'Citeseer', 'Pubmed', 'HomoSapiens', 'Wikipedia', 'BlogCatalog']\n",
    "idx = 0\n",
    "graphname = graphnames[idx]\n",
    "multilabel=False\n",
    "labelsamples = False\n",
    "if idx > 2:\n",
    "    multilabel=True\n",
    "emb_size = 50\n",
    "hop = 2\n",
    "data_dir = os.path.expanduser(\"../Graphs/\"+graphname)\n",
    "print(data_dir)"
   ]
  },
  {
   "cell_type": "code",
   "execution_count": 3,
   "metadata": {},
   "outputs": [],
   "source": [
    "rwalk_path = data_dir + \"/vectors/vectors_rwalk_all_\" + str(emb_size) + \"_hop_\" + str(hop) + \".json\"\n",
    "with open(rwalk_path, \"r\") as read_file:\n",
    "    rwalk_vectors = json.load(read_file)"
   ]
  },
  {
   "cell_type": "code",
   "execution_count": 4,
   "metadata": {},
   "outputs": [],
   "source": [
    "nodesketch_path = data_dir + \"/vectors/vectors_nodesketch_all_\" + str(emb_size) + \"_hop_\" + str(hop) + \".json\"\n",
    "with open(nodesketch_path, \"r\") as read_file:\n",
    "    ns_vectors = json.load(read_file)"
   ]
  },
  {
   "cell_type": "code",
   "execution_count": 5,
   "metadata": {},
   "outputs": [],
   "source": [
    "minwise_path = data_dir + \"/vectors/vectors_minwise_all_\" + str(emb_size) + \"_hop_\" + str(hop) + \".json\"\n",
    "with open(minwise_path, \"r\") as read_file:\n",
    "    minwise_vectors = json.load(read_file)"
   ]
  },
  {
   "cell_type": "code",
   "execution_count": 6,
   "metadata": {},
   "outputs": [],
   "source": [
    "l1_path = data_dir + \"/vectors/vectors_l1_all_\" + str(emb_size) + \"_hop_\" + str(hop) + \".json\"\n",
    "with open(l1_path, \"r\") as read_file:\n",
    "    l1_vectors = json.load(read_file)"
   ]
  },
  {
   "cell_type": "code",
   "execution_count": 7,
   "metadata": {},
   "outputs": [],
   "source": [
    "l2_path = data_dir + \"/vectors/vectors_l2_all_\" + str(emb_size) + \"_hop_\" + str(hop) + \".json\"\n",
    "with open(l2_path, \"r\") as read_file:\n",
    "    l2_vectors = json.load(read_file)"
   ]
  },
  {
   "cell_type": "code",
   "execution_count": 8,
   "metadata": {},
   "outputs": [],
   "source": [
    "x = 2\n",
    "paths = ['graph_nodes.txt', 'labels.txt', 'words_indices.txt']\n",
    "features_path = data_dir + \"/data/\" + paths[x] \n",
    "features = []\n",
    "with open(features_path, \"r\") as features_file:\n",
    "    for f in features_file:\n",
    "        features.append(f.strip())\n",
    "features.append(\"\")\n",
    "features.append(\" \")\n",
    "features.append(\"nan\")"
   ]
  },
  {
   "cell_type": "code",
   "execution_count": 9,
   "metadata": {},
   "outputs": [],
   "source": [
    "nodes_with_labels = pd.read_csv(data_dir + '/data/nodes_with_labels.csv')"
   ]
  },
  {
   "cell_type": "code",
   "execution_count": 10,
   "metadata": {},
   "outputs": [],
   "source": [
    "def get_labels(nodes_with_labels):\n",
    "    all_labels = set() \n",
    "    for idx, row in nodes_with_labels.iterrows():\n",
    "        node = row['node']\n",
    "        row_labels = [row['label']]\n",
    "        row_labels = row[\"label\"].split(\"=\")\n",
    "        row_labels = row_labels[1:-1]   \n",
    "        if len(row_labels) == 0:\n",
    "            continue\n",
    "        for rl in row_labels:\n",
    "            all_labels.add(rl)\n",
    "    all_labels.add('none')\n",
    "    all_labels.add('nan')\n",
    "    return list(all_labels)"
   ]
  },
  {
   "cell_type": "code",
   "execution_count": 11,
   "metadata": {},
   "outputs": [],
   "source": [
    "#features = get_labels(nodes_with_labels)"
   ]
  },
  {
   "cell_type": "code",
   "execution_count": 12,
   "metadata": {},
   "outputs": [
    {
     "data": {
      "text/plain": [
       "['w-1431', 'w-280', 'w-905']"
      ]
     },
     "execution_count": 12,
     "metadata": {},
     "output_type": "execute_result"
    }
   ],
   "source": [
    "features[:3]"
   ]
  },
  {
   "cell_type": "code",
   "execution_count": 13,
   "metadata": {},
   "outputs": [],
   "source": [
    "def get_train_test(vectors, nodes_with_labels, x):\n",
    "    X_train = []\n",
    "    y_train = []\n",
    "    X_test = []\n",
    "    y_test = []\n",
    "    labels = {}\n",
    "    \n",
    "    for idx, row in nodes_with_labels.iterrows():\n",
    "        node = row['node']\n",
    "        row_labels = [row['label']]\n",
    "        vals = vectors[str(node)]\n",
    "        features = {}\n",
    "        for i, v in enumerate(vals):\n",
    "            features[\"f\"+str(i)] = v[x] \n",
    "        if row['label'][:4] == 'None':\n",
    "            X_test.append(features)\n",
    "        else:\n",
    "            X_train.append(features)\n",
    "        # if multilabel:\n",
    "        row_labels = row[\"label\"].split(\"=\")\n",
    "        row_labels = row_labels[1:-1]   \n",
    "        if len(row_labels) == 0:\n",
    "            continue\n",
    "        for rl in row_labels:\n",
    "            if rl not in labels:\n",
    "                labels[rl] = len(labels)\n",
    "        enc_label = []\n",
    "        for rl in row_labels:\n",
    "            enc_label.append(labels[rl])\n",
    "        if row['label'][:4] == 'None':    \n",
    "            y_test.append(enc_label)\n",
    "        else:\n",
    "            y_train.append(enc_label)\n",
    "    X_train = pd.DataFrame(X_train)\n",
    "    X_test = pd.DataFrame(X_test)\n",
    "    return X_train, X_test, y_train, y_test"
   ]
  },
  {
   "cell_type": "code",
   "execution_count": 14,
   "metadata": {},
   "outputs": [],
   "source": [
    "# generate a dataset with labels from the trained embeddings\n",
    "def get_X_y(vectors, nodes_with_labels, x, multilabel=False):\n",
    "    \n",
    "    \n",
    "    \n",
    "    X = []\n",
    "    y = []\n",
    "    labels = {}\n",
    "    \n",
    "    for idx, row in nodes_with_labels.iterrows():\n",
    "        node = row['node']\n",
    "        row_labels = [row['label']]\n",
    "        vals = vectors[str(node)]\n",
    "        features = {}\n",
    "        for i, v in enumerate(vals):\n",
    "            features[\"f\"+str(i)] = v[x] \n",
    "        X.append(features)\n",
    "        if multilabel:\n",
    "            row_labels = row[\"label\"].split(\"=\")\n",
    "            row_labels = row_labels[1:-1]   \n",
    "        if len(row_labels) == 0:\n",
    "            continue\n",
    "        for rl in row_labels:\n",
    "            if rl not in labels:\n",
    "                labels[rl] = len(labels)\n",
    "        enc_label = []\n",
    "        for rl in row_labels:\n",
    "            enc_label.append(labels[rl])\n",
    "        y.append(enc_label)\n",
    "    X = pd.DataFrame(X)\n",
    "    return X, y"
   ]
  },
  {
   "cell_type": "code",
   "execution_count": 15,
   "metadata": {},
   "outputs": [],
   "source": [
    "if labelsamples:\n",
    "    X_rw_train, X_rw_test, y_rw_train, y_rw_test = get_train_test(rwalk_vectors, nodes_with_labels, x=x) \n",
    "else:\n",
    "    X_rw, y_rw = get_X_y(rwalk_vectors, nodes_with_labels, x=x, multilabel=multilabel)"
   ]
  },
  {
   "cell_type": "code",
   "execution_count": 16,
   "metadata": {},
   "outputs": [],
   "source": [
    "if labelsamples:\n",
    "    X_ns_train, X_ns_test, y_ns_train, y_ns_test = get_train_test(ns_vectors, nodes_with_labels, x=x) \n",
    "else:\n",
    "    X_ns, y_ns = get_X_y(ns_vectors, nodes_with_labels, x=x, multilabel=multilabel)"
   ]
  },
  {
   "cell_type": "code",
   "execution_count": 17,
   "metadata": {},
   "outputs": [],
   "source": [
    "if labelsamples:\n",
    "    X_mw_train, X_mw_test, y_mw_train, y_mw_test = get_train_test(minwise_vectors, nodes_with_labels, x=x) \n",
    "else:\n",
    "    X_mw, y_mw = get_X_y(minwise_vectors, nodes_with_labels, x=x, multilabel=multilabel)"
   ]
  },
  {
   "cell_type": "code",
   "execution_count": 18,
   "metadata": {},
   "outputs": [],
   "source": [
    "if labelsamples:\n",
    "    X_l1_train, X_l1_test, y_l1_train, y_l1_test = get_train_test(l1_vectors, nodes_with_labels, x=x) \n",
    "else:\n",
    "    X_l1, y_l1 = get_X_y(l1_vectors, nodes_with_labels, x=x, multilabel=multilabel)"
   ]
  },
  {
   "cell_type": "code",
   "execution_count": 19,
   "metadata": {},
   "outputs": [],
   "source": [
    "if labelsamples:\n",
    "    X_l2_train, X_l2_test, y_l2_train, y_l2_test = get_train_test(l2_vectors, nodes_with_labels, x=x) \n",
    "else:\n",
    "    X_l2, y_l2 = get_X_y(l2_vectors, nodes_with_labels, x=x, multilabel=multilabel)"
   ]
  },
  {
   "cell_type": "code",
   "execution_count": 20,
   "metadata": {},
   "outputs": [
    {
     "data": {
      "text/plain": [
       "(178, 80, 136)"
      ]
     },
     "execution_count": 20,
     "metadata": {},
     "output_type": "execute_result"
    }
   ],
   "source": [
    "len(set(X_ns[\"f20\"])), len(set(X_l1[\"f20\"])), len(set(X_l2[\"f20\"]))"
   ]
  },
  {
   "cell_type": "code",
   "execution_count": 22,
   "metadata": {},
   "outputs": [
    {
     "name": "stdout",
     "output_type": "stream",
     "text": [
      "742 174 67 74 114\n",
      "734 109 78 89 118\n",
      "730 173 89 59 137\n",
      "758 173 88 104 118\n",
      "746 162 70 100 97\n",
      "734 157 90 96 123\n",
      "727 174 79 60 128\n",
      "761 159 56 101 115\n",
      "732 189 55 100 79\n",
      "743 184 98 79 137\n"
     ]
    }
   ],
   "source": [
    "# just a test\n",
    "for i in range(10):\n",
    "     print(len(set(X_rw[\"f\"+str(i)])), len(set(X_ns[\"f\"+str(i)])), len(set(X_mw[\"f\"+str(i)])), \\\n",
    "       len(set(X_l1[\"f\"+str(i)])), len(set(X_l2[\"f\"+str(i)]))) "
   ]
  },
  {
   "cell_type": "code",
   "execution_count": 23,
   "metadata": {},
   "outputs": [],
   "source": [
    "# for testing purposes\n",
    "def my_prec_recall(y_true, y_pred):\n",
    "    tp = 0\n",
    "    fp = 0\n",
    "    fn = 0\n",
    "    for yt, yp in zip(y_true, y_pred):\n",
    "        if yt == 1 and yp == 1:\n",
    "            tp += 1\n",
    "        if yt == 1 and yp == 0:\n",
    "            fn += 1\n",
    "        if yt == 0 and yp == 1:\n",
    "            fp += 1\n",
    "    return tp/(tp+fp), tp/(tp+fn)\n",
    "        "
   ]
  },
  {
   "cell_type": "code",
   "execution_count": 24,
   "metadata": {},
   "outputs": [],
   "source": [
    "def plot_label_distribution(y):\n",
    "    counts = {}\n",
    "    for labels_i in y:\n",
    "        for l_i in labels_i:\n",
    "            counts.setdefault(l_i, 0)\n",
    "            counts[l_i] += 1\n",
    "    \n",
    "    top_counts = sorted([(cnt, lbl) for lbl, cnt in counts.items()], reverse=True)\n",
    "    plt.bar([i for i in range(len(top_counts))], [c for c, _ in top_counts], alpha=0.7)"
   ]
  },
  {
   "cell_type": "code",
   "execution_count": 25,
   "metadata": {},
   "outputs": [],
   "source": [
    "def one_hot(y, top=10):\n",
    "    \n",
    "    counts = {}\n",
    "    for labels_i in y:\n",
    "        for l_i in labels_i:\n",
    "            counts.setdefault(l_i, 0)\n",
    "            counts[l_i] += 1\n",
    "    \n",
    "    top_counts = sorted([(cnt, lbl) for lbl, cnt in counts.items()], reverse=True)[:top]\n",
    "    labels = {cnt_lbl[1]: i for i,cnt_lbl in enumerate(top_counts)}\n",
    "        \n",
    "    top = min(top, len(counts)-1)\n",
    "    \n",
    "    encoded = np.zeros((len(y), top+1))\n",
    "    for i, labels_i in enumerate(y):\n",
    "        for l_i in labels_i:\n",
    "            if l_i in labels:\n",
    "                encoded[i, labels[l_i]] = 1\n",
    "            else:\n",
    "                encoded[i, top] = 1\n",
    "            \n",
    "    return encoded"
   ]
  },
  {
   "cell_type": "code",
   "execution_count": 26,
   "metadata": {},
   "outputs": [
    {
     "data": {
      "text/plain": [
       "1435"
      ]
     },
     "execution_count": 26,
     "metadata": {},
     "output_type": "execute_result"
    }
   ],
   "source": [
    "len(features)"
   ]
  },
  {
   "cell_type": "code",
   "execution_count": 36,
   "metadata": {},
   "outputs": [],
   "source": [
    "def multilabel_classification(X, y, features, top_classes, res_path):\n",
    "\n",
    "    y = one_hot(y, top_classes) \n",
    "    \n",
    "\n",
    "    label_encoder = LabelEncoder()\n",
    "    label_encoder.fit(features)\n",
    "    \n",
    "    X = copy.deepcopy(X)\n",
    "    for c in X.columns: \n",
    "        X.loc[:, c] = label_encoder.transform([str(x) for x in X[c]])\n",
    "        \n",
    "    f1_micros = []\n",
    "    f1_macros = []\n",
    "    nr_iters = 10\n",
    "    for i in range(nr_iters):    \n",
    "        print('Iter', i)\n",
    "        X_train, X_test, y_train, y_test = train_test_split(X, y, train_size=0.8, random_state=i)\n",
    "        \n",
    "        model = tree.DecisionTreeClassifier() \n",
    "        model = OneVsRestClassifier(model)\n",
    "        model.fit(X_train, y_train)\n",
    "\n",
    "        y_pred = model.predict_proba(X_test)\n",
    "        y_pred_abs = model.predict(X_test)\n",
    "        \n",
    "        f1_micro = f1_score(y_test, y_pred_abs, average='micro')\n",
    "        f1_macro = f1_score(y_test, y_pred_abs, average='macro')\n",
    "        print(\"F1\", f1_micro, f1_macro)\n",
    "        f1_micros.append(f1_micro)\n",
    "        f1_macros.append(f1_macro)\n",
    "        \n",
    "    print('Micro F1', np.mean(f1_micros), np.std(f1_micros))\n",
    "    print('Macro F1', np.mean(f1_macros), np.std(f1_macros))\n",
    "#     print('Macro AUC', np.mean(macros))\n",
    "#     print('Accuracy', np.mean(accs))\n",
    "    \n",
    "    with open(res_path + \"_emb_micro_F1.txt\", \"w\") as f:\n",
    "        f.write(str(np.mean(f1_micros)) + \" \" + str(np.std(f1_micros)))\n",
    "        \n",
    "    with open(res_path + \"_emb_macro_F1.txt\", \"w\") as f:\n",
    "        f.write(str(np.mean(f1_macros)) + \" \" + str(np.std(f1_macros)))\n",
    "    "
   ]
  },
  {
   "cell_type": "code",
   "execution_count": 37,
   "metadata": {},
   "outputs": [
    {
     "data": {
      "image/png": "[encoded data removed]",
      "text/plain": [
       "<Figure size 432x288 with 1 Axes>"
      ]
     },
     "metadata": {
      "needs_background": "light"
     },
     "output_type": "display_data"
    }
   ],
   "source": [
    "plot_label_distribution(y_l1)"
   ]
  },
  {
   "cell_type": "code",
   "execution_count": 38,
   "metadata": {},
   "outputs": [],
   "source": [
    "top_classes=30"
   ]
  },
  {
   "cell_type": "code",
   "execution_count": 39,
   "metadata": {},
   "outputs": [
    {
     "name": "stdout",
     "output_type": "stream",
     "text": [
      "Iter 0\n",
      "F1 0.22994652406417113 0.19334052262166426\n",
      "Iter 1\n",
      "F1 0.24006908462867013 0.19776275808744034\n",
      "Iter 2\n",
      "F1 0.2147186147186147 0.19136483821581488\n",
      "Iter 3\n",
      "F1 0.23188405797101447 0.1941301378261056\n",
      "Iter 4\n",
      "F1 0.23529411764705882 0.19127862338020513\n",
      "Iter 5\n",
      "F1 0.24910394265232977 0.21365514865268492\n",
      "Iter 6\n",
      "F1 0.23801652892561984 0.19623408155594885\n",
      "Iter 7\n",
      "F1 0.21853146853146851 0.181040915765225\n",
      "Iter 8\n",
      "F1 0.22067767158992177 0.18798324421881046\n",
      "Iter 9\n",
      "F1 0.21071115013169447 0.1771850053945848\n",
      "Micro F1 0.22889531608605637 0.011721784261817142\n",
      "Macro F1 0.19239752757184841 0.009388717862781056\n"
     ]
    }
   ],
   "source": [
    "res_path = data_dir + \"/results/rwalk_\" + str(emb_size) + \"_hop_\" + str(hop) \n",
    "multilabel_classification(X_rw, y_rw, features, top_classes, res_path)"
   ]
  },
  {
   "cell_type": "code",
   "execution_count": 41,
   "metadata": {},
   "outputs": [
    {
     "name": "stdout",
     "output_type": "stream",
     "text": [
      "Iter 0\n",
      "F1 0.6402164111812444 0.6258233621278663\n",
      "Iter 1\n",
      "F1 0.6619090098126673 0.6351770824112374\n",
      "Iter 2\n",
      "F1 0.6794520547945206 0.6494466050765989\n",
      "Iter 3\n",
      "F1 0.6954954954954955 0.6670159569214765\n",
      "Iter 4\n",
      "F1 0.6648451730418944 0.6445712807813928\n",
      "Iter 5\n",
      "F1 0.6528028933092224 0.633015779145149\n",
      "Iter 6\n",
      "F1 0.6509945750452079 0.6340040223894691\n",
      "Iter 7\n",
      "F1 0.653169014084507 0.6270856355851923\n",
      "Iter 8\n",
      "F1 0.6383363471971066 0.6234487787992177\n",
      "Iter 9\n",
      "F1 0.6756756756756757 0.6408733527172494\n",
      "Micro F1 0.6612896649637541 0.017131228030700392\n",
      "Macro F1 0.6380461855954849 0.0124590454565792\n"
     ]
    }
   ],
   "source": [
    "res_path = data_dir + \"/results/nodesketch_\" + str(emb_size) + \"_hop_\" + str(hop)\n",
    "multilabel_classification(X_ns, y_ns, features, top_classes, res_path)"
   ]
  },
  {
   "cell_type": "code",
   "execution_count": 42,
   "metadata": {},
   "outputs": [
    {
     "name": "stdout",
     "output_type": "stream",
     "text": [
      "Iter 0\n",
      "F1 0.6544454628780935 0.6359895792393088\n",
      "Iter 1\n",
      "F1 0.7028518859245629 0.6867613143823625\n",
      "Iter 2\n",
      "F1 0.6703196347031963 0.658551347664572\n",
      "Iter 3\n",
      "F1 0.6925260170293283 0.6728242138769674\n",
      "Iter 4\n",
      "F1 0.6720142602495544 0.6515761818645759\n",
      "Iter 5\n",
      "F1 0.6612466124661247 0.6512755375617517\n",
      "Iter 6\n",
      "F1 0.7085285848172447 0.6912666641372478\n",
      "Iter 7\n",
      "F1 0.6691042047531992 0.6441400070469283\n",
      "Iter 8\n",
      "F1 0.6769790718835305 0.6486888904704063\n",
      "Iter 9\n",
      "F1 0.7060931899641577 0.6926363023585267\n",
      "Micro F1 0.6814108924668992 0.018557985115508022\n",
      "Macro F1 0.6633710038602648 0.019786057433088356\n"
     ]
    }
   ],
   "source": [
    "res_path = data_dir + \"/results/minwise_\" + str(emb_size) + \"_hop_\" + str(hop)\n",
    "multilabel_classification(X_mw, y_mw, features, top_classes, res_path)"
   ]
  },
  {
   "cell_type": "code",
   "execution_count": 43,
   "metadata": {},
   "outputs": [
    {
     "name": "stdout",
     "output_type": "stream",
     "text": [
      "Iter 0\n",
      "F1 0.630357142857143 0.6120557695069184\n",
      "Iter 1\n",
      "F1 0.6781504986400725 0.6680042334159798\n",
      "Iter 2\n",
      "F1 0.6672661870503597 0.6515438332442968\n",
      "Iter 3\n",
      "F1 0.6937269372693727 0.6816097990400393\n",
      "Iter 4\n",
      "F1 0.6454545454545455 0.6348670213266886\n",
      "Iter 5\n",
      "F1 0.6721014492753623 0.6668334304873281\n",
      "Iter 6\n",
      "F1 0.6478375992939099 0.6392052798208222\n",
      "Iter 7\n",
      "F1 0.6696997270245678 0.6635634566820812\n",
      "Iter 8\n",
      "F1 0.6336633663366336 0.6137157281029406\n",
      "Iter 9\n",
      "F1 0.6325581395348837 0.6247231735466526\n",
      "Micro F1 0.6570815592736851 0.02088053731554326\n",
      "Macro F1 0.6456121725173748 0.023111210859534506\n"
     ]
    }
   ],
   "source": [
    "res_path = data_dir + \"/results/l1_\" + str(emb_size) + \"_hop_\" + str(hop) \n",
    "multilabel_classification(X_l1, y_l1, features, top_classes, res_path)"
   ]
  },
  {
   "cell_type": "code",
   "execution_count": 44,
   "metadata": {},
   "outputs": [
    {
     "name": "stdout",
     "output_type": "stream",
     "text": [
      "Iter 0\n",
      "F1 0.5800548947849954 0.5541054493714795\n",
      "Iter 1\n",
      "F1 0.669683257918552 0.6534102244267836\n",
      "Iter 2\n",
      "F1 0.6330935251798562 0.607649922128175\n",
      "Iter 3\n",
      "F1 0.6155268022181146 0.589696143605915\n",
      "Iter 4\n",
      "F1 0.6144144144144145 0.5961569584237003\n",
      "Iter 5\n",
      "F1 0.5923217550274223 0.5840907331639132\n",
      "Iter 6\n",
      "F1 0.641139804096171 0.6259416458970504\n",
      "Iter 7\n",
      "F1 0.6427255985267035 0.6371131267467603\n",
      "Iter 8\n",
      "F1 0.6237350505979761 0.6085316443071924\n",
      "Iter 9\n",
      "F1 0.6077348066298343 0.5926966574128479\n",
      "Micro F1 0.6220429909394041 0.024776527311913567\n",
      "Macro F1 0.6049392505483818 0.027062973473347636\n"
     ]
    }
   ],
   "source": [
    "res_path = data_dir + \"/results/l2_\" + str(emb_size) + \"_hop_\" + str(hop) \n",
    "multilabel_classification(X_l2, y_l2, features, top_classes, res_path)"
   ]
  },
  {
   "cell_type": "code",
   "execution_count": null,
   "metadata": {},
   "outputs": [],
   "source": []
  },
  {
   "cell_type": "code",
   "execution_count": null,
   "metadata": {},
   "outputs": [],
   "source": []
  },
  {
   "cell_type": "markdown",
   "metadata": {},
   "source": [
    "# Interpretability"
   ]
  },
  {
   "cell_type": "code",
   "execution_count": 38,
   "metadata": {},
   "outputs": [],
   "source": [
    "def get_distr(X, y, labels, index):\n",
    "    \n",
    "    for label in labels:\n",
    "        X_label = X.iloc[[i for i, y_i in enumerate(y) if y_i[0]==label], :]\n",
    "        # X_neg = X.iloc[[i for i, y_i in enumerate(y) if y_i==0], :]\n",
    "        print(X_label.shape)\n",
    "\n",
    "        dict_label = Counter(X_label.iloc[:, index])\n",
    "        # dict_neg = Counter(X_neg.iloc[:, idx])\n",
    "\n",
    "        top_pos = sorted([(cnt/X_label.shape[0], k) for k, cnt in dict_label.items()], reverse=True)[:10]\n",
    "        plt.bar([i for i in range(len(top_pos))], [c for c, _ in top_pos], alpha=0.7)\n",
    "        plt.xticks(np.arange(len(top_pos)), [n[2:] for cnt, n in top_pos], rotation=90, size=12)\n",
    "        # plt.yscale('log')\n",
    "        plt.ylim([0,0.3])\n",
    "        plt.tight_layout()\n",
    "        plt.savefig(\"/home/koki2/Dropbox/Research/DAMI/figures/pubmed_class_distr_\" + \\\n",
    "                    str(int(label)) + \".png\")\n",
    "        plt.show()\n",
    "    "
   ]
  },
  {
   "cell_type": "code",
   "execution_count": 39,
   "metadata": {},
   "outputs": [
    {
     "name": "stdout",
     "output_type": "stream",
     "text": [
      "(818, 50)\n"
     ]
    },
    {
     "data": {
      "image/png": "[encoded data removed]",
      "text/plain": [
       "<Figure size 432x288 with 1 Axes>"
      ]
     },
     "metadata": {
      "needs_background": "light"
     },
     "output_type": "display_data"
    },
    {
     "name": "stdout",
     "output_type": "stream",
     "text": [
      "(180, 50)\n"
     ]
    },
    {
     "data": {
      "image/png": "[encoded data removed]",
      "text/plain": [
       "<Figure size 432x288 with 1 Axes>"
      ]
     },
     "metadata": {
      "needs_background": "light"
     },
     "output_type": "display_data"
    },
    {
     "name": "stdout",
     "output_type": "stream",
     "text": [
      "(217, 50)\n"
     ]
    },
    {
     "data": {
      "image/png": "[encoded data removed]",
      "text/plain": [
       "<Figure size 432x288 with 1 Axes>"
      ]
     },
     "metadata": {
      "needs_background": "light"
     },
     "output_type": "display_data"
    }
   ],
   "source": [
    "get_distr(X_l2, y_l2, labels=[0,1,2], index=9)"
   ]
  },
  {
   "cell_type": "code",
   "execution_count": null,
   "metadata": {},
   "outputs": [],
   "source": []
  },
  {
   "cell_type": "code",
   "execution_count": null,
   "metadata": {},
   "outputs": [],
   "source": []
  },
  {
   "cell_type": "code",
   "execution_count": null,
   "metadata": {},
   "outputs": [],
   "source": []
  },
  {
   "cell_type": "code",
   "execution_count": null,
   "metadata": {},
   "outputs": [],
   "source": []
  },
  {
   "cell_type": "code",
   "execution_count": null,
   "metadata": {},
   "outputs": [],
   "source": []
  }
 ],
 "metadata": {
  "kernelspec": {
   "display_name": "Python 3",
   "language": "python",
   "name": "python3"
  },
  "language_info": {
   "codemirror_mode": {
    "name": "ipython",
    "version": 3
   },
   "file_extension": ".py",
   "mimetype": "text/x-python",
   "name": "python",
   "nbconvert_exporter": "python",
   "pygments_lexer": "ipython3",
   "version": "3.7.5"
  }
 },
 "nbformat": 4,
 "nbformat_minor": 4
}
